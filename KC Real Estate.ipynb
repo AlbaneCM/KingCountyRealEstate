{
 "cells": [
  {
   "cell_type": "markdown",
   "id": "cb592fa1",
   "metadata": {},
   "source": [
    "# King County Real Estate"
   ]
  },
  {
   "cell_type": "markdown",
   "id": "249ad9e0",
   "metadata": {},
   "source": [
    "## Overview"
   ]
  },
  {
   "cell_type": "markdown",
   "id": "9f3572d0",
   "metadata": {},
   "source": [
    "This notebook examines King County, WA dataset of houses and reviews how and what renovations add value to a house. "
   ]
  },
  {
   "cell_type": "markdown",
   "id": "8dfc069d",
   "metadata": {},
   "source": [
    "## Business Problem"
   ]
  },
  {
   "cell_type": "markdown",
   "id": "e31b931b",
   "metadata": {},
   "source": [
    "The goal is to provide advice to homeowners about how home renovations might increase the estimated value of their homes, and by what amount"
   ]
  },
  {
   "cell_type": "markdown",
   "id": "2b55e375",
   "metadata": {},
   "source": [
    "## Data Understanding"
   ]
  },
  {
   "cell_type": "code",
   "execution_count": null,
   "id": "85ae8385",
   "metadata": {},
   "outputs": [],
   "source": []
  },
  {
   "cell_type": "markdown",
   "id": "2d7f2799",
   "metadata": {},
   "source": [
    "### 1. Load the data using pandas"
   ]
  },
  {
   "cell_type": "code",
   "execution_count": 2,
   "id": "44431935",
   "metadata": {},
   "outputs": [],
   "source": [
    "import pandas as pd\n",
    "import numpy as np\n",
    "import matplotlib.pyplot as plt \n",
    "import seaborn as sns\n",
    "import sqlite3\n",
    "import warnings\n",
    "import statsmodels.api as sm\n",
    "from sklearn.metrics import mean_absolute_error\n",
    "\n",
    "%matplotlib inline"
   ]
  },
  {
   "cell_type": "code",
   "execution_count": 3,
   "id": "3753894b",
   "metadata": {},
   "outputs": [],
   "source": [
    "kc_house_df = pd.read_csv(\"data/kc_house_data.csv\")"
   ]
  },
  {
   "cell_type": "markdown",
   "id": "05569287",
   "metadata": {},
   "source": [
    "### 2. Data Cleaning"
   ]
  },
  {
   "cell_type": "code",
   "execution_count": 4,
   "id": "43c28bb5",
   "metadata": {},
   "outputs": [],
   "source": [
    "# Dropping null values\n",
    "kc_house_df.dropna(inplace=True)"
   ]
  },
  {
   "cell_type": "code",
   "execution_count": 5,
   "id": "43c79af8",
   "metadata": {},
   "outputs": [
    {
     "name": "stdout",
     "output_type": "stream",
     "text": [
      "<class 'pandas.core.frame.DataFrame'>\n",
      "Int64Index: 30111 entries, 0 to 30154\n",
      "Data columns (total 25 columns):\n",
      " #   Column         Non-Null Count  Dtype  \n",
      "---  ------         --------------  -----  \n",
      " 0   id             30111 non-null  int64  \n",
      " 1   date           30111 non-null  object \n",
      " 2   price          30111 non-null  float64\n",
      " 3   bedrooms       30111 non-null  int64  \n",
      " 4   bathrooms      30111 non-null  float64\n",
      " 5   sqft_living    30111 non-null  int64  \n",
      " 6   sqft_lot       30111 non-null  int64  \n",
      " 7   floors         30111 non-null  float64\n",
      " 8   waterfront     30111 non-null  object \n",
      " 9   greenbelt      30111 non-null  object \n",
      " 10  nuisance       30111 non-null  object \n",
      " 11  view           30111 non-null  object \n",
      " 12  condition      30111 non-null  object \n",
      " 13  grade          30111 non-null  object \n",
      " 14  heat_source    30111 non-null  object \n",
      " 15  sewer_system   30111 non-null  object \n",
      " 16  sqft_above     30111 non-null  int64  \n",
      " 17  sqft_basement  30111 non-null  int64  \n",
      " 18  sqft_garage    30111 non-null  int64  \n",
      " 19  sqft_patio     30111 non-null  int64  \n",
      " 20  yr_built       30111 non-null  int64  \n",
      " 21  yr_renovated   30111 non-null  int64  \n",
      " 22  address        30111 non-null  object \n",
      " 23  lat            30111 non-null  float64\n",
      " 24  long           30111 non-null  float64\n",
      "dtypes: float64(5), int64(10), object(10)\n",
      "memory usage: 6.0+ MB\n"
     ]
    }
   ],
   "source": [
    "kc_house_df.info()"
   ]
  },
  {
   "cell_type": "code",
   "execution_count": 6,
   "id": "9988a5c6",
   "metadata": {},
   "outputs": [
    {
     "data": {
      "text/html": [
       "<div>\n",
       "<style scoped>\n",
       "    .dataframe tbody tr th:only-of-type {\n",
       "        vertical-align: middle;\n",
       "    }\n",
       "\n",
       "    .dataframe tbody tr th {\n",
       "        vertical-align: top;\n",
       "    }\n",
       "\n",
       "    .dataframe thead th {\n",
       "        text-align: right;\n",
       "    }\n",
       "</style>\n",
       "<table border=\"1\" class=\"dataframe\">\n",
       "  <thead>\n",
       "    <tr style=\"text-align: right;\">\n",
       "      <th></th>\n",
       "      <th>id</th>\n",
       "      <th>price</th>\n",
       "      <th>bedrooms</th>\n",
       "      <th>bathrooms</th>\n",
       "      <th>sqft_living</th>\n",
       "      <th>sqft_lot</th>\n",
       "      <th>floors</th>\n",
       "      <th>sqft_above</th>\n",
       "      <th>sqft_basement</th>\n",
       "      <th>sqft_garage</th>\n",
       "      <th>sqft_patio</th>\n",
       "      <th>yr_built</th>\n",
       "      <th>yr_renovated</th>\n",
       "      <th>lat</th>\n",
       "      <th>long</th>\n",
       "    </tr>\n",
       "  </thead>\n",
       "  <tbody>\n",
       "    <tr>\n",
       "      <th>count</th>\n",
       "      <td>3.011100e+04</td>\n",
       "      <td>3.011100e+04</td>\n",
       "      <td>30111.000000</td>\n",
       "      <td>30111.000000</td>\n",
       "      <td>30111.000000</td>\n",
       "      <td>3.011100e+04</td>\n",
       "      <td>30111.000000</td>\n",
       "      <td>30111.000000</td>\n",
       "      <td>30111.000000</td>\n",
       "      <td>30111.000000</td>\n",
       "      <td>30111.000000</td>\n",
       "      <td>30111.000000</td>\n",
       "      <td>30111.000000</td>\n",
       "      <td>30111.000000</td>\n",
       "      <td>30111.000000</td>\n",
       "    </tr>\n",
       "    <tr>\n",
       "      <th>mean</th>\n",
       "      <td>4.539171e+09</td>\n",
       "      <td>1.108971e+06</td>\n",
       "      <td>3.415197</td>\n",
       "      <td>2.335708</td>\n",
       "      <td>2113.342798</td>\n",
       "      <td>1.664880e+04</td>\n",
       "      <td>1.543506</td>\n",
       "      <td>1810.389658</td>\n",
       "      <td>476.617117</td>\n",
       "      <td>330.475308</td>\n",
       "      <td>217.451264</td>\n",
       "      <td>1975.162299</td>\n",
       "      <td>90.792767</td>\n",
       "      <td>47.328482</td>\n",
       "      <td>-121.318872</td>\n",
       "    </tr>\n",
       "    <tr>\n",
       "      <th>std</th>\n",
       "      <td>2.882236e+09</td>\n",
       "      <td>8.965158e+05</td>\n",
       "      <td>0.979755</td>\n",
       "      <td>0.888293</td>\n",
       "      <td>973.453260</td>\n",
       "      <td>5.993303e+04</td>\n",
       "      <td>0.567789</td>\n",
       "      <td>877.726339</td>\n",
       "      <td>579.805355</td>\n",
       "      <td>285.725020</td>\n",
       "      <td>245.301991</td>\n",
       "      <td>32.052930</td>\n",
       "      <td>416.197627</td>\n",
       "      <td>1.433309</td>\n",
       "      <td>5.724073</td>\n",
       "    </tr>\n",
       "    <tr>\n",
       "      <th>min</th>\n",
       "      <td>1.000055e+06</td>\n",
       "      <td>2.736000e+04</td>\n",
       "      <td>0.000000</td>\n",
       "      <td>0.000000</td>\n",
       "      <td>3.000000</td>\n",
       "      <td>4.020000e+02</td>\n",
       "      <td>1.000000</td>\n",
       "      <td>2.000000</td>\n",
       "      <td>0.000000</td>\n",
       "      <td>0.000000</td>\n",
       "      <td>0.000000</td>\n",
       "      <td>1900.000000</td>\n",
       "      <td>0.000000</td>\n",
       "      <td>21.274240</td>\n",
       "      <td>-157.791480</td>\n",
       "    </tr>\n",
       "    <tr>\n",
       "      <th>25%</th>\n",
       "      <td>2.070850e+09</td>\n",
       "      <td>6.492360e+05</td>\n",
       "      <td>3.000000</td>\n",
       "      <td>2.000000</td>\n",
       "      <td>1420.000000</td>\n",
       "      <td>4.850000e+03</td>\n",
       "      <td>1.000000</td>\n",
       "      <td>1180.000000</td>\n",
       "      <td>0.000000</td>\n",
       "      <td>0.000000</td>\n",
       "      <td>40.000000</td>\n",
       "      <td>1953.000000</td>\n",
       "      <td>0.000000</td>\n",
       "      <td>47.405348</td>\n",
       "      <td>-122.326075</td>\n",
       "    </tr>\n",
       "    <tr>\n",
       "      <th>50%</th>\n",
       "      <td>3.876000e+09</td>\n",
       "      <td>8.600000e+05</td>\n",
       "      <td>3.000000</td>\n",
       "      <td>2.500000</td>\n",
       "      <td>1920.000000</td>\n",
       "      <td>7.477000e+03</td>\n",
       "      <td>1.500000</td>\n",
       "      <td>1560.000000</td>\n",
       "      <td>0.000000</td>\n",
       "      <td>400.000000</td>\n",
       "      <td>150.000000</td>\n",
       "      <td>1977.000000</td>\n",
       "      <td>0.000000</td>\n",
       "      <td>47.551440</td>\n",
       "      <td>-122.225790</td>\n",
       "    </tr>\n",
       "    <tr>\n",
       "      <th>75%</th>\n",
       "      <td>7.287100e+09</td>\n",
       "      <td>1.300000e+06</td>\n",
       "      <td>4.000000</td>\n",
       "      <td>3.000000</td>\n",
       "      <td>2620.000000</td>\n",
       "      <td>1.056800e+04</td>\n",
       "      <td>2.000000</td>\n",
       "      <td>2270.000000</td>\n",
       "      <td>940.000000</td>\n",
       "      <td>510.000000</td>\n",
       "      <td>320.000000</td>\n",
       "      <td>2003.000000</td>\n",
       "      <td>0.000000</td>\n",
       "      <td>47.669917</td>\n",
       "      <td>-122.116394</td>\n",
       "    </tr>\n",
       "    <tr>\n",
       "      <th>max</th>\n",
       "      <td>9.904000e+09</td>\n",
       "      <td>3.075000e+07</td>\n",
       "      <td>13.000000</td>\n",
       "      <td>10.500000</td>\n",
       "      <td>15360.000000</td>\n",
       "      <td>3.253932e+06</td>\n",
       "      <td>4.000000</td>\n",
       "      <td>12660.000000</td>\n",
       "      <td>8020.000000</td>\n",
       "      <td>3580.000000</td>\n",
       "      <td>4370.000000</td>\n",
       "      <td>2022.000000</td>\n",
       "      <td>2022.000000</td>\n",
       "      <td>64.824070</td>\n",
       "      <td>-70.074340</td>\n",
       "    </tr>\n",
       "  </tbody>\n",
       "</table>\n",
       "</div>"
      ],
      "text/plain": [
       "                 id         price      bedrooms     bathrooms   sqft_living  \\\n",
       "count  3.011100e+04  3.011100e+04  30111.000000  30111.000000  30111.000000   \n",
       "mean   4.539171e+09  1.108971e+06      3.415197      2.335708   2113.342798   \n",
       "std    2.882236e+09  8.965158e+05      0.979755      0.888293    973.453260   \n",
       "min    1.000055e+06  2.736000e+04      0.000000      0.000000      3.000000   \n",
       "25%    2.070850e+09  6.492360e+05      3.000000      2.000000   1420.000000   \n",
       "50%    3.876000e+09  8.600000e+05      3.000000      2.500000   1920.000000   \n",
       "75%    7.287100e+09  1.300000e+06      4.000000      3.000000   2620.000000   \n",
       "max    9.904000e+09  3.075000e+07     13.000000     10.500000  15360.000000   \n",
       "\n",
       "           sqft_lot        floors    sqft_above  sqft_basement   sqft_garage  \\\n",
       "count  3.011100e+04  30111.000000  30111.000000   30111.000000  30111.000000   \n",
       "mean   1.664880e+04      1.543506   1810.389658     476.617117    330.475308   \n",
       "std    5.993303e+04      0.567789    877.726339     579.805355    285.725020   \n",
       "min    4.020000e+02      1.000000      2.000000       0.000000      0.000000   \n",
       "25%    4.850000e+03      1.000000   1180.000000       0.000000      0.000000   \n",
       "50%    7.477000e+03      1.500000   1560.000000       0.000000    400.000000   \n",
       "75%    1.056800e+04      2.000000   2270.000000     940.000000    510.000000   \n",
       "max    3.253932e+06      4.000000  12660.000000    8020.000000   3580.000000   \n",
       "\n",
       "         sqft_patio      yr_built  yr_renovated           lat          long  \n",
       "count  30111.000000  30111.000000  30111.000000  30111.000000  30111.000000  \n",
       "mean     217.451264   1975.162299     90.792767     47.328482   -121.318872  \n",
       "std      245.301991     32.052930    416.197627      1.433309      5.724073  \n",
       "min        0.000000   1900.000000      0.000000     21.274240   -157.791480  \n",
       "25%       40.000000   1953.000000      0.000000     47.405348   -122.326075  \n",
       "50%      150.000000   1977.000000      0.000000     47.551440   -122.225790  \n",
       "75%      320.000000   2003.000000      0.000000     47.669917   -122.116394  \n",
       "max     4370.000000   2022.000000   2022.000000     64.824070    -70.074340  "
      ]
     },
     "execution_count": 6,
     "metadata": {},
     "output_type": "execute_result"
    }
   ],
   "source": [
    "kc_house_df.describe()"
   ]
  },
  {
   "cell_type": "markdown",
   "id": "ed663ce2",
   "metadata": {},
   "source": [
    "The dataset has:\n",
    "- 25 columns: 10 integers, 5 float, 10 objects.\n",
    "- 30155 rows. 'heat_source' is the field with the highest amount of null-values: 32. Dropping them allows to keep 99.9% of the data, they were dropped without deteriorating. \n",
    "\n"
   ]
  },
  {
   "cell_type": "code",
   "execution_count": 7,
   "id": "64a2f0d4",
   "metadata": {
    "scrolled": true
   },
   "outputs": [
    {
     "data": {
      "text/html": [
       "<div>\n",
       "<style scoped>\n",
       "    .dataframe tbody tr th:only-of-type {\n",
       "        vertical-align: middle;\n",
       "    }\n",
       "\n",
       "    .dataframe tbody tr th {\n",
       "        vertical-align: top;\n",
       "    }\n",
       "\n",
       "    .dataframe thead th {\n",
       "        text-align: right;\n",
       "    }\n",
       "</style>\n",
       "<table border=\"1\" class=\"dataframe\">\n",
       "  <thead>\n",
       "    <tr style=\"text-align: right;\">\n",
       "      <th></th>\n",
       "      <th>id</th>\n",
       "      <th>date</th>\n",
       "      <th>price</th>\n",
       "      <th>bedrooms</th>\n",
       "      <th>bathrooms</th>\n",
       "      <th>sqft_living</th>\n",
       "      <th>sqft_lot</th>\n",
       "      <th>floors</th>\n",
       "      <th>waterfront</th>\n",
       "      <th>greenbelt</th>\n",
       "      <th>...</th>\n",
       "      <th>sewer_system</th>\n",
       "      <th>sqft_above</th>\n",
       "      <th>sqft_basement</th>\n",
       "      <th>sqft_garage</th>\n",
       "      <th>sqft_patio</th>\n",
       "      <th>yr_built</th>\n",
       "      <th>yr_renovated</th>\n",
       "      <th>address</th>\n",
       "      <th>lat</th>\n",
       "      <th>long</th>\n",
       "    </tr>\n",
       "  </thead>\n",
       "  <tbody>\n",
       "    <tr>\n",
       "      <th>0</th>\n",
       "      <td>7399300360</td>\n",
       "      <td>5/24/2022</td>\n",
       "      <td>675000.0</td>\n",
       "      <td>4</td>\n",
       "      <td>1.0</td>\n",
       "      <td>1180</td>\n",
       "      <td>7140</td>\n",
       "      <td>1.0</td>\n",
       "      <td>NO</td>\n",
       "      <td>NO</td>\n",
       "      <td>...</td>\n",
       "      <td>PUBLIC</td>\n",
       "      <td>1180</td>\n",
       "      <td>0</td>\n",
       "      <td>0</td>\n",
       "      <td>40</td>\n",
       "      <td>1969</td>\n",
       "      <td>0</td>\n",
       "      <td>2102 Southeast 21st Court, Renton, Washington ...</td>\n",
       "      <td>47.461975</td>\n",
       "      <td>-122.19052</td>\n",
       "    </tr>\n",
       "    <tr>\n",
       "      <th>1</th>\n",
       "      <td>8910500230</td>\n",
       "      <td>12/13/2021</td>\n",
       "      <td>920000.0</td>\n",
       "      <td>5</td>\n",
       "      <td>2.5</td>\n",
       "      <td>2770</td>\n",
       "      <td>6703</td>\n",
       "      <td>1.0</td>\n",
       "      <td>NO</td>\n",
       "      <td>NO</td>\n",
       "      <td>...</td>\n",
       "      <td>PUBLIC</td>\n",
       "      <td>1570</td>\n",
       "      <td>1570</td>\n",
       "      <td>0</td>\n",
       "      <td>240</td>\n",
       "      <td>1950</td>\n",
       "      <td>0</td>\n",
       "      <td>11231 Greenwood Avenue North, Seattle, Washing...</td>\n",
       "      <td>47.711525</td>\n",
       "      <td>-122.35591</td>\n",
       "    </tr>\n",
       "    <tr>\n",
       "      <th>2</th>\n",
       "      <td>1180000275</td>\n",
       "      <td>9/29/2021</td>\n",
       "      <td>311000.0</td>\n",
       "      <td>6</td>\n",
       "      <td>2.0</td>\n",
       "      <td>2880</td>\n",
       "      <td>6156</td>\n",
       "      <td>1.0</td>\n",
       "      <td>NO</td>\n",
       "      <td>NO</td>\n",
       "      <td>...</td>\n",
       "      <td>PUBLIC</td>\n",
       "      <td>1580</td>\n",
       "      <td>1580</td>\n",
       "      <td>0</td>\n",
       "      <td>0</td>\n",
       "      <td>1956</td>\n",
       "      <td>0</td>\n",
       "      <td>8504 South 113th Street, Seattle, Washington 9...</td>\n",
       "      <td>47.502045</td>\n",
       "      <td>-122.22520</td>\n",
       "    </tr>\n",
       "    <tr>\n",
       "      <th>3</th>\n",
       "      <td>1604601802</td>\n",
       "      <td>12/14/2021</td>\n",
       "      <td>775000.0</td>\n",
       "      <td>3</td>\n",
       "      <td>3.0</td>\n",
       "      <td>2160</td>\n",
       "      <td>1400</td>\n",
       "      <td>2.0</td>\n",
       "      <td>NO</td>\n",
       "      <td>NO</td>\n",
       "      <td>...</td>\n",
       "      <td>PUBLIC</td>\n",
       "      <td>1090</td>\n",
       "      <td>1070</td>\n",
       "      <td>200</td>\n",
       "      <td>270</td>\n",
       "      <td>2010</td>\n",
       "      <td>0</td>\n",
       "      <td>4079 Letitia Avenue South, Seattle, Washington...</td>\n",
       "      <td>47.566110</td>\n",
       "      <td>-122.29020</td>\n",
       "    </tr>\n",
       "    <tr>\n",
       "      <th>4</th>\n",
       "      <td>8562780790</td>\n",
       "      <td>8/24/2021</td>\n",
       "      <td>592500.0</td>\n",
       "      <td>2</td>\n",
       "      <td>2.0</td>\n",
       "      <td>1120</td>\n",
       "      <td>758</td>\n",
       "      <td>2.0</td>\n",
       "      <td>NO</td>\n",
       "      <td>NO</td>\n",
       "      <td>...</td>\n",
       "      <td>PUBLIC</td>\n",
       "      <td>1120</td>\n",
       "      <td>550</td>\n",
       "      <td>550</td>\n",
       "      <td>30</td>\n",
       "      <td>2012</td>\n",
       "      <td>0</td>\n",
       "      <td>2193 Northwest Talus Drive, Issaquah, Washingt...</td>\n",
       "      <td>47.532470</td>\n",
       "      <td>-122.07188</td>\n",
       "    </tr>\n",
       "  </tbody>\n",
       "</table>\n",
       "<p>5 rows × 25 columns</p>\n",
       "</div>"
      ],
      "text/plain": [
       "           id        date     price  bedrooms  bathrooms  sqft_living  \\\n",
       "0  7399300360   5/24/2022  675000.0         4        1.0         1180   \n",
       "1  8910500230  12/13/2021  920000.0         5        2.5         2770   \n",
       "2  1180000275   9/29/2021  311000.0         6        2.0         2880   \n",
       "3  1604601802  12/14/2021  775000.0         3        3.0         2160   \n",
       "4  8562780790   8/24/2021  592500.0         2        2.0         1120   \n",
       "\n",
       "   sqft_lot  floors waterfront greenbelt  ... sewer_system sqft_above  \\\n",
       "0      7140     1.0         NO        NO  ...       PUBLIC       1180   \n",
       "1      6703     1.0         NO        NO  ...       PUBLIC       1570   \n",
       "2      6156     1.0         NO        NO  ...       PUBLIC       1580   \n",
       "3      1400     2.0         NO        NO  ...       PUBLIC       1090   \n",
       "4       758     2.0         NO        NO  ...       PUBLIC       1120   \n",
       "\n",
       "  sqft_basement sqft_garage sqft_patio yr_built  yr_renovated  \\\n",
       "0             0           0         40     1969             0   \n",
       "1          1570           0        240     1950             0   \n",
       "2          1580           0          0     1956             0   \n",
       "3          1070         200        270     2010             0   \n",
       "4           550         550         30     2012             0   \n",
       "\n",
       "                                             address        lat       long  \n",
       "0  2102 Southeast 21st Court, Renton, Washington ...  47.461975 -122.19052  \n",
       "1  11231 Greenwood Avenue North, Seattle, Washing...  47.711525 -122.35591  \n",
       "2  8504 South 113th Street, Seattle, Washington 9...  47.502045 -122.22520  \n",
       "3  4079 Letitia Avenue South, Seattle, Washington...  47.566110 -122.29020  \n",
       "4  2193 Northwest Talus Drive, Issaquah, Washingt...  47.532470 -122.07188  \n",
       "\n",
       "[5 rows x 25 columns]"
      ]
     },
     "execution_count": 7,
     "metadata": {},
     "output_type": "execute_result"
    }
   ],
   "source": [
    "kc_house_df.head()"
   ]
  },
  {
   "cell_type": "code",
   "execution_count": 8,
   "id": "7ad59763",
   "metadata": {},
   "outputs": [],
   "source": [
    "# kc_house_subset = kc_house_data.drop(columns=[\"date\", \"view\", \"sqft_above\", \"sqft_basement\", \"address\", \"lat\", \"long\"])"
   ]
  },
  {
   "cell_type": "code",
   "execution_count": 9,
   "id": "4ee715f8",
   "metadata": {},
   "outputs": [],
   "source": [
    "# kc_house_subset.info()"
   ]
  },
  {
   "cell_type": "markdown",
   "id": "1c35e5b2",
   "metadata": {},
   "source": [
    "The dataset now has 17 columns"
   ]
  },
  {
   "cell_type": "markdown",
   "id": "c4523bce",
   "metadata": {},
   "source": [
    "### 2.(a). Removing unnecessary columns"
   ]
  },
  {
   "cell_type": "markdown",
   "id": "eb42132e",
   "metadata": {},
   "source": [
    "\n",
    "\n",
    "The columns below are removed because they do not provide any value to the analysis to understand what renovations add value to a house.\n",
    "\\\n",
    "Anything pertaining to the house location can be removed: will not have impact on renovations.\n",
    "- lat \n",
    "- long\n",
    "- address \n",
    "- greenbelt\n",
    "- waterfront\n",
    "- view\n",
    "\n",
    "---------------------\n",
    "\n",
    "anything pertaining to dataset admin can be removed \n",
    "- id \n",
    "- date (date house was sold) \n",
    "- yr_renovated\n",
    "\n",
    "\n",
    "---------------------\n",
    "to determine later: as recommended: \n",
    "\n",
    "     - sqft_above\n",
    "     - sqft_basement\n",
    "\n",
    "---------------------"
   ]
  },
  {
   "cell_type": "code",
   "execution_count": 10,
   "id": "101bb789",
   "metadata": {},
   "outputs": [],
   "source": [
    "unnecessary_columns = [\"lat\", \"long\", \"address\", \"greenbelt\", \"waterfront\", \"view\", \"id\", \"date\", \"yr_renovated\"]\n"
   ]
  },
  {
   "cell_type": "code",
   "execution_count": 11,
   "id": "731e68ed",
   "metadata": {},
   "outputs": [],
   "source": [
    "kc_house_df = kc_house_df.drop(columns=kc_house_df[unnecessary_columns])"
   ]
  },
  {
   "cell_type": "code",
   "execution_count": 12,
   "id": "dccbf7ba",
   "metadata": {},
   "outputs": [
    {
     "data": {
      "text/plain": [
       "Index(['price', 'bedrooms', 'bathrooms', 'sqft_living', 'sqft_lot', 'floors',\n",
       "       'nuisance', 'condition', 'grade', 'heat_source', 'sewer_system',\n",
       "       'sqft_above', 'sqft_basement', 'sqft_garage', 'sqft_patio', 'yr_built'],\n",
       "      dtype='object')"
      ]
     },
     "execution_count": 12,
     "metadata": {},
     "output_type": "execute_result"
    }
   ],
   "source": [
    "kc_house_df.columns"
   ]
  },
  {
   "cell_type": "markdown",
   "id": "f6988462",
   "metadata": {},
   "source": [
    "### ------------------------------------------------------------------"
   ]
  },
  {
   "cell_type": "markdown",
   "id": "d31fc91e",
   "metadata": {},
   "source": [
    "### 1. First simple linear regression. Setting Up Variables for Regression"
   ]
  },
  {
   "cell_type": "markdown",
   "id": "8a240a92",
   "metadata": {},
   "source": [
    "Declaring y and X_baseline variables, where y is a Series containing price data and X_baseline is a DataFrame containing the column with the strongest correlation."
   ]
  },
  {
   "cell_type": "code",
   "execution_count": 13,
   "id": "9fb557d0",
   "metadata": {},
   "outputs": [],
   "source": [
    "y = kc_house_df[\"price\"]\n",
    "\n",
    "X_baseline = kc_house_df[[\"sqft_living\"]]"
   ]
  },
  {
   "cell_type": "markdown",
   "id": "d232dbe7",
   "metadata": {},
   "source": [
    "### 1. First simple linear regression. Creating and Fitting Simple Linear Regression"
   ]
  },
  {
   "cell_type": "code",
   "execution_count": 14,
   "id": "adf1d5ee",
   "metadata": {},
   "outputs": [],
   "source": [
    "baseline_model = sm.OLS(y, sm.add_constant(X_baseline))\n",
    "baseline_results = baseline_model.fit()"
   ]
  },
  {
   "cell_type": "code",
   "execution_count": null,
   "id": "73941100",
   "metadata": {},
   "outputs": [],
   "source": []
  },
  {
   "cell_type": "markdown",
   "id": "ad2ca75a",
   "metadata": {},
   "source": [
    "### 1. First simple linear regression.  Evaluate and Interpret Baseline Model Results"
   ]
  },
  {
   "cell_type": "code",
   "execution_count": 15,
   "id": "63af8fbe",
   "metadata": {
    "scrolled": true
   },
   "outputs": [
    {
     "name": "stdout",
     "output_type": "stream",
     "text": [
      "                            OLS Regression Results                            \n",
      "==============================================================================\n",
      "Dep. Variable:                  price   R-squared:                       0.370\n",
      "Model:                            OLS   Adj. R-squared:                  0.370\n",
      "Method:                 Least Squares   F-statistic:                 1.771e+04\n",
      "Date:                Sun, 13 Aug 2023   Prob (F-statistic):               0.00\n",
      "Time:                        09:37:35   Log-Likelihood:            -4.4847e+05\n",
      "No. Observations:               30111   AIC:                         8.969e+05\n",
      "Df Residuals:                   30109   BIC:                         8.970e+05\n",
      "Df Model:                           1                                         \n",
      "Covariance Type:            nonrobust                                         \n",
      "===============================================================================\n",
      "                  coef    std err          t      P>|t|      [0.025      0.975]\n",
      "-------------------------------------------------------------------------------\n",
      "const       -7.559e+04   9798.815     -7.714      0.000   -9.48e+04   -5.64e+04\n",
      "sqft_living   560.5134      4.211    133.096      0.000     552.259     568.768\n",
      "==============================================================================\n",
      "Omnibus:                    43384.874   Durbin-Watson:                   1.862\n",
      "Prob(Omnibus):                  0.000   Jarque-Bera (JB):         47187801.072\n",
      "Skew:                           8.195   Prob(JB):                         0.00\n",
      "Kurtosis:                     196.242   Cond. No.                     5.56e+03\n",
      "==============================================================================\n",
      "\n",
      "Notes:\n",
      "[1] Standard Errors assume that the covariance matrix of the errors is correctly specified.\n",
      "[2] The condition number is large, 5.56e+03. This might indicate that there are\n",
      "strong multicollinearity or other numerical problems.\n"
     ]
    }
   ],
   "source": [
    "print(baseline_results.summary())"
   ]
  },
  {
   "cell_type": "markdown",
   "id": "3fb92031",
   "metadata": {},
   "source": [
    "### ------------------------------------------------------------------"
   ]
  },
  {
   "cell_type": "code",
   "execution_count": null,
   "id": "ea748ad4",
   "metadata": {},
   "outputs": [],
   "source": []
  },
  {
   "cell_type": "code",
   "execution_count": null,
   "id": "32171bc3",
   "metadata": {},
   "outputs": [],
   "source": []
  },
  {
   "cell_type": "code",
   "execution_count": null,
   "id": "33453937",
   "metadata": {},
   "outputs": [],
   "source": []
  },
  {
   "cell_type": "code",
   "execution_count": null,
   "id": "f7fa1651",
   "metadata": {},
   "outputs": [],
   "source": []
  },
  {
   "cell_type": "markdown",
   "id": "bc1df706",
   "metadata": {},
   "source": [
    "### Check distribution of target variable to identify outliers"
   ]
  },
  {
   "cell_type": "code",
   "execution_count": 16,
   "id": "cc75e27f",
   "metadata": {},
   "outputs": [
    {
     "name": "stdout",
     "output_type": "stream",
     "text": [
      "27360.0\n",
      "30750000.0\n"
     ]
    }
   ],
   "source": [
    "print(kc_house_df[\"price\"].min())\n",
    "print(kc_house_df[\"price\"].max())"
   ]
  },
  {
   "cell_type": "code",
   "execution_count": 17,
   "id": "484a7036",
   "metadata": {
    "scrolled": false
   },
   "outputs": [
    {
     "data": {
      "image/png": "[encoded data removed]",
      "text/plain": [
       "<Figure size 1500x1000 with 1 Axes>"
      ]
     },
     "metadata": {},
     "output_type": "display_data"
    }
   ],
   "source": [
    "fig = plt.figure(figsize=(15, 10))\n",
    "sns.boxplot(x = kc_house_df[\"price\"])\n",
    "plt.title('Distribution of Sale Price in King County')\n",
    "plt.xlabel('Sale Price')\n",
    "plt.show();"
   ]
  },
  {
   "cell_type": "markdown",
   "id": "f69f9803",
   "metadata": {},
   "source": [
    "### Calculating outliers from 5th percentile\n"
   ]
  },
  {
   "cell_type": "code",
   "execution_count": 43,
   "id": "177fe270",
   "metadata": {},
   "outputs": [
    {
     "data": {
      "text/plain": [
       "650000.0     345\n",
       "750000.0     306\n",
       "800000.0     298\n",
       "850000.0     296\n",
       "600000.0     295\n",
       "            ... \n",
       "816666.0       1\n",
       "816950.0       1\n",
       "817455.0       1\n",
       "817750.0       1\n",
       "5650000.0      1\n",
       "Name: price, Length: 4969, dtype: int64"
      ]
     },
     "execution_count": 43,
     "metadata": {},
     "output_type": "execute_result"
    }
   ],
   "source": [
    "# Trying to evaluate how to remove outliers by counting values by range of price\n",
    "kc_house_df[\"price\"].sort_values().value_counts()"
   ]
  },
  {
   "cell_type": "code",
   "execution_count": 42,
   "id": "67008145",
   "metadata": {},
   "outputs": [
    {
     "data": {
      "text/plain": [
       "<AxesSubplot:>"
      ]
     },
     "execution_count": 42,
     "metadata": {},
     "output_type": "execute_result"
    },
    {
     "data": {
      "image/png": "[encoded data removed]",
      "text/plain": [
       "<Figure size 640x480 with 1 Axes>"
      ]
     },
     "metadata": {},
     "output_type": "display_data"
    }
   ],
   "source": [
    "kc_house_df[\"price\"].hist()"
   ]
  },
  {
   "cell_type": "code",
   "execution_count": null,
   "id": "39fad311",
   "metadata": {},
   "outputs": [],
   "source": []
  },
  {
   "cell_type": "markdown",
   "id": "91ee1851",
   "metadata": {},
   "source": [
    "### Calculating outliers Interquartile Range Methods\n"
   ]
  },
  {
   "cell_type": "code",
   "execution_count": 45,
   "id": "c35dd204",
   "metadata": {},
   "outputs": [],
   "source": [
    "# Interquartile range method: 1. Calculating the Interquartile range\n",
    "q1 = kc_house_df[\"price\"].quantile(0.25)\n",
    "q3 = kc_house_df[\"price\"].quantile(0.75)\n",
    "IQR = q3 - q1 "
   ]
  },
  {
   "cell_type": "code",
   "execution_count": 61,
   "id": "53679899",
   "metadata": {},
   "outputs": [],
   "source": [
    "# 2. Define outlier thresholds. Typically, values outside of 1.5 times the IQR are considered potential outliers \n",
    "lower_bound = q1 - 1.9 * IQR \n",
    "upper_bound = q3 + 1.9 * IQR"
   ]
  },
  {
   "cell_type": "code",
   "execution_count": 62,
   "id": "ca2de8c1",
   "metadata": {},
   "outputs": [],
   "source": [
    "# 3. Creating a mask to identify rows with prices that fall outside the defined thresholds \n",
    "outliers_mask = (kc_house_df[\"price\"] < lower_bound) | (kc_house_df[\"price\"] > upper_bound)"
   ]
  },
  {
   "cell_type": "code",
   "execution_count": 63,
   "id": "fcff8dd3",
   "metadata": {},
   "outputs": [],
   "source": [
    "# 4. Extracting outliers\n",
    "not_outliers = kc_house_df[~outliers_mask]"
   ]
  },
  {
   "cell_type": "code",
   "execution_count": 64,
   "id": "2f833949",
   "metadata": {},
   "outputs": [
    {
     "data": {
      "text/plain": [
       "<AxesSubplot:>"
      ]
     },
     "execution_count": 64,
     "metadata": {},
     "output_type": "execute_result"
    },
    {
     "data": {
      "image/png": "[encoded data removed]",
      "text/plain": [
       "<Figure size 640x480 with 1 Axes>"
      ]
     },
     "metadata": {},
     "output_type": "display_data"
    }
   ],
   "source": [
    "not_outliers[\"price\"].hist()"
   ]
  },
  {
   "cell_type": "code",
   "execution_count": 65,
   "id": "7e1b4d93",
   "metadata": {},
   "outputs": [
    {
     "data": {
      "image/png": "[encoded data removed]",
      "text/plain": [
       "<Figure size 1500x1000 with 1 Axes>"
      ]
     },
     "metadata": {},
     "output_type": "display_data"
    }
   ],
   "source": [
    "fig = plt.figure(figsize=(15, 10))\n",
    "sns.boxplot(x = not_outliers[\"price\"])\n",
    "plt.title('Distribution of Sale Price in King County')\n",
    "plt.xlabel('Sale Price')\n",
    "plt.show();"
   ]
  },
  {
   "cell_type": "code",
   "execution_count": 66,
   "id": "b686490b",
   "metadata": {},
   "outputs": [
    {
     "data": {
      "text/plain": [
       "29807"
      ]
     },
     "execution_count": 66,
     "metadata": {},
     "output_type": "execute_result"
    }
   ],
   "source": [
    "# Verification: count values of price initially and after \n",
    "len(kc_house_df[\"price\"])"
   ]
  },
  {
   "cell_type": "code",
   "execution_count": 67,
   "id": "f547accf",
   "metadata": {},
   "outputs": [
    {
     "data": {
      "text/plain": [
       "28524"
      ]
     },
     "execution_count": 67,
     "metadata": {},
     "output_type": "execute_result"
    }
   ],
   "source": [
    "len(not_outliers[\"price\"])"
   ]
  },
  {
   "cell_type": "code",
   "execution_count": null,
   "id": "aa5def50",
   "metadata": {},
   "outputs": [],
   "source": []
  },
  {
   "cell_type": "markdown",
   "id": "63150db9",
   "metadata": {},
   "source": [
    "### 2. Second simple linear regression after removing outliers (IQR version)"
   ]
  },
  {
   "cell_type": "code",
   "execution_count": 68,
   "id": "110da869",
   "metadata": {},
   "outputs": [],
   "source": [
    "y = not_outliers[\"price\"]\n",
    "\n",
    "X_baseline = not_outliers[[\"sqft_living\"]]"
   ]
  },
  {
   "cell_type": "markdown",
   "id": "1db79ce2",
   "metadata": {},
   "source": [
    "### 2. First simple linear regression. Creating and Fitting Simple Linear Regression"
   ]
  },
  {
   "cell_type": "code",
   "execution_count": 69,
   "id": "f9ed9d78",
   "metadata": {},
   "outputs": [],
   "source": [
    "baseline_model = sm.OLS(y, sm.add_constant(X_baseline))\n",
    "baseline_results = baseline_model.fit()"
   ]
  },
  {
   "cell_type": "code",
   "execution_count": null,
   "id": "78038300",
   "metadata": {},
   "outputs": [],
   "source": []
  },
  {
   "cell_type": "markdown",
   "id": "2bff19cc",
   "metadata": {},
   "source": [
    "### 2. First simple linear regression.  Evaluate and Interpret Baseline Model Results"
   ]
  },
  {
   "cell_type": "code",
   "execution_count": 70,
   "id": "5fd8968e",
   "metadata": {
    "scrolled": true
   },
   "outputs": [
    {
     "name": "stdout",
     "output_type": "stream",
     "text": [
      "                            OLS Regression Results                            \n",
      "==============================================================================\n",
      "Dep. Variable:                  price   R-squared:                       0.355\n",
      "Model:                            OLS   Adj. R-squared:                  0.355\n",
      "Method:                 Least Squares   F-statistic:                 1.573e+04\n",
      "Date:                Sun, 13 Aug 2023   Prob (F-statistic):               0.00\n",
      "Time:                        10:31:18   Log-Likelihood:            -4.0690e+05\n",
      "No. Observations:               28524   AIC:                         8.138e+05\n",
      "Df Residuals:                   28522   BIC:                         8.138e+05\n",
      "Df Model:                           1                                         \n",
      "Covariance Type:            nonrobust                                         \n",
      "===============================================================================\n",
      "                  coef    std err          t      P>|t|      [0.025      0.975]\n",
      "-------------------------------------------------------------------------------\n",
      "const         2.87e+05   5929.806     48.396      0.000    2.75e+05    2.99e+05\n",
      "sqft_living   341.0190      2.719    125.402      0.000     335.689     346.349\n",
      "==============================================================================\n",
      "Omnibus:                     2391.006   Durbin-Watson:                   2.009\n",
      "Prob(Omnibus):                  0.000   Jarque-Bera (JB):             3455.025\n",
      "Skew:                           0.678   Prob(JB):                         0.00\n",
      "Kurtosis:                       4.035   Cond. No.                     5.76e+03\n",
      "==============================================================================\n",
      "\n",
      "Notes:\n",
      "[1] Standard Errors assume that the covariance matrix of the errors is correctly specified.\n",
      "[2] The condition number is large, 5.76e+03. This might indicate that there are\n",
      "strong multicollinearity or other numerical problems.\n"
     ]
    }
   ],
   "source": [
    "print(baseline_results.summary())"
   ]
  },
  {
   "cell_type": "code",
   "execution_count": null,
   "id": "ef728b75",
   "metadata": {},
   "outputs": [],
   "source": []
  },
  {
   "cell_type": "code",
   "execution_count": null,
   "id": "6e02eeae",
   "metadata": {},
   "outputs": [],
   "source": []
  },
  {
   "cell_type": "code",
   "execution_count": null,
   "id": "7c01b6d7",
   "metadata": {},
   "outputs": [],
   "source": []
  },
  {
   "cell_type": "markdown",
   "id": "48324274",
   "metadata": {},
   "source": [
    "### -------------------------------------------------------"
   ]
  },
  {
   "cell_type": "markdown",
   "id": "e8b646d3",
   "metadata": {},
   "source": [
    "### Calculating outliers from 5th percentile\n"
   ]
  },
  {
   "cell_type": "code",
   "execution_count": 18,
   "id": "f3b1b960",
   "metadata": {},
   "outputs": [],
   "source": [
    "lower_limit = np.percentile(kc_house_df[\"price\"], 0.5)"
   ]
  },
  {
   "cell_type": "code",
   "execution_count": 19,
   "id": "bcb7eff1",
   "metadata": {},
   "outputs": [],
   "source": [
    "upper_limit = np.percentile(kc_house_df[\"price\"], 99.5)"
   ]
  },
  {
   "cell_type": "code",
   "execution_count": 20,
   "id": "ae3d1d21",
   "metadata": {},
   "outputs": [],
   "source": [
    "assert kc_house_df[\"price\"].min() < lower_limit"
   ]
  },
  {
   "cell_type": "code",
   "execution_count": 21,
   "id": "1b55b17c",
   "metadata": {},
   "outputs": [],
   "source": [
    "assert kc_house_df[\"price\"].max() > upper_limit"
   ]
  },
  {
   "cell_type": "code",
   "execution_count": 22,
   "id": "62a93dd1",
   "metadata": {},
   "outputs": [],
   "source": [
    "kc_house_df = kc_house_df[(kc_house_df[\"price\"] > lower_limit) & (kc_house_df[\"price\"] < upper_limit)]"
   ]
  },
  {
   "cell_type": "code",
   "execution_count": 23,
   "id": "27b58468",
   "metadata": {
    "scrolled": true
   },
   "outputs": [
    {
     "name": "stdout",
     "output_type": "stream",
     "text": [
      "131106.0\n",
      "5650000.0\n"
     ]
    }
   ],
   "source": [
    "print(kc_house_df[\"price\"].min())\n",
    "print(kc_house_df[\"price\"].max())"
   ]
  },
  {
   "cell_type": "code",
   "execution_count": null,
   "id": "d8b56643",
   "metadata": {},
   "outputs": [],
   "source": []
  },
  {
   "cell_type": "markdown",
   "id": "93973105",
   "metadata": {},
   "source": [
    "### Check distribution of target variable after excluding outliers"
   ]
  },
  {
   "cell_type": "code",
   "execution_count": 24,
   "id": "36dfc41a",
   "metadata": {
    "scrolled": false
   },
   "outputs": [
    {
     "data": {
      "image/png": "[encoded data removed]",
      "text/plain": [
       "<Figure size 1500x1000 with 1 Axes>"
      ]
     },
     "metadata": {},
     "output_type": "display_data"
    }
   ],
   "source": [
    "fig = plt.figure(figsize=(15, 10))\n",
    "sns.boxplot(x = kc_house_df[\"price\"])\n",
    "plt.title('Distribution of Sale Price in King County')\n",
    "plt.xlabel('Sale Price')\n",
    "plt.show();"
   ]
  },
  {
   "cell_type": "code",
   "execution_count": 25,
   "id": "1e6f4acf",
   "metadata": {
    "scrolled": true
   },
   "outputs": [
    {
     "name": "stderr",
     "output_type": "stream",
     "text": [
      "C:\\Users\\albane.colmenares\\Anaconda3\\lib\\site-packages\\seaborn\\distributions.py:2619: FutureWarning: `distplot` is a deprecated function and will be removed in a future version. Please adapt your code to use either `displot` (a figure-level function with similar flexibility) or `histplot` (an axes-level function for histograms).\n",
      "  warnings.warn(msg, FutureWarning)\n"
     ]
    },
    {
     "data": {
      "image/png": "[encoded data removed]",
      "text/plain": [
       "<Figure size 640x480 with 1 Axes>"
      ]
     },
     "metadata": {},
     "output_type": "display_data"
    }
   ],
   "source": [
    "sns.distplot(kc_house_df[\"price\"])\n",
    "mean_price = kc_house_df[\"price\"].mean()\n",
    "# ax.axvline(x=mean_price, color=\"black\", lw=2.5);"
   ]
  },
  {
   "cell_type": "code",
   "execution_count": null,
   "id": "29878de4",
   "metadata": {},
   "outputs": [],
   "source": []
  },
  {
   "cell_type": "markdown",
   "id": "7b0a23f1",
   "metadata": {},
   "source": [
    "### 2. Second simple linear regression after removing outliers (5th percentile version)"
   ]
  },
  {
   "cell_type": "code",
   "execution_count": 26,
   "id": "ac69ebed",
   "metadata": {},
   "outputs": [],
   "source": [
    "y = kc_house_df[\"price\"]\n",
    "\n",
    "X_baseline = kc_house_df[[\"sqft_living\"]]"
   ]
  },
  {
   "cell_type": "markdown",
   "id": "f3d85a31",
   "metadata": {},
   "source": [
    "### 2. First simple linear regression. Creating and Fitting Simple Linear Regression"
   ]
  },
  {
   "cell_type": "code",
   "execution_count": 55,
   "id": "1af97b4e",
   "metadata": {},
   "outputs": [],
   "source": [
    "baseline_model = sm.OLS(y, sm.add_constant(X_baseline))\n",
    "baseline_results = baseline_model.fit()"
   ]
  },
  {
   "cell_type": "code",
   "execution_count": null,
   "id": "6803d1eb",
   "metadata": {},
   "outputs": [],
   "source": []
  },
  {
   "cell_type": "markdown",
   "id": "8e0ca0fc",
   "metadata": {},
   "source": [
    "### 2. First simple linear regression.  Evaluate and Interpret Baseline Model Results"
   ]
  },
  {
   "cell_type": "code",
   "execution_count": 28,
   "id": "84aec75e",
   "metadata": {
    "scrolled": true
   },
   "outputs": [
    {
     "name": "stdout",
     "output_type": "stream",
     "text": [
      "                            OLS Regression Results                            \n",
      "==============================================================================\n",
      "Dep. Variable:                  price   R-squared:                       0.428\n",
      "Model:                            OLS   Adj. R-squared:                  0.428\n",
      "Method:                 Least Squares   F-statistic:                 2.226e+04\n",
      "Date:                Sun, 13 Aug 2023   Prob (F-statistic):               0.00\n",
      "Time:                        09:37:59   Log-Likelihood:            -4.3442e+05\n",
      "No. Observations:               29807   AIC:                         8.689e+05\n",
      "Df Residuals:                   29805   BIC:                         8.689e+05\n",
      "Df Model:                           1                                         \n",
      "Covariance Type:            nonrobust                                         \n",
      "===============================================================================\n",
      "                  coef    std err          t      P>|t|      [0.025      0.975]\n",
      "-------------------------------------------------------------------------------\n",
      "const        7.733e+04   7337.847     10.539      0.000    6.29e+04    9.17e+04\n",
      "sqft_living   475.9234      3.190    149.204      0.000     469.671     482.175\n",
      "==============================================================================\n",
      "Omnibus:                    12050.548   Durbin-Watson:                   1.937\n",
      "Prob(Omnibus):                  0.000   Jarque-Bera (JB):            98988.100\n",
      "Skew:                           1.734   Prob(JB):                         0.00\n",
      "Kurtosis:                      11.227   Cond. No.                     5.64e+03\n",
      "==============================================================================\n",
      "\n",
      "Notes:\n",
      "[1] Standard Errors assume that the covariance matrix of the errors is correctly specified.\n",
      "[2] The condition number is large, 5.64e+03. This might indicate that there are\n",
      "strong multicollinearity or other numerical problems.\n"
     ]
    }
   ],
   "source": [
    "print(baseline_results.summary())"
   ]
  },
  {
   "cell_type": "code",
   "execution_count": null,
   "id": "caec5294",
   "metadata": {},
   "outputs": [],
   "source": []
  },
  {
   "cell_type": "code",
   "execution_count": null,
   "id": "9c140dc6",
   "metadata": {},
   "outputs": [],
   "source": []
  },
  {
   "cell_type": "code",
   "execution_count": null,
   "id": "1d1fa496",
   "metadata": {},
   "outputs": [],
   "source": []
  },
  {
   "cell_type": "markdown",
   "id": "84f0780f",
   "metadata": {},
   "source": [
    "### 3.(a). Data Exploration"
   ]
  },
  {
   "cell_type": "markdown",
   "id": "517a8447",
   "metadata": {},
   "source": [
    "Inspect the value counts for the categorical features"
   ]
  },
  {
   "cell_type": "code",
   "execution_count": 29,
   "id": "1e3de733",
   "metadata": {},
   "outputs": [
    {
     "name": "stdout",
     "output_type": "stream",
     "text": [
      "NO     24646\n",
      "YES     5161\n",
      "Name: nuisance, dtype: int64 \n",
      "\n",
      "Average      18301\n",
      "Good          7988\n",
      "Very Good     3237\n",
      "Fair           224\n",
      "Poor            57\n",
      "Name: condition, dtype: int64 \n",
      "\n",
      "7 Average        11615\n",
      "8 Good            9352\n",
      "9 Better          3791\n",
      "6 Low Average     2807\n",
      "10 Very Good      1344\n",
      "5 Fair             381\n",
      "11 Excellent       362\n",
      "12 Luxury           92\n",
      "4 Low               45\n",
      "13 Mansion           9\n",
      "3 Poor               8\n",
      "2 Substandard        1\n",
      "Name: grade, dtype: int64 \n",
      "\n",
      "Gas                  20382\n",
      "Electricity           6389\n",
      "Oil                   2865\n",
      "Gas/Solar               90\n",
      "Electricity/Solar       58\n",
      "Other                   19\n",
      "Oil/Solar                4\n",
      "Name: heat_source, dtype: int64 \n",
      "\n",
      "PUBLIC                25501\n",
      "PRIVATE                4299\n",
      "PRIVATE RESTRICTED        4\n",
      "PUBLIC RESTRICTED         3\n",
      "Name: sewer_system, dtype: int64 \n",
      "\n"
     ]
    }
   ],
   "source": [
    "categoricals = kc_house_df.select_dtypes(include=[object])\n",
    "\n",
    "for col in categoricals:\n",
    "    print(kc_house_df[col].value_counts(), \"\\n\")"
   ]
  },
  {
   "cell_type": "markdown",
   "id": "4bb4162d",
   "metadata": {},
   "source": [
    "# Comment here about categorical data"
   ]
  },
  {
   "cell_type": "code",
   "execution_count": null,
   "id": "81740ed2",
   "metadata": {},
   "outputs": [],
   "source": []
  },
  {
   "cell_type": "markdown",
   "id": "5c5de0b8",
   "metadata": {},
   "source": [
    "### 3. Build a baseline simple linear regression model"
   ]
  },
  {
   "cell_type": "markdown",
   "id": "e44c3597",
   "metadata": {},
   "source": [
    "#### Identifying a Highly Correlated Predictor"
   ]
  },
  {
   "cell_type": "markdown",
   "id": "5e6aa1b8",
   "metadata": {},
   "source": [
    "The target variable is price. Looking at correlation coefficients for all predictor variables to find the one with the highest correlation with price."
   ]
  },
  {
   "cell_type": "code",
   "execution_count": 30,
   "id": "691bc339",
   "metadata": {},
   "outputs": [
    {
     "data": {
      "text/plain": [
       "sqft_lot         0.096785\n",
       "yr_built         0.104383\n",
       "floors           0.209673\n",
       "sqft_basement    0.230060\n",
       "sqft_garage      0.294879\n",
       "sqft_patio       0.306520\n",
       "bedrooms         0.342306\n",
       "bathrooms        0.514517\n",
       "sqft_above       0.583038\n",
       "sqft_living      0.653883\n",
       "price            1.000000\n",
       "Name: price, dtype: float64"
      ]
     },
     "execution_count": 30,
     "metadata": {},
     "output_type": "execute_result"
    }
   ],
   "source": [
    "kc_house_df.corr()[\"price\"].sort_values()"
   ]
  },
  {
   "cell_type": "code",
   "execution_count": 31,
   "id": "718f91e7",
   "metadata": {},
   "outputs": [],
   "source": [
    "most_correlated = \"sqft_living\""
   ]
  },
  {
   "cell_type": "code",
   "execution_count": null,
   "id": "55204943",
   "metadata": {},
   "outputs": [],
   "source": []
  },
  {
   "cell_type": "markdown",
   "id": "ae6a613c",
   "metadata": {},
   "source": [
    "#### Plotting the predictor vs price"
   ]
  },
  {
   "cell_type": "code",
   "execution_count": 32,
   "id": "cf6cdfa3",
   "metadata": {},
   "outputs": [
    {
     "data": {
      "text/plain": [
       "pandas.core.series.Series"
      ]
     },
     "execution_count": 32,
     "metadata": {},
     "output_type": "execute_result"
    }
   ],
   "source": [
    "type(kc_house_df[\"price\"])"
   ]
  },
  {
   "cell_type": "code",
   "execution_count": 33,
   "id": "7f912da1",
   "metadata": {},
   "outputs": [],
   "source": [
    "# Plotting a sample of 1000 data points, most_correlated vs. price"
   ]
  },
  {
   "cell_type": "code",
   "execution_count": 34,
   "id": "56a9ce5d",
   "metadata": {},
   "outputs": [
    {
     "data": {
      "text/plain": [
       "pandas.core.arrays.numpy_.PandasArray"
      ]
     },
     "execution_count": 34,
     "metadata": {},
     "output_type": "execute_result"
    }
   ],
   "source": [
    "type(kc_house_df[\"price\"].array)"
   ]
  },
  {
   "cell_type": "code",
   "execution_count": 35,
   "id": "ee0bb290",
   "metadata": {},
   "outputs": [],
   "source": [
    "# Calculating regression line\n",
    "\n",
    "x = kc_house_df[\"sqft_living\"].array\n",
    "y= kc_house_df[\"price\"].array\n",
    "\n",
    "m, b = np.polyfit(x, y, 1) "
   ]
  },
  {
   "cell_type": "code",
   "execution_count": 36,
   "id": "98146515",
   "metadata": {},
   "outputs": [
    {
     "data": {
      "image/png": "[encoded data removed]",
      "text/plain": [
       "<Figure size 640x480 with 1 Axes>"
      ]
     },
     "metadata": {},
     "output_type": "display_data"
    },
    {
     "data": {
      "text/plain": [
       "''"
      ]
     },
     "execution_count": 36,
     "metadata": {},
     "output_type": "execute_result"
    }
   ],
   "source": [
    "# Plotting scatter plot\n",
    "kc_house_df.sample(1000, random_state=1).plot.scatter(x=most_correlated, y=\"price\")\n",
    "\n",
    "# Plotting regression line\n",
    "plt.plot(x, m*x+b, color='green')\n",
    "\n",
    "# Defining titles and legend\n",
    "plt.title('Price vs Square Footage')\n",
    "plt.xlabel('Square Footage of Living Space in the Home')\n",
    "plt.ylabel('Sale Price')\n",
    "plt.show();\n",
    ";"
   ]
  },
  {
   "cell_type": "markdown",
   "id": "81482242",
   "metadata": {},
   "source": [
    "### Setting Up Variables for Regression"
   ]
  },
  {
   "cell_type": "markdown",
   "id": "fd81c0cf",
   "metadata": {},
   "source": [
    "Declaring y and X_baseline variables, where y is a Series containing price data and X_baseline is a DataFrame containing the column with the strongest correlation."
   ]
  },
  {
   "cell_type": "code",
   "execution_count": 37,
   "id": "5b3c4fb9",
   "metadata": {},
   "outputs": [],
   "source": [
    "y = kc_house_df[\"price\"]\n",
    "\n",
    "X_baseline = kc_house_df[[most_correlated]]"
   ]
  },
  {
   "cell_type": "markdown",
   "id": "bbb8eb0c",
   "metadata": {},
   "source": [
    "### Creating and Fitting Simple Linear Regression"
   ]
  },
  {
   "cell_type": "code",
   "execution_count": 38,
   "id": "254d1dbb",
   "metadata": {},
   "outputs": [],
   "source": [
    "baseline_model = sm.OLS(y, sm.add_constant(X_baseline))\n",
    "baseline_results = baseline_model.fit()"
   ]
  },
  {
   "cell_type": "code",
   "execution_count": null,
   "id": "37f4de2b",
   "metadata": {},
   "outputs": [],
   "source": []
  },
  {
   "cell_type": "markdown",
   "id": "53b0abfa",
   "metadata": {},
   "source": [
    "### 4. Evaluate and Interpret Baseline Model Results"
   ]
  },
  {
   "cell_type": "code",
   "execution_count": 39,
   "id": "505ec2b8",
   "metadata": {
    "scrolled": false
   },
   "outputs": [
    {
     "name": "stdout",
     "output_type": "stream",
     "text": [
      "                            OLS Regression Results                            \n",
      "==============================================================================\n",
      "Dep. Variable:                  price   R-squared:                       0.428\n",
      "Model:                            OLS   Adj. R-squared:                  0.428\n",
      "Method:                 Least Squares   F-statistic:                 2.226e+04\n",
      "Date:                Sat, 12 Aug 2023   Prob (F-statistic):               0.00\n",
      "Time:                        18:42:19   Log-Likelihood:            -4.3442e+05\n",
      "No. Observations:               29807   AIC:                         8.689e+05\n",
      "Df Residuals:                   29805   BIC:                         8.689e+05\n",
      "Df Model:                           1                                         \n",
      "Covariance Type:            nonrobust                                         \n",
      "===============================================================================\n",
      "                  coef    std err          t      P>|t|      [0.025      0.975]\n",
      "-------------------------------------------------------------------------------\n",
      "const        7.733e+04   7337.847     10.539      0.000    6.29e+04    9.17e+04\n",
      "sqft_living   475.9234      3.190    149.204      0.000     469.671     482.175\n",
      "==============================================================================\n",
      "Omnibus:                    12050.548   Durbin-Watson:                   1.937\n",
      "Prob(Omnibus):                  0.000   Jarque-Bera (JB):            98988.100\n",
      "Skew:                           1.734   Prob(JB):                         0.00\n",
      "Kurtosis:                      11.227   Cond. No.                     5.64e+03\n",
      "==============================================================================\n",
      "\n",
      "Notes:\n",
      "[1] Standard Errors assume that the covariance matrix of the errors is correctly specified.\n",
      "[2] The condition number is large, 5.64e+03. This might indicate that there are\n",
      "strong multicollinearity or other numerical problems.\n"
     ]
    }
   ],
   "source": [
    "print(baseline_results.summary())"
   ]
  },
  {
   "cell_type": "code",
   "execution_count": 40,
   "id": "287550eb",
   "metadata": {},
   "outputs": [
    {
     "data": {
      "text/plain": [
       "355912.7383624806"
      ]
     },
     "execution_count": 40,
     "metadata": {},
     "output_type": "execute_result"
    }
   ],
   "source": [
    "baseline_mae = mean_absolute_error(y, baseline_results.predict(sm.add_constant(X_baseline)))\n",
    "baseline_mae"
   ]
  },
  {
   "cell_type": "markdown",
   "id": "41fd7c9d",
   "metadata": {},
   "source": [
    "#### Model Interpretation"
   ]
  },
  {
   "cell_type": "markdown",
   "id": "a8167366",
   "metadata": {},
   "source": [
    "sqft_living was the attribute the most strongly correlated with price. Consequently, the model is describing this relationship. \n",
    "\n",
    "Overall, the model is not very significant and explains only 43% of the price. In a typical predicion, the model is off by about \\\\$ 364,886.\n",
    "\n",
    "* The intercept is about \\\\$38,720, meaning that a zero square foot living house would sell for \\\\$38,720.\n",
    "* The coefficient for sqft_living is about \\\\$497. This means that for each additional square foot of living space in the home. \n",
    "* ALPHA\n"
   ]
  },
  {
   "cell_type": "code",
   "execution_count": null,
   "id": "789f33d2",
   "metadata": {},
   "outputs": [],
   "source": []
  },
  {
   "cell_type": "markdown",
   "id": "3aec741d",
   "metadata": {},
   "source": [
    "### 5. Prepare a Categorical Feature for Multiple Regression Modeling"
   ]
  },
  {
   "cell_type": "markdown",
   "id": "a7c1d142",
   "metadata": {},
   "source": [
    "#### Identifying a Promising Predictor (2)"
   ]
  },
  {
   "cell_type": "code",
   "execution_count": null,
   "id": "e39b7011",
   "metadata": {},
   "outputs": [],
   "source": []
  },
  {
   "cell_type": "code",
   "execution_count": 41,
   "id": "3804e0e9",
   "metadata": {},
   "outputs": [],
   "source": [
    "categorical_features = categoricals.columns"
   ]
  },
  {
   "cell_type": "code",
   "execution_count": 42,
   "id": "42b01baa",
   "metadata": {},
   "outputs": [
    {
     "data": {
      "text/html": [
       "<div>\n",
       "<style scoped>\n",
       "    .dataframe tbody tr th:only-of-type {\n",
       "        vertical-align: middle;\n",
       "    }\n",
       "\n",
       "    .dataframe tbody tr th {\n",
       "        vertical-align: top;\n",
       "    }\n",
       "\n",
       "    .dataframe thead th {\n",
       "        text-align: right;\n",
       "    }\n",
       "</style>\n",
       "<table border=\"1\" class=\"dataframe\">\n",
       "  <thead>\n",
       "    <tr style=\"text-align: right;\">\n",
       "      <th></th>\n",
       "      <th>bedrooms</th>\n",
       "      <th>bathrooms</th>\n",
       "      <th>sqft_living</th>\n",
       "      <th>sqft_lot</th>\n",
       "      <th>floors</th>\n",
       "      <th>sqft_above</th>\n",
       "      <th>sqft_basement</th>\n",
       "      <th>sqft_garage</th>\n",
       "      <th>sqft_patio</th>\n",
       "      <th>yr_built</th>\n",
       "    </tr>\n",
       "  </thead>\n",
       "  <tbody>\n",
       "    <tr>\n",
       "      <th>0</th>\n",
       "      <td>4</td>\n",
       "      <td>1.0</td>\n",
       "      <td>1180</td>\n",
       "      <td>7140</td>\n",
       "      <td>1.0</td>\n",
       "      <td>1180</td>\n",
       "      <td>0</td>\n",
       "      <td>0</td>\n",
       "      <td>40</td>\n",
       "      <td>1969</td>\n",
       "    </tr>\n",
       "    <tr>\n",
       "      <th>1</th>\n",
       "      <td>5</td>\n",
       "      <td>2.5</td>\n",
       "      <td>2770</td>\n",
       "      <td>6703</td>\n",
       "      <td>1.0</td>\n",
       "      <td>1570</td>\n",
       "      <td>1570</td>\n",
       "      <td>0</td>\n",
       "      <td>240</td>\n",
       "      <td>1950</td>\n",
       "    </tr>\n",
       "    <tr>\n",
       "      <th>2</th>\n",
       "      <td>6</td>\n",
       "      <td>2.0</td>\n",
       "      <td>2880</td>\n",
       "      <td>6156</td>\n",
       "      <td>1.0</td>\n",
       "      <td>1580</td>\n",
       "      <td>1580</td>\n",
       "      <td>0</td>\n",
       "      <td>0</td>\n",
       "      <td>1956</td>\n",
       "    </tr>\n",
       "    <tr>\n",
       "      <th>3</th>\n",
       "      <td>3</td>\n",
       "      <td>3.0</td>\n",
       "      <td>2160</td>\n",
       "      <td>1400</td>\n",
       "      <td>2.0</td>\n",
       "      <td>1090</td>\n",
       "      <td>1070</td>\n",
       "      <td>200</td>\n",
       "      <td>270</td>\n",
       "      <td>2010</td>\n",
       "    </tr>\n",
       "    <tr>\n",
       "      <th>4</th>\n",
       "      <td>2</td>\n",
       "      <td>2.0</td>\n",
       "      <td>1120</td>\n",
       "      <td>758</td>\n",
       "      <td>2.0</td>\n",
       "      <td>1120</td>\n",
       "      <td>550</td>\n",
       "      <td>550</td>\n",
       "      <td>30</td>\n",
       "      <td>2012</td>\n",
       "    </tr>\n",
       "  </tbody>\n",
       "</table>\n",
       "</div>"
      ],
      "text/plain": [
       "   bedrooms  bathrooms  sqft_living  sqft_lot  floors  sqft_above  \\\n",
       "0         4        1.0         1180      7140     1.0        1180   \n",
       "1         5        2.5         2770      6703     1.0        1570   \n",
       "2         6        2.0         2880      6156     1.0        1580   \n",
       "3         3        3.0         2160      1400     2.0        1090   \n",
       "4         2        2.0         1120       758     2.0        1120   \n",
       "\n",
       "   sqft_basement  sqft_garage  sqft_patio  yr_built  \n",
       "0              0            0          40      1969  \n",
       "1           1570            0         240      1950  \n",
       "2           1580            0           0      1956  \n",
       "3           1070          200         270      2010  \n",
       "4            550          550          30      2012  "
      ]
     },
     "execution_count": 42,
     "metadata": {},
     "output_type": "execute_result"
    }
   ],
   "source": [
    "house_preds = kc_house_df.drop(\"price\", axis=1)\n",
    "# now removing categorical columns from house_preds \n",
    "house_preds = house_preds.drop(categorical_features, axis=1)\n",
    "house_target = kc_house_df[\"price\"]\n",
    "house_preds.head()"
   ]
  },
  {
   "cell_type": "markdown",
   "id": "e706b308",
   "metadata": {},
   "source": [
    "We are adding another predictor call const. The value of const is alwyays 1. It is the intercept term for our regression equation. By multiplying beta to 1, the constant, we will get the raw beta. "
   ]
  },
  {
   "cell_type": "code",
   "execution_count": 43,
   "id": "98be22cc",
   "metadata": {},
   "outputs": [
    {
     "data": {
      "text/html": [
       "<div>\n",
       "<style scoped>\n",
       "    .dataframe tbody tr th:only-of-type {\n",
       "        vertical-align: middle;\n",
       "    }\n",
       "\n",
       "    .dataframe tbody tr th {\n",
       "        vertical-align: top;\n",
       "    }\n",
       "\n",
       "    .dataframe thead th {\n",
       "        text-align: right;\n",
       "    }\n",
       "</style>\n",
       "<table border=\"1\" class=\"dataframe\">\n",
       "  <thead>\n",
       "    <tr style=\"text-align: right;\">\n",
       "      <th></th>\n",
       "      <th>const</th>\n",
       "      <th>bedrooms</th>\n",
       "      <th>bathrooms</th>\n",
       "      <th>sqft_living</th>\n",
       "      <th>sqft_lot</th>\n",
       "      <th>floors</th>\n",
       "      <th>sqft_above</th>\n",
       "      <th>sqft_basement</th>\n",
       "      <th>sqft_garage</th>\n",
       "      <th>sqft_patio</th>\n",
       "      <th>yr_built</th>\n",
       "    </tr>\n",
       "  </thead>\n",
       "  <tbody>\n",
       "    <tr>\n",
       "      <th>0</th>\n",
       "      <td>1.0</td>\n",
       "      <td>4</td>\n",
       "      <td>1.0</td>\n",
       "      <td>1180</td>\n",
       "      <td>7140</td>\n",
       "      <td>1.0</td>\n",
       "      <td>1180</td>\n",
       "      <td>0</td>\n",
       "      <td>0</td>\n",
       "      <td>40</td>\n",
       "      <td>1969</td>\n",
       "    </tr>\n",
       "    <tr>\n",
       "      <th>1</th>\n",
       "      <td>1.0</td>\n",
       "      <td>5</td>\n",
       "      <td>2.5</td>\n",
       "      <td>2770</td>\n",
       "      <td>6703</td>\n",
       "      <td>1.0</td>\n",
       "      <td>1570</td>\n",
       "      <td>1570</td>\n",
       "      <td>0</td>\n",
       "      <td>240</td>\n",
       "      <td>1950</td>\n",
       "    </tr>\n",
       "    <tr>\n",
       "      <th>2</th>\n",
       "      <td>1.0</td>\n",
       "      <td>6</td>\n",
       "      <td>2.0</td>\n",
       "      <td>2880</td>\n",
       "      <td>6156</td>\n",
       "      <td>1.0</td>\n",
       "      <td>1580</td>\n",
       "      <td>1580</td>\n",
       "      <td>0</td>\n",
       "      <td>0</td>\n",
       "      <td>1956</td>\n",
       "    </tr>\n",
       "    <tr>\n",
       "      <th>3</th>\n",
       "      <td>1.0</td>\n",
       "      <td>3</td>\n",
       "      <td>3.0</td>\n",
       "      <td>2160</td>\n",
       "      <td>1400</td>\n",
       "      <td>2.0</td>\n",
       "      <td>1090</td>\n",
       "      <td>1070</td>\n",
       "      <td>200</td>\n",
       "      <td>270</td>\n",
       "      <td>2010</td>\n",
       "    </tr>\n",
       "    <tr>\n",
       "      <th>4</th>\n",
       "      <td>1.0</td>\n",
       "      <td>2</td>\n",
       "      <td>2.0</td>\n",
       "      <td>1120</td>\n",
       "      <td>758</td>\n",
       "      <td>2.0</td>\n",
       "      <td>1120</td>\n",
       "      <td>550</td>\n",
       "      <td>550</td>\n",
       "      <td>30</td>\n",
       "      <td>2012</td>\n",
       "    </tr>\n",
       "    <tr>\n",
       "      <th>...</th>\n",
       "      <td>...</td>\n",
       "      <td>...</td>\n",
       "      <td>...</td>\n",
       "      <td>...</td>\n",
       "      <td>...</td>\n",
       "      <td>...</td>\n",
       "      <td>...</td>\n",
       "      <td>...</td>\n",
       "      <td>...</td>\n",
       "      <td>...</td>\n",
       "      <td>...</td>\n",
       "    </tr>\n",
       "    <tr>\n",
       "      <th>30150</th>\n",
       "      <td>1.0</td>\n",
       "      <td>5</td>\n",
       "      <td>2.0</td>\n",
       "      <td>1910</td>\n",
       "      <td>4000</td>\n",
       "      <td>1.5</td>\n",
       "      <td>1600</td>\n",
       "      <td>1130</td>\n",
       "      <td>0</td>\n",
       "      <td>210</td>\n",
       "      <td>1921</td>\n",
       "    </tr>\n",
       "    <tr>\n",
       "      <th>30151</th>\n",
       "      <td>1.0</td>\n",
       "      <td>3</td>\n",
       "      <td>2.0</td>\n",
       "      <td>2020</td>\n",
       "      <td>5800</td>\n",
       "      <td>2.0</td>\n",
       "      <td>2020</td>\n",
       "      <td>0</td>\n",
       "      <td>0</td>\n",
       "      <td>520</td>\n",
       "      <td>2011</td>\n",
       "    </tr>\n",
       "    <tr>\n",
       "      <th>30152</th>\n",
       "      <td>1.0</td>\n",
       "      <td>3</td>\n",
       "      <td>2.0</td>\n",
       "      <td>1620</td>\n",
       "      <td>3600</td>\n",
       "      <td>1.0</td>\n",
       "      <td>940</td>\n",
       "      <td>920</td>\n",
       "      <td>240</td>\n",
       "      <td>110</td>\n",
       "      <td>1995</td>\n",
       "    </tr>\n",
       "    <tr>\n",
       "      <th>30153</th>\n",
       "      <td>1.0</td>\n",
       "      <td>3</td>\n",
       "      <td>2.5</td>\n",
       "      <td>2570</td>\n",
       "      <td>2889</td>\n",
       "      <td>2.0</td>\n",
       "      <td>1830</td>\n",
       "      <td>740</td>\n",
       "      <td>480</td>\n",
       "      <td>100</td>\n",
       "      <td>2006</td>\n",
       "    </tr>\n",
       "    <tr>\n",
       "      <th>30154</th>\n",
       "      <td>1.0</td>\n",
       "      <td>3</td>\n",
       "      <td>1.5</td>\n",
       "      <td>1200</td>\n",
       "      <td>11058</td>\n",
       "      <td>1.0</td>\n",
       "      <td>1200</td>\n",
       "      <td>0</td>\n",
       "      <td>420</td>\n",
       "      <td>0</td>\n",
       "      <td>1965</td>\n",
       "    </tr>\n",
       "  </tbody>\n",
       "</table>\n",
       "<p>29807 rows × 11 columns</p>\n",
       "</div>"
      ],
      "text/plain": [
       "       const  bedrooms  bathrooms  sqft_living  sqft_lot  floors  sqft_above  \\\n",
       "0        1.0         4        1.0         1180      7140     1.0        1180   \n",
       "1        1.0         5        2.5         2770      6703     1.0        1570   \n",
       "2        1.0         6        2.0         2880      6156     1.0        1580   \n",
       "3        1.0         3        3.0         2160      1400     2.0        1090   \n",
       "4        1.0         2        2.0         1120       758     2.0        1120   \n",
       "...      ...       ...        ...          ...       ...     ...         ...   \n",
       "30150    1.0         5        2.0         1910      4000     1.5        1600   \n",
       "30151    1.0         3        2.0         2020      5800     2.0        2020   \n",
       "30152    1.0         3        2.0         1620      3600     1.0         940   \n",
       "30153    1.0         3        2.5         2570      2889     2.0        1830   \n",
       "30154    1.0         3        1.5         1200     11058     1.0        1200   \n",
       "\n",
       "       sqft_basement  sqft_garage  sqft_patio  yr_built  \n",
       "0                  0            0          40      1969  \n",
       "1               1570            0         240      1950  \n",
       "2               1580            0           0      1956  \n",
       "3               1070          200         270      2010  \n",
       "4                550          550          30      2012  \n",
       "...              ...          ...         ...       ...  \n",
       "30150           1130            0         210      1921  \n",
       "30151              0            0         520      2011  \n",
       "30152            920          240         110      1995  \n",
       "30153            740          480         100      2006  \n",
       "30154              0          420           0      1965  \n",
       "\n",
       "[29807 rows x 11 columns]"
      ]
     },
     "execution_count": 43,
     "metadata": {},
     "output_type": "execute_result"
    }
   ],
   "source": [
    "predictors = sm.add_constant(house_preds)\n",
    "predictors"
   ]
  },
  {
   "cell_type": "markdown",
   "id": "736da723",
   "metadata": {},
   "source": [
    "Now building our model. "
   ]
  },
  {
   "cell_type": "code",
   "execution_count": 44,
   "id": "bcf3f497",
   "metadata": {},
   "outputs": [
    {
     "data": {
      "text/plain": [
       "0         675000.0\n",
       "1         920000.0\n",
       "2         311000.0\n",
       "3         775000.0\n",
       "4         592500.0\n",
       "           ...    \n",
       "30150    1555000.0\n",
       "30151    1313000.0\n",
       "30152     800000.0\n",
       "30153     775000.0\n",
       "30154     500000.0\n",
       "Name: price, Length: 29807, dtype: float64"
      ]
     },
     "execution_count": 44,
     "metadata": {},
     "output_type": "execute_result"
    }
   ],
   "source": [
    "house_target"
   ]
  },
  {
   "cell_type": "code",
   "execution_count": 45,
   "id": "55bdda7f",
   "metadata": {},
   "outputs": [],
   "source": [
    "model = sm.OLS(house_target, predictors).fit()"
   ]
  },
  {
   "cell_type": "code",
   "execution_count": 46,
   "id": "681c1280",
   "metadata": {},
   "outputs": [
    {
     "data": {
      "text/html": [
       "<table class=\"simpletable\">\n",
       "<caption>OLS Regression Results</caption>\n",
       "<tr>\n",
       "  <th>Dep. Variable:</th>          <td>price</td>      <th>  R-squared:         </th>  <td>   0.464</td>  \n",
       "</tr>\n",
       "<tr>\n",
       "  <th>Model:</th>                   <td>OLS</td>       <th>  Adj. R-squared:    </th>  <td>   0.464</td>  \n",
       "</tr>\n",
       "<tr>\n",
       "  <th>Method:</th>             <td>Least Squares</td>  <th>  F-statistic:       </th>  <td>   2579.</td>  \n",
       "</tr>\n",
       "<tr>\n",
       "  <th>Date:</th>             <td>Sat, 12 Aug 2023</td> <th>  Prob (F-statistic):</th>   <td>  0.00</td>   \n",
       "</tr>\n",
       "<tr>\n",
       "  <th>Time:</th>                 <td>18:42:51</td>     <th>  Log-Likelihood:    </th> <td>-4.3344e+05</td>\n",
       "</tr>\n",
       "<tr>\n",
       "  <th>No. Observations:</th>      <td> 29807</td>      <th>  AIC:               </th>  <td>8.669e+05</td> \n",
       "</tr>\n",
       "<tr>\n",
       "  <th>Df Residuals:</th>          <td> 29796</td>      <th>  BIC:               </th>  <td>8.670e+05</td> \n",
       "</tr>\n",
       "<tr>\n",
       "  <th>Df Model:</th>              <td>    10</td>      <th>                     </th>      <td> </td>     \n",
       "</tr>\n",
       "<tr>\n",
       "  <th>Covariance Type:</th>      <td>nonrobust</td>    <th>                     </th>      <td> </td>     \n",
       "</tr>\n",
       "</table>\n",
       "<table class=\"simpletable\">\n",
       "<tr>\n",
       "        <td></td>           <th>coef</th>     <th>std err</th>      <th>t</th>      <th>P>|t|</th>  <th>[0.025</th>    <th>0.975]</th>  \n",
       "</tr>\n",
       "<tr>\n",
       "  <th>const</th>         <td> 6.655e+06</td> <td> 2.51e+05</td> <td>   26.515</td> <td> 0.000</td> <td> 6.16e+06</td> <td> 7.15e+06</td>\n",
       "</tr>\n",
       "<tr>\n",
       "  <th>bedrooms</th>      <td>-1.091e+05</td> <td> 4041.609</td> <td>  -26.986</td> <td> 0.000</td> <td>-1.17e+05</td> <td>-1.01e+05</td>\n",
       "</tr>\n",
       "<tr>\n",
       "  <th>bathrooms</th>     <td> 1.162e+05</td> <td> 5885.899</td> <td>   19.734</td> <td> 0.000</td> <td> 1.05e+05</td> <td> 1.28e+05</td>\n",
       "</tr>\n",
       "<tr>\n",
       "  <th>sqft_living</th>   <td>  303.2609</td> <td>   13.609</td> <td>   22.283</td> <td> 0.000</td> <td>  276.586</td> <td>  329.936</td>\n",
       "</tr>\n",
       "<tr>\n",
       "  <th>sqft_lot</th>      <td>    0.0019</td> <td>    0.051</td> <td>    0.037</td> <td> 0.970</td> <td>   -0.098</td> <td>    0.101</td>\n",
       "</tr>\n",
       "<tr>\n",
       "  <th>floors</th>        <td>   3.9e+04</td> <td> 7124.309</td> <td>    5.474</td> <td> 0.000</td> <td>  2.5e+04</td> <td>  5.3e+04</td>\n",
       "</tr>\n",
       "<tr>\n",
       "  <th>sqft_above</th>    <td>  202.6998</td> <td>   13.896</td> <td>   14.587</td> <td> 0.000</td> <td>  175.463</td> <td>  229.936</td>\n",
       "</tr>\n",
       "<tr>\n",
       "  <th>sqft_basement</th> <td>  101.1899</td> <td>   10.177</td> <td>    9.943</td> <td> 0.000</td> <td>   81.243</td> <td>  121.137</td>\n",
       "</tr>\n",
       "<tr>\n",
       "  <th>sqft_garage</th>   <td>  -51.8612</td> <td>   14.017</td> <td>   -3.700</td> <td> 0.000</td> <td>  -79.335</td> <td>  -24.387</td>\n",
       "</tr>\n",
       "<tr>\n",
       "  <th>sqft_patio</th>    <td>  159.9047</td> <td>   13.283</td> <td>   12.039</td> <td> 0.000</td> <td>  133.870</td> <td>  185.939</td>\n",
       "</tr>\n",
       "<tr>\n",
       "  <th>yr_built</th>      <td>-3343.4651</td> <td>  130.121</td> <td>  -25.695</td> <td> 0.000</td> <td>-3598.507</td> <td>-3088.423</td>\n",
       "</tr>\n",
       "</table>\n",
       "<table class=\"simpletable\">\n",
       "<tr>\n",
       "  <th>Omnibus:</th>       <td>11889.713</td> <th>  Durbin-Watson:     </th>  <td>   1.931</td> \n",
       "</tr>\n",
       "<tr>\n",
       "  <th>Prob(Omnibus):</th>  <td> 0.000</td>   <th>  Jarque-Bera (JB):  </th> <td>105797.339</td>\n",
       "</tr>\n",
       "<tr>\n",
       "  <th>Skew:</th>           <td> 1.679</td>   <th>  Prob(JB):          </th>  <td>    0.00</td> \n",
       "</tr>\n",
       "<tr>\n",
       "  <th>Kurtosis:</th>       <td>11.597</td>   <th>  Cond. No.          </th>  <td>5.28e+06</td> \n",
       "</tr>\n",
       "</table><br/><br/>Notes:<br/>[1] Standard Errors assume that the covariance matrix of the errors is correctly specified.<br/>[2] The condition number is large, 5.28e+06. This might indicate that there are<br/>strong multicollinearity or other numerical problems."
      ],
      "text/plain": [
       "<class 'statsmodels.iolib.summary.Summary'>\n",
       "\"\"\"\n",
       "                            OLS Regression Results                            \n",
       "==============================================================================\n",
       "Dep. Variable:                  price   R-squared:                       0.464\n",
       "Model:                            OLS   Adj. R-squared:                  0.464\n",
       "Method:                 Least Squares   F-statistic:                     2579.\n",
       "Date:                Sat, 12 Aug 2023   Prob (F-statistic):               0.00\n",
       "Time:                        18:42:51   Log-Likelihood:            -4.3344e+05\n",
       "No. Observations:               29807   AIC:                         8.669e+05\n",
       "Df Residuals:                   29796   BIC:                         8.670e+05\n",
       "Df Model:                          10                                         \n",
       "Covariance Type:            nonrobust                                         \n",
       "=================================================================================\n",
       "                    coef    std err          t      P>|t|      [0.025      0.975]\n",
       "---------------------------------------------------------------------------------\n",
       "const          6.655e+06   2.51e+05     26.515      0.000    6.16e+06    7.15e+06\n",
       "bedrooms      -1.091e+05   4041.609    -26.986      0.000   -1.17e+05   -1.01e+05\n",
       "bathrooms      1.162e+05   5885.899     19.734      0.000    1.05e+05    1.28e+05\n",
       "sqft_living     303.2609     13.609     22.283      0.000     276.586     329.936\n",
       "sqft_lot          0.0019      0.051      0.037      0.970      -0.098       0.101\n",
       "floors           3.9e+04   7124.309      5.474      0.000     2.5e+04     5.3e+04\n",
       "sqft_above      202.6998     13.896     14.587      0.000     175.463     229.936\n",
       "sqft_basement   101.1899     10.177      9.943      0.000      81.243     121.137\n",
       "sqft_garage     -51.8612     14.017     -3.700      0.000     -79.335     -24.387\n",
       "sqft_patio      159.9047     13.283     12.039      0.000     133.870     185.939\n",
       "yr_built      -3343.4651    130.121    -25.695      0.000   -3598.507   -3088.423\n",
       "==============================================================================\n",
       "Omnibus:                    11889.713   Durbin-Watson:                   1.931\n",
       "Prob(Omnibus):                  0.000   Jarque-Bera (JB):           105797.339\n",
       "Skew:                           1.679   Prob(JB):                         0.00\n",
       "Kurtosis:                      11.597   Cond. No.                     5.28e+06\n",
       "==============================================================================\n",
       "\n",
       "Notes:\n",
       "[1] Standard Errors assume that the covariance matrix of the errors is correctly specified.\n",
       "[2] The condition number is large, 5.28e+06. This might indicate that there are\n",
       "strong multicollinearity or other numerical problems.\n",
       "\"\"\""
      ]
     },
     "execution_count": 46,
     "metadata": {},
     "output_type": "execute_result"
    }
   ],
   "source": [
    "model.summary()"
   ]
  },
  {
   "cell_type": "markdown",
   "id": "0b52e0fb",
   "metadata": {},
   "source": [
    "* r-squared is below 0.50, indicating not a great r-squared. \n",
    "* This means: 46.4% of variance in the dataset is being explained\n",
    "* We are picking up on some kind of correlation between these predictors for renovation and price\n",
    "  * This indicates that variables don't have a high correlation with one another \n",
    "  * Nevertheless, in a real life related dataset, this is anticipated \n",
    "\n",
    "* the p-values look good, except sqft_lot so could be dropped\n",
    "\n",
    "* the coefficient for yr_built is large in absolute terms:\n",
    "  * difference in scales compared to other predictors \n",
    "  * large variable variation \n",
    "  * the size of the beta means how important the feature is which needs to be taken with care, because what the scale of the variable in the first place affects the size of the coefficient\n",
    "  \n",
    "  "
   ]
  },
  {
   "cell_type": "code",
   "execution_count": 47,
   "id": "36268b1b",
   "metadata": {},
   "outputs": [],
   "source": [
    "# yr_built can be removed to re-evaluate the model  "
   ]
  },
  {
   "cell_type": "markdown",
   "id": "4820fe5f",
   "metadata": {},
   "source": [
    "### Scaling"
   ]
  },
  {
   "cell_type": "code",
   "execution_count": null,
   "id": "19d86d0c",
   "metadata": {},
   "outputs": [],
   "source": []
  },
  {
   "cell_type": "code",
   "execution_count": null,
   "id": "9059106b",
   "metadata": {},
   "outputs": [],
   "source": []
  },
  {
   "cell_type": "code",
   "execution_count": null,
   "id": "bfa2f2c3",
   "metadata": {},
   "outputs": [],
   "source": []
  },
  {
   "cell_type": "code",
   "execution_count": null,
   "id": "089c25d3",
   "metadata": {},
   "outputs": [],
   "source": []
  },
  {
   "cell_type": "code",
   "execution_count": null,
   "id": "1e54389b",
   "metadata": {},
   "outputs": [],
   "source": []
  },
  {
   "cell_type": "code",
   "execution_count": null,
   "id": "e345385b",
   "metadata": {},
   "outputs": [],
   "source": []
  },
  {
   "cell_type": "markdown",
   "id": "e2c74384",
   "metadata": {},
   "source": [
    "#### Identifying a Promising Predictor"
   ]
  },
  {
   "cell_type": "code",
   "execution_count": 48,
   "id": "047402ee",
   "metadata": {},
   "outputs": [],
   "source": [
    "categorical_features = categoricals.columns"
   ]
  },
  {
   "cell_type": "code",
   "execution_count": 49,
   "id": "8d26e704",
   "metadata": {
    "scrolled": true
   },
   "outputs": [
    {
     "data": {
      "text/plain": [
       "Index(['nuisance', 'condition', 'grade', 'heat_source', 'sewer_system'], dtype='object')"
      ]
     },
     "execution_count": 49,
     "metadata": {},
     "output_type": "execute_result"
    }
   ],
   "source": [
    "categorical_features"
   ]
  },
  {
   "cell_type": "code",
   "execution_count": 50,
   "id": "b317c5d8",
   "metadata": {},
   "outputs": [
    {
     "data": {
      "image/png": "[encoded data removed]",
      "text/plain": [
       "<Figure size 1200x600 with 5 Axes>"
      ]
     },
     "metadata": {},
     "output_type": "display_data"
    }
   ],
   "source": [
    "fig, axes = plt.subplots(ncols=len(categorical_features), figsize=(12, 6))\n",
    "for index, feature in enumerate(categoricals):\n",
    "    kc_house_df.groupby(feature).mean().sort_values(\"price\").plot.bar(y=\"price\", ax=axes[index])"
   ]
  },
  {
   "cell_type": "markdown",
   "id": "21e16d21",
   "metadata": {},
   "source": [
    "Most categorical features seem to correlate with price except for nuisance.\n",
    "\n",
    "We will start with the overall representation: condition, as even though grade gives an idea, reaching a mansion by renovation is less likely. "
   ]
  },
  {
   "cell_type": "code",
   "execution_count": 51,
   "id": "26d5ce93",
   "metadata": {},
   "outputs": [],
   "source": [
    "cat_feature = \"condition\""
   ]
  },
  {
   "cell_type": "code",
   "execution_count": null,
   "id": "02b25656",
   "metadata": {},
   "outputs": [],
   "source": []
  },
  {
   "cell_type": "markdown",
   "id": "b4e38360",
   "metadata": {},
   "source": [
    "#### Setting Up Variables for Regression"
   ]
  },
  {
   "cell_type": "markdown",
   "id": "a39c1622",
   "metadata": {},
   "source": [
    "Createing a variable X_iterated : a DataFrame containing the column with the strongest\n",
    "correlation and your selected categorical feature."
   ]
  },
  {
   "cell_type": "code",
   "execution_count": 52,
   "id": "7aca7e55",
   "metadata": {},
   "outputs": [
    {
     "data": {
      "text/html": [
       "<div>\n",
       "<style scoped>\n",
       "    .dataframe tbody tr th:only-of-type {\n",
       "        vertical-align: middle;\n",
       "    }\n",
       "\n",
       "    .dataframe tbody tr th {\n",
       "        vertical-align: top;\n",
       "    }\n",
       "\n",
       "    .dataframe thead th {\n",
       "        text-align: right;\n",
       "    }\n",
       "</style>\n",
       "<table border=\"1\" class=\"dataframe\">\n",
       "  <thead>\n",
       "    <tr style=\"text-align: right;\">\n",
       "      <th></th>\n",
       "      <th>sqft_living</th>\n",
       "      <th>condition</th>\n",
       "    </tr>\n",
       "  </thead>\n",
       "  <tbody>\n",
       "    <tr>\n",
       "      <th>0</th>\n",
       "      <td>1180</td>\n",
       "      <td>Good</td>\n",
       "    </tr>\n",
       "    <tr>\n",
       "      <th>1</th>\n",
       "      <td>2770</td>\n",
       "      <td>Average</td>\n",
       "    </tr>\n",
       "    <tr>\n",
       "      <th>2</th>\n",
       "      <td>2880</td>\n",
       "      <td>Average</td>\n",
       "    </tr>\n",
       "    <tr>\n",
       "      <th>3</th>\n",
       "      <td>2160</td>\n",
       "      <td>Average</td>\n",
       "    </tr>\n",
       "    <tr>\n",
       "      <th>4</th>\n",
       "      <td>1120</td>\n",
       "      <td>Average</td>\n",
       "    </tr>\n",
       "    <tr>\n",
       "      <th>...</th>\n",
       "      <td>...</td>\n",
       "      <td>...</td>\n",
       "    </tr>\n",
       "    <tr>\n",
       "      <th>30150</th>\n",
       "      <td>1910</td>\n",
       "      <td>Good</td>\n",
       "    </tr>\n",
       "    <tr>\n",
       "      <th>30151</th>\n",
       "      <td>2020</td>\n",
       "      <td>Average</td>\n",
       "    </tr>\n",
       "    <tr>\n",
       "      <th>30152</th>\n",
       "      <td>1620</td>\n",
       "      <td>Average</td>\n",
       "    </tr>\n",
       "    <tr>\n",
       "      <th>30153</th>\n",
       "      <td>2570</td>\n",
       "      <td>Average</td>\n",
       "    </tr>\n",
       "    <tr>\n",
       "      <th>30154</th>\n",
       "      <td>1200</td>\n",
       "      <td>Average</td>\n",
       "    </tr>\n",
       "  </tbody>\n",
       "</table>\n",
       "<p>29807 rows × 2 columns</p>\n",
       "</div>"
      ],
      "text/plain": [
       "       sqft_living condition\n",
       "0             1180      Good\n",
       "1             2770   Average\n",
       "2             2880   Average\n",
       "3             2160   Average\n",
       "4             1120   Average\n",
       "...            ...       ...\n",
       "30150         1910      Good\n",
       "30151         2020   Average\n",
       "30152         1620   Average\n",
       "30153         2570   Average\n",
       "30154         1200   Average\n",
       "\n",
       "[29807 rows x 2 columns]"
      ]
     },
     "execution_count": 52,
     "metadata": {},
     "output_type": "execute_result"
    }
   ],
   "source": [
    "X_iterated = kc_house_df[[most_correlated, cat_feature]]\n",
    "X_iterated"
   ]
  },
  {
   "cell_type": "code",
   "execution_count": null,
   "id": "f7cbbd05",
   "metadata": {},
   "outputs": [],
   "source": []
  },
  {
   "cell_type": "markdown",
   "id": "5f68393c",
   "metadata": {},
   "source": [
    "#### Preprocessing Categorical Variable"
   ]
  },
  {
   "cell_type": "code",
   "execution_count": 53,
   "id": "1f7b7680",
   "metadata": {},
   "outputs": [
    {
     "data": {
      "text/html": [
       "<div>\n",
       "<style scoped>\n",
       "    .dataframe tbody tr th:only-of-type {\n",
       "        vertical-align: middle;\n",
       "    }\n",
       "\n",
       "    .dataframe tbody tr th {\n",
       "        vertical-align: top;\n",
       "    }\n",
       "\n",
       "    .dataframe thead th {\n",
       "        text-align: right;\n",
       "    }\n",
       "</style>\n",
       "<table border=\"1\" class=\"dataframe\">\n",
       "  <thead>\n",
       "    <tr style=\"text-align: right;\">\n",
       "      <th></th>\n",
       "      <th>sqft_living</th>\n",
       "      <th>condition_Average</th>\n",
       "      <th>condition_Fair</th>\n",
       "      <th>condition_Good</th>\n",
       "      <th>condition_Poor</th>\n",
       "      <th>condition_Very Good</th>\n",
       "    </tr>\n",
       "  </thead>\n",
       "  <tbody>\n",
       "    <tr>\n",
       "      <th>0</th>\n",
       "      <td>1180</td>\n",
       "      <td>0</td>\n",
       "      <td>0</td>\n",
       "      <td>1</td>\n",
       "      <td>0</td>\n",
       "      <td>0</td>\n",
       "    </tr>\n",
       "    <tr>\n",
       "      <th>1</th>\n",
       "      <td>2770</td>\n",
       "      <td>1</td>\n",
       "      <td>0</td>\n",
       "      <td>0</td>\n",
       "      <td>0</td>\n",
       "      <td>0</td>\n",
       "    </tr>\n",
       "    <tr>\n",
       "      <th>2</th>\n",
       "      <td>2880</td>\n",
       "      <td>1</td>\n",
       "      <td>0</td>\n",
       "      <td>0</td>\n",
       "      <td>0</td>\n",
       "      <td>0</td>\n",
       "    </tr>\n",
       "    <tr>\n",
       "      <th>3</th>\n",
       "      <td>2160</td>\n",
       "      <td>1</td>\n",
       "      <td>0</td>\n",
       "      <td>0</td>\n",
       "      <td>0</td>\n",
       "      <td>0</td>\n",
       "    </tr>\n",
       "    <tr>\n",
       "      <th>4</th>\n",
       "      <td>1120</td>\n",
       "      <td>1</td>\n",
       "      <td>0</td>\n",
       "      <td>0</td>\n",
       "      <td>0</td>\n",
       "      <td>0</td>\n",
       "    </tr>\n",
       "    <tr>\n",
       "      <th>...</th>\n",
       "      <td>...</td>\n",
       "      <td>...</td>\n",
       "      <td>...</td>\n",
       "      <td>...</td>\n",
       "      <td>...</td>\n",
       "      <td>...</td>\n",
       "    </tr>\n",
       "    <tr>\n",
       "      <th>30150</th>\n",
       "      <td>1910</td>\n",
       "      <td>0</td>\n",
       "      <td>0</td>\n",
       "      <td>1</td>\n",
       "      <td>0</td>\n",
       "      <td>0</td>\n",
       "    </tr>\n",
       "    <tr>\n",
       "      <th>30151</th>\n",
       "      <td>2020</td>\n",
       "      <td>1</td>\n",
       "      <td>0</td>\n",
       "      <td>0</td>\n",
       "      <td>0</td>\n",
       "      <td>0</td>\n",
       "    </tr>\n",
       "    <tr>\n",
       "      <th>30152</th>\n",
       "      <td>1620</td>\n",
       "      <td>1</td>\n",
       "      <td>0</td>\n",
       "      <td>0</td>\n",
       "      <td>0</td>\n",
       "      <td>0</td>\n",
       "    </tr>\n",
       "    <tr>\n",
       "      <th>30153</th>\n",
       "      <td>2570</td>\n",
       "      <td>1</td>\n",
       "      <td>0</td>\n",
       "      <td>0</td>\n",
       "      <td>0</td>\n",
       "      <td>0</td>\n",
       "    </tr>\n",
       "    <tr>\n",
       "      <th>30154</th>\n",
       "      <td>1200</td>\n",
       "      <td>1</td>\n",
       "      <td>0</td>\n",
       "      <td>0</td>\n",
       "      <td>0</td>\n",
       "      <td>0</td>\n",
       "    </tr>\n",
       "  </tbody>\n",
       "</table>\n",
       "<p>29807 rows × 6 columns</p>\n",
       "</div>"
      ],
      "text/plain": [
       "       sqft_living  condition_Average  condition_Fair  condition_Good  \\\n",
       "0             1180                  0               0               1   \n",
       "1             2770                  1               0               0   \n",
       "2             2880                  1               0               0   \n",
       "3             2160                  1               0               0   \n",
       "4             1120                  1               0               0   \n",
       "...            ...                ...             ...             ...   \n",
       "30150         1910                  0               0               1   \n",
       "30151         2020                  1               0               0   \n",
       "30152         1620                  1               0               0   \n",
       "30153         2570                  1               0               0   \n",
       "30154         1200                  1               0               0   \n",
       "\n",
       "       condition_Poor  condition_Very Good  \n",
       "0                   0                    0  \n",
       "1                   0                    0  \n",
       "2                   0                    0  \n",
       "3                   0                    0  \n",
       "4                   0                    0  \n",
       "...               ...                  ...  \n",
       "30150               0                    0  \n",
       "30151               0                    0  \n",
       "30152               0                    0  \n",
       "30153               0                    0  \n",
       "30154               0                    0  \n",
       "\n",
       "[29807 rows x 6 columns]"
      ]
     },
     "execution_count": 53,
     "metadata": {},
     "output_type": "execute_result"
    }
   ],
   "source": [
    "X_iterated = pd.get_dummies(X_iterated, columns=[cat_feature])\n",
    "X_iterated"
   ]
  },
  {
   "cell_type": "code",
   "execution_count": 54,
   "id": "07efd50d",
   "metadata": {},
   "outputs": [],
   "source": [
    "# Dropping \"condition_Poor\" as a baseline, because is the worst ranking given for a condition "
   ]
  },
  {
   "cell_type": "code",
   "execution_count": 55,
   "id": "1aa4358c",
   "metadata": {},
   "outputs": [
    {
     "data": {
      "text/html": [
       "<div>\n",
       "<style scoped>\n",
       "    .dataframe tbody tr th:only-of-type {\n",
       "        vertical-align: middle;\n",
       "    }\n",
       "\n",
       "    .dataframe tbody tr th {\n",
       "        vertical-align: top;\n",
       "    }\n",
       "\n",
       "    .dataframe thead th {\n",
       "        text-align: right;\n",
       "    }\n",
       "</style>\n",
       "<table border=\"1\" class=\"dataframe\">\n",
       "  <thead>\n",
       "    <tr style=\"text-align: right;\">\n",
       "      <th></th>\n",
       "      <th>sqft_living</th>\n",
       "      <th>condition_Average</th>\n",
       "      <th>condition_Fair</th>\n",
       "      <th>condition_Good</th>\n",
       "      <th>condition_Very Good</th>\n",
       "    </tr>\n",
       "  </thead>\n",
       "  <tbody>\n",
       "    <tr>\n",
       "      <th>0</th>\n",
       "      <td>1180</td>\n",
       "      <td>0</td>\n",
       "      <td>0</td>\n",
       "      <td>1</td>\n",
       "      <td>0</td>\n",
       "    </tr>\n",
       "    <tr>\n",
       "      <th>1</th>\n",
       "      <td>2770</td>\n",
       "      <td>1</td>\n",
       "      <td>0</td>\n",
       "      <td>0</td>\n",
       "      <td>0</td>\n",
       "    </tr>\n",
       "    <tr>\n",
       "      <th>2</th>\n",
       "      <td>2880</td>\n",
       "      <td>1</td>\n",
       "      <td>0</td>\n",
       "      <td>0</td>\n",
       "      <td>0</td>\n",
       "    </tr>\n",
       "    <tr>\n",
       "      <th>3</th>\n",
       "      <td>2160</td>\n",
       "      <td>1</td>\n",
       "      <td>0</td>\n",
       "      <td>0</td>\n",
       "      <td>0</td>\n",
       "    </tr>\n",
       "    <tr>\n",
       "      <th>4</th>\n",
       "      <td>1120</td>\n",
       "      <td>1</td>\n",
       "      <td>0</td>\n",
       "      <td>0</td>\n",
       "      <td>0</td>\n",
       "    </tr>\n",
       "    <tr>\n",
       "      <th>...</th>\n",
       "      <td>...</td>\n",
       "      <td>...</td>\n",
       "      <td>...</td>\n",
       "      <td>...</td>\n",
       "      <td>...</td>\n",
       "    </tr>\n",
       "    <tr>\n",
       "      <th>30150</th>\n",
       "      <td>1910</td>\n",
       "      <td>0</td>\n",
       "      <td>0</td>\n",
       "      <td>1</td>\n",
       "      <td>0</td>\n",
       "    </tr>\n",
       "    <tr>\n",
       "      <th>30151</th>\n",
       "      <td>2020</td>\n",
       "      <td>1</td>\n",
       "      <td>0</td>\n",
       "      <td>0</td>\n",
       "      <td>0</td>\n",
       "    </tr>\n",
       "    <tr>\n",
       "      <th>30152</th>\n",
       "      <td>1620</td>\n",
       "      <td>1</td>\n",
       "      <td>0</td>\n",
       "      <td>0</td>\n",
       "      <td>0</td>\n",
       "    </tr>\n",
       "    <tr>\n",
       "      <th>30153</th>\n",
       "      <td>2570</td>\n",
       "      <td>1</td>\n",
       "      <td>0</td>\n",
       "      <td>0</td>\n",
       "      <td>0</td>\n",
       "    </tr>\n",
       "    <tr>\n",
       "      <th>30154</th>\n",
       "      <td>1200</td>\n",
       "      <td>1</td>\n",
       "      <td>0</td>\n",
       "      <td>0</td>\n",
       "      <td>0</td>\n",
       "    </tr>\n",
       "  </tbody>\n",
       "</table>\n",
       "<p>29807 rows × 5 columns</p>\n",
       "</div>"
      ],
      "text/plain": [
       "       sqft_living  condition_Average  condition_Fair  condition_Good  \\\n",
       "0             1180                  0               0               1   \n",
       "1             2770                  1               0               0   \n",
       "2             2880                  1               0               0   \n",
       "3             2160                  1               0               0   \n",
       "4             1120                  1               0               0   \n",
       "...            ...                ...             ...             ...   \n",
       "30150         1910                  0               0               1   \n",
       "30151         2020                  1               0               0   \n",
       "30152         1620                  1               0               0   \n",
       "30153         2570                  1               0               0   \n",
       "30154         1200                  1               0               0   \n",
       "\n",
       "       condition_Very Good  \n",
       "0                        0  \n",
       "1                        0  \n",
       "2                        0  \n",
       "3                        0  \n",
       "4                        0  \n",
       "...                    ...  \n",
       "30150                    0  \n",
       "30151                    0  \n",
       "30152                    0  \n",
       "30153                    0  \n",
       "30154                    0  \n",
       "\n",
       "[29807 rows x 5 columns]"
      ]
     },
     "execution_count": 55,
     "metadata": {},
     "output_type": "execute_result"
    }
   ],
   "source": [
    "X_iterated.drop(\"condition_Poor\", axis=1, inplace=True)\n",
    "X_iterated"
   ]
  },
  {
   "cell_type": "code",
   "execution_count": null,
   "id": "c39018c5",
   "metadata": {},
   "outputs": [],
   "source": []
  },
  {
   "cell_type": "markdown",
   "id": "3609429f",
   "metadata": {},
   "source": [
    "### 6. Build a Multiple Linear Regression Model"
   ]
  },
  {
   "cell_type": "markdown",
   "id": "a634b1a9",
   "metadata": {},
   "source": [
    "Using the y variable from our previous model and X_iterated , building a model called iterated_model\n",
    "and a regression results object called iterated_results ."
   ]
  },
  {
   "cell_type": "code",
   "execution_count": 56,
   "id": "877650a1",
   "metadata": {},
   "outputs": [],
   "source": [
    "iterated_model = sm.OLS(y, sm.add_constant(X_iterated))\n",
    "iterated_results = iterated_model.fit()"
   ]
  },
  {
   "cell_type": "code",
   "execution_count": 67,
   "id": "bcf5f7a4",
   "metadata": {},
   "outputs": [
    {
     "name": "stdout",
     "output_type": "stream",
     "text": [
      "sqft_living               477.250792\n",
      "condition_Average       51872.299370\n",
      "condition_Fair          62919.975143\n",
      "condition_Good          69085.793874\n",
      "condition_Very Good    135739.940053\n",
      "dtype: float64\n",
      "8967.235833342129\n"
     ]
    }
   ],
   "source": [
    "coefficients = iterated_results.params[1:]\n",
    "intercept = iterated_results.params[0]\n",
    "print(coefficients)\n",
    "print(intercept)"
   ]
  },
  {
   "cell_type": "markdown",
   "id": "10abb5cb",
   "metadata": {},
   "source": [
    "### 6. Evaluating and Interpreting Multiple Linear Regression Model Results"
   ]
  },
  {
   "cell_type": "code",
   "execution_count": 68,
   "id": "45496492",
   "metadata": {},
   "outputs": [
    {
     "data": {
      "text/html": [
       "<table class=\"simpletable\">\n",
       "<caption>OLS Regression Results</caption>\n",
       "<tr>\n",
       "  <th>Dep. Variable:</th>          <td>price</td>      <th>  R-squared:         </th>  <td>   0.429</td>  \n",
       "</tr>\n",
       "<tr>\n",
       "  <th>Model:</th>                   <td>OLS</td>       <th>  Adj. R-squared:    </th>  <td>   0.429</td>  \n",
       "</tr>\n",
       "<tr>\n",
       "  <th>Method:</th>             <td>Least Squares</td>  <th>  F-statistic:       </th>  <td>   4478.</td>  \n",
       "</tr>\n",
       "<tr>\n",
       "  <th>Date:</th>             <td>Sat, 12 Aug 2023</td> <th>  Prob (F-statistic):</th>   <td>  0.00</td>   \n",
       "</tr>\n",
       "<tr>\n",
       "  <th>Time:</th>                 <td>19:41:56</td>     <th>  Log-Likelihood:    </th> <td>-4.3439e+05</td>\n",
       "</tr>\n",
       "<tr>\n",
       "  <th>No. Observations:</th>      <td> 29807</td>      <th>  AIC:               </th>  <td>8.688e+05</td> \n",
       "</tr>\n",
       "<tr>\n",
       "  <th>Df Residuals:</th>          <td> 29801</td>      <th>  BIC:               </th>  <td>8.688e+05</td> \n",
       "</tr>\n",
       "<tr>\n",
       "  <th>Df Model:</th>              <td>     5</td>      <th>                     </th>      <td> </td>     \n",
       "</tr>\n",
       "<tr>\n",
       "  <th>Covariance Type:</th>      <td>nonrobust</td>    <th>                     </th>      <td> </td>     \n",
       "</tr>\n",
       "</table>\n",
       "<table class=\"simpletable\">\n",
       "<tr>\n",
       "           <td></td>              <th>coef</th>     <th>std err</th>      <th>t</th>      <th>P>|t|</th>  <th>[0.025</th>    <th>0.975]</th>  \n",
       "</tr>\n",
       "<tr>\n",
       "  <th>const</th>               <td> 8967.2358</td> <td> 6.85e+04</td> <td>    0.131</td> <td> 0.896</td> <td>-1.25e+05</td> <td> 1.43e+05</td>\n",
       "</tr>\n",
       "<tr>\n",
       "  <th>sqft_living</th>         <td>  477.2508</td> <td>    3.204</td> <td>  148.959</td> <td> 0.000</td> <td>  470.971</td> <td>  483.531</td>\n",
       "</tr>\n",
       "<tr>\n",
       "  <th>condition_Average</th>   <td> 5.187e+04</td> <td> 6.86e+04</td> <td>    0.757</td> <td> 0.449</td> <td>-8.25e+04</td> <td> 1.86e+05</td>\n",
       "</tr>\n",
       "<tr>\n",
       "  <th>condition_Fair</th>      <td> 6.292e+04</td> <td> 7.66e+04</td> <td>    0.821</td> <td> 0.411</td> <td>-8.72e+04</td> <td> 2.13e+05</td>\n",
       "</tr>\n",
       "<tr>\n",
       "  <th>condition_Good</th>      <td> 6.909e+04</td> <td> 6.87e+04</td> <td>    1.006</td> <td> 0.314</td> <td>-6.55e+04</td> <td> 2.04e+05</td>\n",
       "</tr>\n",
       "<tr>\n",
       "  <th>condition_Very Good</th> <td> 1.357e+05</td> <td>  6.9e+04</td> <td>    1.966</td> <td> 0.049</td> <td>  440.895</td> <td> 2.71e+05</td>\n",
       "</tr>\n",
       "</table>\n",
       "<table class=\"simpletable\">\n",
       "<tr>\n",
       "  <th>Omnibus:</th>       <td>12119.347</td> <th>  Durbin-Watson:     </th>  <td>   1.935</td> \n",
       "</tr>\n",
       "<tr>\n",
       "  <th>Prob(Omnibus):</th>  <td> 0.000</td>   <th>  Jarque-Bera (JB):  </th> <td>100578.330</td>\n",
       "</tr>\n",
       "<tr>\n",
       "  <th>Skew:</th>           <td> 1.743</td>   <th>  Prob(JB):          </th>  <td>    0.00</td> \n",
       "</tr>\n",
       "<tr>\n",
       "  <th>Kurtosis:</th>       <td>11.297</td>   <th>  Cond. No.          </th>  <td>1.18e+05</td> \n",
       "</tr>\n",
       "</table><br/><br/>Notes:<br/>[1] Standard Errors assume that the covariance matrix of the errors is correctly specified.<br/>[2] The condition number is large, 1.18e+05. This might indicate that there are<br/>strong multicollinearity or other numerical problems."
      ],
      "text/plain": [
       "<class 'statsmodels.iolib.summary.Summary'>\n",
       "\"\"\"\n",
       "                            OLS Regression Results                            \n",
       "==============================================================================\n",
       "Dep. Variable:                  price   R-squared:                       0.429\n",
       "Model:                            OLS   Adj. R-squared:                  0.429\n",
       "Method:                 Least Squares   F-statistic:                     4478.\n",
       "Date:                Sat, 12 Aug 2023   Prob (F-statistic):               0.00\n",
       "Time:                        19:41:56   Log-Likelihood:            -4.3439e+05\n",
       "No. Observations:               29807   AIC:                         8.688e+05\n",
       "Df Residuals:                   29801   BIC:                         8.688e+05\n",
       "Df Model:                           5                                         \n",
       "Covariance Type:            nonrobust                                         \n",
       "=======================================================================================\n",
       "                          coef    std err          t      P>|t|      [0.025      0.975]\n",
       "---------------------------------------------------------------------------------------\n",
       "const                8967.2358   6.85e+04      0.131      0.896   -1.25e+05    1.43e+05\n",
       "sqft_living           477.2508      3.204    148.959      0.000     470.971     483.531\n",
       "condition_Average    5.187e+04   6.86e+04      0.757      0.449   -8.25e+04    1.86e+05\n",
       "condition_Fair       6.292e+04   7.66e+04      0.821      0.411   -8.72e+04    2.13e+05\n",
       "condition_Good       6.909e+04   6.87e+04      1.006      0.314   -6.55e+04    2.04e+05\n",
       "condition_Very Good  1.357e+05    6.9e+04      1.966      0.049     440.895    2.71e+05\n",
       "==============================================================================\n",
       "Omnibus:                    12119.347   Durbin-Watson:                   1.935\n",
       "Prob(Omnibus):                  0.000   Jarque-Bera (JB):           100578.330\n",
       "Skew:                           1.743   Prob(JB):                         0.00\n",
       "Kurtosis:                      11.297   Cond. No.                     1.18e+05\n",
       "==============================================================================\n",
       "\n",
       "Notes:\n",
       "[1] Standard Errors assume that the covariance matrix of the errors is correctly specified.\n",
       "[2] The condition number is large, 1.18e+05. This might indicate that there are\n",
       "strong multicollinearity or other numerical problems.\n",
       "\"\"\""
      ]
     },
     "execution_count": 68,
     "metadata": {},
     "output_type": "execute_result"
    }
   ],
   "source": [
    "iterated_results.summary()"
   ]
  },
  {
   "cell_type": "markdown",
   "id": "525fdf53",
   "metadata": {},
   "source": [
    "* Coefficients indicate that for a 0 price, a condition_Very Good would add 135,700 to the price\n",
    "    * Recommendation for renovations is to get as close to condition very good.\n",
    "    * Using the Glossary, Condition Very Good corresponds to the below:\n",
    "    https://info.kingcounty.gov/assessor/esales/Glossary.aspx?type=r#c\n",
    "    5= Very Good- All items well maintained, many having been overhauled and repaired as they have shown signs of wear, increasing the life expectancy and lowering the effective age with little deterioration or obsolescence evident with a high degree of utility.\n",
    "    \n",
    "    On the other hand, Fair and Good condications only add another 63 and 69K so reaching the level of Very Good would be a true added value to sell the house.\n",
    "    \n",
    "    \n",
    "* Coefficient intervals: [0.025\t0.975]\n",
    "    * condition very good range have lower uncertainty:  higher confidence intervals: from 440.9 to 271,000 whereas good and fair go from -65,500 to 204,000 and 0 -87,200 to 213,000\n",
    "\n",
    "* Std Error:\n"
   ]
  },
  {
   "cell_type": "markdown",
   "id": "9f8a6f06",
   "metadata": {},
   "source": [
    "This OLS regression analysis is aimed at predicting the \"price\" variable based on a set of independent variables. Let's interpret the key results:\n",
    "\n",
    "1. **R-squared and Adjusted R-squared**: The R-squared value of 0.429 indicates that approximately 42.9% of the variance in the dependent variable (\"price\") is explained by the independent variables in the model. The adjusted R-squared is also 0.429, suggesting that the model's explanatory power remains consistent when accounting for the number of variables.\n",
    "\n",
    "2. **F-statistic and Prob (F-statistic)**: The F-statistic of 4478.0 with a very low probability (Prob (F-statistic) = 0.00) indicates that at least one independent variable in the model has a significant relationship with the dependent variable.\n",
    "\n",
    "3. **Coefficients (coef)**: Each coefficient represents the change in the dependent variable for a one-unit change in the corresponding independent variable, while holding other variables constant. For example:\n",
    "   - \"sqft_living\" coefficient: An increase of 1 square foot in living area is associated with an increase of $477.25 in price.\n",
    "   - \"condition_Average\" coefficient: Properties with an \"Average\" condition are associated with an increase of $51,870 in price, but the p-value is not significant (p > 0.05).\n",
    "   - \"condition_Fair\" coefficient: Properties with a \"Fair\" condition are associated with an increase of $62,920 in price, but the p-value is not significant.\n",
    "   - \"condition_Good\" coefficient: Properties with a \"Good\" condition are associated with an increase of $69,090 in price, but the p-value is not significant.\n",
    "   - \"condition_Very Good\" coefficient: Properties with a \"Very Good\" condition are associated with an increase of $135,700 in price, and the p-value (0.049) indicates that this increase is statistically significant at a 5% significance level.\n",
    "\n",
    "4. **P-values (P>|t|)**: The p-values associated with each coefficient test the null hypothesis that the coefficient is equal to zero. A low p-value (typically < 0.05) indicates that the variable has a statistically significant impact on the dependent variable.\n",
    "\n",
    "5. **Omnibus, Jarque-Bera, Skew, Kurtosis**: These statistics provide insights into the distribution of residuals and the model's fit. A low p-value (0.00) for Omnibus and Jarque-Bera indicates that the residuals are not normally distributed, and there might be issues with the model assumptions. The skewness value (1.743) suggests that the residuals are positively skewed, and the kurtosis value (11.297) indicates heavy tails in the distribution.\n",
    "\n",
    "6. **Durbin-Watson**: The Durbin-Watson statistic of approximately 1.935 suggests that there may be some positive autocorrelation among the residuals.\n",
    "\n",
    "7. **Cond. No.**: The condition number provides information about multicollinearity. A high value suggests that there might be multicollinearity among the independent variables.\n",
    "\n",
    "In summary, this regression analysis indicates that the model has some explanatory power, but there may be issues with distribution assumptions, multicollinearity, and significance levels of certain independent variables. Further investigation and diagnostics may be needed to improve the model's reliability and interpretability."
   ]
  },
  {
   "cell_type": "code",
   "execution_count": 58,
   "id": "8c3b6fe4",
   "metadata": {},
   "outputs": [
    {
     "data": {
      "text/plain": [
       "(355912.7383624806, 355653.4317614562)"
      ]
     },
     "execution_count": 58,
     "metadata": {},
     "output_type": "execute_result"
    }
   ],
   "source": [
    "iterated_mae = mean_absolute_error(y, iterated_results.predict(sm.add_constant(X_iterated)))\n",
    "baseline_mae, iterated_mae"
   ]
  },
  {
   "cell_type": "code",
   "execution_count": 59,
   "id": "bace21e0",
   "metadata": {},
   "outputs": [
    {
     "data": {
      "text/plain": [
       "(0.4275443480727944, 0.4288815982113814)"
      ]
     },
     "execution_count": 59,
     "metadata": {},
     "output_type": "execute_result"
    }
   ],
   "source": [
    "baseline_results.rsquared_adj, iterated_results.rsquared_adj"
   ]
  },
  {
   "cell_type": "code",
   "execution_count": null,
   "id": "592ec9ef",
   "metadata": {},
   "outputs": [],
   "source": []
  }
 ],
 "metadata": {
  "kernelspec": {
   "display_name": "Python 3 (ipykernel)",
   "language": "python",
   "name": "python3"
  },
  "language_info": {
   "codemirror_mode": {
    "name": "ipython",
    "version": 3
   },
   "file_extension": ".py",
   "mimetype": "text/x-python",
   "name": "python",
   "nbconvert_exporter": "python",
   "pygments_lexer": "ipython3",
   "version": "3.9.13"
  }
 },
 "nbformat": 4,
 "nbformat_minor": 5
}
