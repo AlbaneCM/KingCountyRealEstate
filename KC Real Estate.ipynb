{
 "cells": [
  {
   "cell_type": "markdown",
   "id": "cb592fa1",
   "metadata": {},
   "source": [
    "# King County Real Estate"
   ]
  },
  {
   "cell_type": "markdown",
   "id": "249ad9e0",
   "metadata": {},
   "source": [
    "## 1. Overview"
   ]
  },
  {
   "cell_type": "markdown",
   "id": "9f3572d0",
   "metadata": {},
   "source": [
    "This notebook examines King County, WA dataset of houses and reviews how and what renovations add value to a house's sale price. "
   ]
  },
  {
   "cell_type": "markdown",
   "id": "8dfc069d",
   "metadata": {},
   "source": [
    "## 2. Business Problem"
   ]
  },
  {
   "cell_type": "markdown",
   "id": "e31b931b",
   "metadata": {},
   "source": [
    "The goal is to provide advice to homeowners about how home renovations might increase the estimated value of their homes, and by what amount."
   ]
  },
  {
   "cell_type": "markdown",
   "id": "2b55e375",
   "metadata": {},
   "source": [
    "## 3. Data Understanding"
   ]
  },
  {
   "cell_type": "markdown",
   "id": "cadd193c",
   "metadata": {},
   "source": [
    "This dataset contains information about house sales in King County WA. It includes the following columns:\n",
    "* `id` - Unique identifier for a house\n",
    "* `date` - Date house was sold\n",
    "* `price` - Sale price. This criteria will be the prediction target.\n",
    "* `bedrooms` - Number of bedrooms\n",
    "* `bathrooms` - Number of bathrooms\n",
    "* `sqft_living` - Square footage of living space in the house\n",
    "* `sqft_lot` - Square footage of the lot\n",
    "* `floors` - Number of floors in house\n",
    "* `waterfront` - Indicates if the house is on a waterfront\n",
    "* `greenbelt` - Indicates if the house is near to an area of open natural, undeveloped land\n",
    "* `nuisance` - Indicates if the house has traffic noise or other nuisances\n",
    "* `view` - Quality of view from house\n",
    "* `condition` - Overall condition of the house\n",
    "* `grade` - Overall grade of the house\n",
    "* `heat_source` - Heat source for the house\n",
    "* `sewer_system` - Sewer system for the house\n",
    "* `sqft_above` - Square footage of house apart from basement\n",
    "* `sqft_basement` - Square footage of the basement\n",
    "* `sqft_garage` - Square footage of garage space\n",
    "* `sqft_patio` - Square footage of outdoor porch or deck space\n",
    "* `yr_built` - Year when house was built\n",
    "* `yr_renovated` - Year when house was renovated\n",
    "* `address` - Street address\n",
    "* `lat` - Latitude coordinate\n",
    "* `long` - Longitude coordinate"
   ]
  },
  {
   "cell_type": "markdown",
   "id": "2d7f2799",
   "metadata": {},
   "source": [
    "### 3. a- Loading the data using pandas"
   ]
  },
  {
   "cell_type": "code",
   "execution_count": 1,
   "id": "44431935",
   "metadata": {},
   "outputs": [],
   "source": [
    "import pandas as pd\n",
    "import numpy as np\n",
    "import matplotlib.pyplot as plt \n",
    "import matplotlib.ticker as ticker\n",
    "from matplotlib.patches import Rectangle\n",
    "import seaborn as sns\n",
    "import sqlite3\n",
    "import warnings\n",
    "import statsmodels.api as sm\n",
    "from sklearn.metrics import mean_absolute_error\n",
    "\n",
    "%matplotlib inline"
   ]
  },
  {
   "cell_type": "code",
   "execution_count": 2,
   "id": "3753894b",
   "metadata": {},
   "outputs": [],
   "source": [
    "kc_house_df = pd.read_csv(\"data/kc_house_data.csv\")"
   ]
  },
  {
   "cell_type": "markdown",
   "id": "05569287",
   "metadata": {},
   "source": [
    "## 4. Data Preparation"
   ]
  },
  {
   "cell_type": "code",
   "execution_count": 3,
   "id": "43c79af8",
   "metadata": {},
   "outputs": [
    {
     "name": "stdout",
     "output_type": "stream",
     "text": [
      "<class 'pandas.core.frame.DataFrame'>\n",
      "RangeIndex: 30155 entries, 0 to 30154\n",
      "Data columns (total 25 columns):\n",
      " #   Column         Non-Null Count  Dtype  \n",
      "---  ------         --------------  -----  \n",
      " 0   id             30155 non-null  int64  \n",
      " 1   date           30155 non-null  object \n",
      " 2   price          30155 non-null  float64\n",
      " 3   bedrooms       30155 non-null  int64  \n",
      " 4   bathrooms      30155 non-null  float64\n",
      " 5   sqft_living    30155 non-null  int64  \n",
      " 6   sqft_lot       30155 non-null  int64  \n",
      " 7   floors         30155 non-null  float64\n",
      " 8   waterfront     30155 non-null  object \n",
      " 9   greenbelt      30155 non-null  object \n",
      " 10  nuisance       30155 non-null  object \n",
      " 11  view           30155 non-null  object \n",
      " 12  condition      30155 non-null  object \n",
      " 13  grade          30155 non-null  object \n",
      " 14  heat_source    30123 non-null  object \n",
      " 15  sewer_system   30141 non-null  object \n",
      " 16  sqft_above     30155 non-null  int64  \n",
      " 17  sqft_basement  30155 non-null  int64  \n",
      " 18  sqft_garage    30155 non-null  int64  \n",
      " 19  sqft_patio     30155 non-null  int64  \n",
      " 20  yr_built       30155 non-null  int64  \n",
      " 21  yr_renovated   30155 non-null  int64  \n",
      " 22  address        30155 non-null  object \n",
      " 23  lat            30155 non-null  float64\n",
      " 24  long           30155 non-null  float64\n",
      "dtypes: float64(5), int64(10), object(10)\n",
      "memory usage: 5.8+ MB\n"
     ]
    }
   ],
   "source": [
    "kc_house_df.info()"
   ]
  },
  {
   "cell_type": "markdown",
   "id": "ed663ce2",
   "metadata": {},
   "source": [
    "The dataset has:\n",
    "- 25 columns: 10 integers, 5 float, 10 objects.\n",
    "- 30155 rows. 'heat_source' is the field with the highest amount of null-values: 32. Dropping them allows to keep 99.9% of the data, they were dropped without deteriorating. \n",
    "\n"
   ]
  },
  {
   "cell_type": "markdown",
   "id": "85cc7fe6",
   "metadata": {},
   "source": [
    "### 4. a- Dropping null values"
   ]
  },
  {
   "cell_type": "code",
   "execution_count": 4,
   "id": "43c28bb5",
   "metadata": {},
   "outputs": [],
   "source": [
    "# Dropping null values\n",
    "kc_house_df.dropna(inplace=True)"
   ]
  },
  {
   "cell_type": "code",
   "execution_count": 5,
   "id": "b1744ca8",
   "metadata": {},
   "outputs": [
    {
     "name": "stdout",
     "output_type": "stream",
     "text": [
      "<class 'pandas.core.frame.DataFrame'>\n",
      "Int64Index: 30111 entries, 0 to 30154\n",
      "Data columns (total 25 columns):\n",
      " #   Column         Non-Null Count  Dtype  \n",
      "---  ------         --------------  -----  \n",
      " 0   id             30111 non-null  int64  \n",
      " 1   date           30111 non-null  object \n",
      " 2   price          30111 non-null  float64\n",
      " 3   bedrooms       30111 non-null  int64  \n",
      " 4   bathrooms      30111 non-null  float64\n",
      " 5   sqft_living    30111 non-null  int64  \n",
      " 6   sqft_lot       30111 non-null  int64  \n",
      " 7   floors         30111 non-null  float64\n",
      " 8   waterfront     30111 non-null  object \n",
      " 9   greenbelt      30111 non-null  object \n",
      " 10  nuisance       30111 non-null  object \n",
      " 11  view           30111 non-null  object \n",
      " 12  condition      30111 non-null  object \n",
      " 13  grade          30111 non-null  object \n",
      " 14  heat_source    30111 non-null  object \n",
      " 15  sewer_system   30111 non-null  object \n",
      " 16  sqft_above     30111 non-null  int64  \n",
      " 17  sqft_basement  30111 non-null  int64  \n",
      " 18  sqft_garage    30111 non-null  int64  \n",
      " 19  sqft_patio     30111 non-null  int64  \n",
      " 20  yr_built       30111 non-null  int64  \n",
      " 21  yr_renovated   30111 non-null  int64  \n",
      " 22  address        30111 non-null  object \n",
      " 23  lat            30111 non-null  float64\n",
      " 24  long           30111 non-null  float64\n",
      "dtypes: float64(5), int64(10), object(10)\n",
      "memory usage: 6.0+ MB\n"
     ]
    }
   ],
   "source": [
    "# Verifying null values were dropped\n",
    "kc_house_df.info()"
   ]
  },
  {
   "cell_type": "code",
   "execution_count": 6,
   "id": "9988a5c6",
   "metadata": {},
   "outputs": [
    {
     "data": {
      "text/html": [
       "<div>\n",
       "<style scoped>\n",
       "    .dataframe tbody tr th:only-of-type {\n",
       "        vertical-align: middle;\n",
       "    }\n",
       "\n",
       "    .dataframe tbody tr th {\n",
       "        vertical-align: top;\n",
       "    }\n",
       "\n",
       "    .dataframe thead th {\n",
       "        text-align: right;\n",
       "    }\n",
       "</style>\n",
       "<table border=\"1\" class=\"dataframe\">\n",
       "  <thead>\n",
       "    <tr style=\"text-align: right;\">\n",
       "      <th></th>\n",
       "      <th>id</th>\n",
       "      <th>price</th>\n",
       "      <th>bedrooms</th>\n",
       "      <th>bathrooms</th>\n",
       "      <th>sqft_living</th>\n",
       "      <th>sqft_lot</th>\n",
       "      <th>floors</th>\n",
       "      <th>sqft_above</th>\n",
       "      <th>sqft_basement</th>\n",
       "      <th>sqft_garage</th>\n",
       "      <th>sqft_patio</th>\n",
       "      <th>yr_built</th>\n",
       "      <th>yr_renovated</th>\n",
       "      <th>lat</th>\n",
       "      <th>long</th>\n",
       "    </tr>\n",
       "  </thead>\n",
       "  <tbody>\n",
       "    <tr>\n",
       "      <th>count</th>\n",
       "      <td>3.011100e+04</td>\n",
       "      <td>3.011100e+04</td>\n",
       "      <td>30111.000000</td>\n",
       "      <td>30111.000000</td>\n",
       "      <td>30111.000000</td>\n",
       "      <td>3.011100e+04</td>\n",
       "      <td>30111.000000</td>\n",
       "      <td>30111.000000</td>\n",
       "      <td>30111.000000</td>\n",
       "      <td>30111.000000</td>\n",
       "      <td>30111.000000</td>\n",
       "      <td>30111.000000</td>\n",
       "      <td>30111.000000</td>\n",
       "      <td>30111.000000</td>\n",
       "      <td>30111.000000</td>\n",
       "    </tr>\n",
       "    <tr>\n",
       "      <th>mean</th>\n",
       "      <td>4.539171e+09</td>\n",
       "      <td>1.108971e+06</td>\n",
       "      <td>3.415197</td>\n",
       "      <td>2.335708</td>\n",
       "      <td>2113.342798</td>\n",
       "      <td>1.664880e+04</td>\n",
       "      <td>1.543506</td>\n",
       "      <td>1810.389658</td>\n",
       "      <td>476.617117</td>\n",
       "      <td>330.475308</td>\n",
       "      <td>217.451264</td>\n",
       "      <td>1975.162299</td>\n",
       "      <td>90.792767</td>\n",
       "      <td>47.328482</td>\n",
       "      <td>-121.318872</td>\n",
       "    </tr>\n",
       "    <tr>\n",
       "      <th>std</th>\n",
       "      <td>2.882236e+09</td>\n",
       "      <td>8.965158e+05</td>\n",
       "      <td>0.979755</td>\n",
       "      <td>0.888293</td>\n",
       "      <td>973.453260</td>\n",
       "      <td>5.993303e+04</td>\n",
       "      <td>0.567789</td>\n",
       "      <td>877.726339</td>\n",
       "      <td>579.805355</td>\n",
       "      <td>285.725020</td>\n",
       "      <td>245.301991</td>\n",
       "      <td>32.052930</td>\n",
       "      <td>416.197627</td>\n",
       "      <td>1.433309</td>\n",
       "      <td>5.724073</td>\n",
       "    </tr>\n",
       "    <tr>\n",
       "      <th>min</th>\n",
       "      <td>1.000055e+06</td>\n",
       "      <td>2.736000e+04</td>\n",
       "      <td>0.000000</td>\n",
       "      <td>0.000000</td>\n",
       "      <td>3.000000</td>\n",
       "      <td>4.020000e+02</td>\n",
       "      <td>1.000000</td>\n",
       "      <td>2.000000</td>\n",
       "      <td>0.000000</td>\n",
       "      <td>0.000000</td>\n",
       "      <td>0.000000</td>\n",
       "      <td>1900.000000</td>\n",
       "      <td>0.000000</td>\n",
       "      <td>21.274240</td>\n",
       "      <td>-157.791480</td>\n",
       "    </tr>\n",
       "    <tr>\n",
       "      <th>25%</th>\n",
       "      <td>2.070850e+09</td>\n",
       "      <td>6.492360e+05</td>\n",
       "      <td>3.000000</td>\n",
       "      <td>2.000000</td>\n",
       "      <td>1420.000000</td>\n",
       "      <td>4.850000e+03</td>\n",
       "      <td>1.000000</td>\n",
       "      <td>1180.000000</td>\n",
       "      <td>0.000000</td>\n",
       "      <td>0.000000</td>\n",
       "      <td>40.000000</td>\n",
       "      <td>1953.000000</td>\n",
       "      <td>0.000000</td>\n",
       "      <td>47.405348</td>\n",
       "      <td>-122.326075</td>\n",
       "    </tr>\n",
       "    <tr>\n",
       "      <th>50%</th>\n",
       "      <td>3.876000e+09</td>\n",
       "      <td>8.600000e+05</td>\n",
       "      <td>3.000000</td>\n",
       "      <td>2.500000</td>\n",
       "      <td>1920.000000</td>\n",
       "      <td>7.477000e+03</td>\n",
       "      <td>1.500000</td>\n",
       "      <td>1560.000000</td>\n",
       "      <td>0.000000</td>\n",
       "      <td>400.000000</td>\n",
       "      <td>150.000000</td>\n",
       "      <td>1977.000000</td>\n",
       "      <td>0.000000</td>\n",
       "      <td>47.551440</td>\n",
       "      <td>-122.225790</td>\n",
       "    </tr>\n",
       "    <tr>\n",
       "      <th>75%</th>\n",
       "      <td>7.287100e+09</td>\n",
       "      <td>1.300000e+06</td>\n",
       "      <td>4.000000</td>\n",
       "      <td>3.000000</td>\n",
       "      <td>2620.000000</td>\n",
       "      <td>1.056800e+04</td>\n",
       "      <td>2.000000</td>\n",
       "      <td>2270.000000</td>\n",
       "      <td>940.000000</td>\n",
       "      <td>510.000000</td>\n",
       "      <td>320.000000</td>\n",
       "      <td>2003.000000</td>\n",
       "      <td>0.000000</td>\n",
       "      <td>47.669917</td>\n",
       "      <td>-122.116394</td>\n",
       "    </tr>\n",
       "    <tr>\n",
       "      <th>max</th>\n",
       "      <td>9.904000e+09</td>\n",
       "      <td>3.075000e+07</td>\n",
       "      <td>13.000000</td>\n",
       "      <td>10.500000</td>\n",
       "      <td>15360.000000</td>\n",
       "      <td>3.253932e+06</td>\n",
       "      <td>4.000000</td>\n",
       "      <td>12660.000000</td>\n",
       "      <td>8020.000000</td>\n",
       "      <td>3580.000000</td>\n",
       "      <td>4370.000000</td>\n",
       "      <td>2022.000000</td>\n",
       "      <td>2022.000000</td>\n",
       "      <td>64.824070</td>\n",
       "      <td>-70.074340</td>\n",
       "    </tr>\n",
       "  </tbody>\n",
       "</table>\n",
       "</div>"
      ],
      "text/plain": [
       "                 id         price      bedrooms     bathrooms   sqft_living  \\\n",
       "count  3.011100e+04  3.011100e+04  30111.000000  30111.000000  30111.000000   \n",
       "mean   4.539171e+09  1.108971e+06      3.415197      2.335708   2113.342798   \n",
       "std    2.882236e+09  8.965158e+05      0.979755      0.888293    973.453260   \n",
       "min    1.000055e+06  2.736000e+04      0.000000      0.000000      3.000000   \n",
       "25%    2.070850e+09  6.492360e+05      3.000000      2.000000   1420.000000   \n",
       "50%    3.876000e+09  8.600000e+05      3.000000      2.500000   1920.000000   \n",
       "75%    7.287100e+09  1.300000e+06      4.000000      3.000000   2620.000000   \n",
       "max    9.904000e+09  3.075000e+07     13.000000     10.500000  15360.000000   \n",
       "\n",
       "           sqft_lot        floors    sqft_above  sqft_basement   sqft_garage  \\\n",
       "count  3.011100e+04  30111.000000  30111.000000   30111.000000  30111.000000   \n",
       "mean   1.664880e+04      1.543506   1810.389658     476.617117    330.475308   \n",
       "std    5.993303e+04      0.567789    877.726339     579.805355    285.725020   \n",
       "min    4.020000e+02      1.000000      2.000000       0.000000      0.000000   \n",
       "25%    4.850000e+03      1.000000   1180.000000       0.000000      0.000000   \n",
       "50%    7.477000e+03      1.500000   1560.000000       0.000000    400.000000   \n",
       "75%    1.056800e+04      2.000000   2270.000000     940.000000    510.000000   \n",
       "max    3.253932e+06      4.000000  12660.000000    8020.000000   3580.000000   \n",
       "\n",
       "         sqft_patio      yr_built  yr_renovated           lat          long  \n",
       "count  30111.000000  30111.000000  30111.000000  30111.000000  30111.000000  \n",
       "mean     217.451264   1975.162299     90.792767     47.328482   -121.318872  \n",
       "std      245.301991     32.052930    416.197627      1.433309      5.724073  \n",
       "min        0.000000   1900.000000      0.000000     21.274240   -157.791480  \n",
       "25%       40.000000   1953.000000      0.000000     47.405348   -122.326075  \n",
       "50%      150.000000   1977.000000      0.000000     47.551440   -122.225790  \n",
       "75%      320.000000   2003.000000      0.000000     47.669917   -122.116394  \n",
       "max     4370.000000   2022.000000   2022.000000     64.824070    -70.074340  "
      ]
     },
     "execution_count": 6,
     "metadata": {},
     "output_type": "execute_result"
    }
   ],
   "source": [
    "# Inspecting statistics about the dataset \n",
    "kc_house_df.describe()"
   ]
  },
  {
   "cell_type": "markdown",
   "id": "f67369ec",
   "metadata": {},
   "source": [
    "The mean price is $1,108,971 for houses of over 3 bedrooms and 2 bathrooms, with a living space of 2,113 square feet on average and 1,810 square feet above the basement. \n",
    "The average year built is 1975. The dataset contains houses built from 1900 to 2022. "
   ]
  },
  {
   "cell_type": "code",
   "execution_count": 7,
   "id": "64a2f0d4",
   "metadata": {
    "scrolled": false
   },
   "outputs": [
    {
     "data": {
      "text/html": [
       "<div>\n",
       "<style scoped>\n",
       "    .dataframe tbody tr th:only-of-type {\n",
       "        vertical-align: middle;\n",
       "    }\n",
       "\n",
       "    .dataframe tbody tr th {\n",
       "        vertical-align: top;\n",
       "    }\n",
       "\n",
       "    .dataframe thead th {\n",
       "        text-align: right;\n",
       "    }\n",
       "</style>\n",
       "<table border=\"1\" class=\"dataframe\">\n",
       "  <thead>\n",
       "    <tr style=\"text-align: right;\">\n",
       "      <th></th>\n",
       "      <th>id</th>\n",
       "      <th>date</th>\n",
       "      <th>price</th>\n",
       "      <th>bedrooms</th>\n",
       "      <th>bathrooms</th>\n",
       "      <th>sqft_living</th>\n",
       "      <th>sqft_lot</th>\n",
       "      <th>floors</th>\n",
       "      <th>waterfront</th>\n",
       "      <th>greenbelt</th>\n",
       "      <th>...</th>\n",
       "      <th>sewer_system</th>\n",
       "      <th>sqft_above</th>\n",
       "      <th>sqft_basement</th>\n",
       "      <th>sqft_garage</th>\n",
       "      <th>sqft_patio</th>\n",
       "      <th>yr_built</th>\n",
       "      <th>yr_renovated</th>\n",
       "      <th>address</th>\n",
       "      <th>lat</th>\n",
       "      <th>long</th>\n",
       "    </tr>\n",
       "  </thead>\n",
       "  <tbody>\n",
       "    <tr>\n",
       "      <th>0</th>\n",
       "      <td>7399300360</td>\n",
       "      <td>5/24/2022</td>\n",
       "      <td>675000.0</td>\n",
       "      <td>4</td>\n",
       "      <td>1.0</td>\n",
       "      <td>1180</td>\n",
       "      <td>7140</td>\n",
       "      <td>1.0</td>\n",
       "      <td>NO</td>\n",
       "      <td>NO</td>\n",
       "      <td>...</td>\n",
       "      <td>PUBLIC</td>\n",
       "      <td>1180</td>\n",
       "      <td>0</td>\n",
       "      <td>0</td>\n",
       "      <td>40</td>\n",
       "      <td>1969</td>\n",
       "      <td>0</td>\n",
       "      <td>2102 Southeast 21st Court, Renton, Washington ...</td>\n",
       "      <td>47.461975</td>\n",
       "      <td>-122.19052</td>\n",
       "    </tr>\n",
       "    <tr>\n",
       "      <th>1</th>\n",
       "      <td>8910500230</td>\n",
       "      <td>12/13/2021</td>\n",
       "      <td>920000.0</td>\n",
       "      <td>5</td>\n",
       "      <td>2.5</td>\n",
       "      <td>2770</td>\n",
       "      <td>6703</td>\n",
       "      <td>1.0</td>\n",
       "      <td>NO</td>\n",
       "      <td>NO</td>\n",
       "      <td>...</td>\n",
       "      <td>PUBLIC</td>\n",
       "      <td>1570</td>\n",
       "      <td>1570</td>\n",
       "      <td>0</td>\n",
       "      <td>240</td>\n",
       "      <td>1950</td>\n",
       "      <td>0</td>\n",
       "      <td>11231 Greenwood Avenue North, Seattle, Washing...</td>\n",
       "      <td>47.711525</td>\n",
       "      <td>-122.35591</td>\n",
       "    </tr>\n",
       "    <tr>\n",
       "      <th>2</th>\n",
       "      <td>1180000275</td>\n",
       "      <td>9/29/2021</td>\n",
       "      <td>311000.0</td>\n",
       "      <td>6</td>\n",
       "      <td>2.0</td>\n",
       "      <td>2880</td>\n",
       "      <td>6156</td>\n",
       "      <td>1.0</td>\n",
       "      <td>NO</td>\n",
       "      <td>NO</td>\n",
       "      <td>...</td>\n",
       "      <td>PUBLIC</td>\n",
       "      <td>1580</td>\n",
       "      <td>1580</td>\n",
       "      <td>0</td>\n",
       "      <td>0</td>\n",
       "      <td>1956</td>\n",
       "      <td>0</td>\n",
       "      <td>8504 South 113th Street, Seattle, Washington 9...</td>\n",
       "      <td>47.502045</td>\n",
       "      <td>-122.22520</td>\n",
       "    </tr>\n",
       "    <tr>\n",
       "      <th>3</th>\n",
       "      <td>1604601802</td>\n",
       "      <td>12/14/2021</td>\n",
       "      <td>775000.0</td>\n",
       "      <td>3</td>\n",
       "      <td>3.0</td>\n",
       "      <td>2160</td>\n",
       "      <td>1400</td>\n",
       "      <td>2.0</td>\n",
       "      <td>NO</td>\n",
       "      <td>NO</td>\n",
       "      <td>...</td>\n",
       "      <td>PUBLIC</td>\n",
       "      <td>1090</td>\n",
       "      <td>1070</td>\n",
       "      <td>200</td>\n",
       "      <td>270</td>\n",
       "      <td>2010</td>\n",
       "      <td>0</td>\n",
       "      <td>4079 Letitia Avenue South, Seattle, Washington...</td>\n",
       "      <td>47.566110</td>\n",
       "      <td>-122.29020</td>\n",
       "    </tr>\n",
       "    <tr>\n",
       "      <th>4</th>\n",
       "      <td>8562780790</td>\n",
       "      <td>8/24/2021</td>\n",
       "      <td>592500.0</td>\n",
       "      <td>2</td>\n",
       "      <td>2.0</td>\n",
       "      <td>1120</td>\n",
       "      <td>758</td>\n",
       "      <td>2.0</td>\n",
       "      <td>NO</td>\n",
       "      <td>NO</td>\n",
       "      <td>...</td>\n",
       "      <td>PUBLIC</td>\n",
       "      <td>1120</td>\n",
       "      <td>550</td>\n",
       "      <td>550</td>\n",
       "      <td>30</td>\n",
       "      <td>2012</td>\n",
       "      <td>0</td>\n",
       "      <td>2193 Northwest Talus Drive, Issaquah, Washingt...</td>\n",
       "      <td>47.532470</td>\n",
       "      <td>-122.07188</td>\n",
       "    </tr>\n",
       "  </tbody>\n",
       "</table>\n",
       "<p>5 rows × 25 columns</p>\n",
       "</div>"
      ],
      "text/plain": [
       "           id        date     price  bedrooms  bathrooms  sqft_living  \\\n",
       "0  7399300360   5/24/2022  675000.0         4        1.0         1180   \n",
       "1  8910500230  12/13/2021  920000.0         5        2.5         2770   \n",
       "2  1180000275   9/29/2021  311000.0         6        2.0         2880   \n",
       "3  1604601802  12/14/2021  775000.0         3        3.0         2160   \n",
       "4  8562780790   8/24/2021  592500.0         2        2.0         1120   \n",
       "\n",
       "   sqft_lot  floors waterfront greenbelt  ... sewer_system sqft_above  \\\n",
       "0      7140     1.0         NO        NO  ...       PUBLIC       1180   \n",
       "1      6703     1.0         NO        NO  ...       PUBLIC       1570   \n",
       "2      6156     1.0         NO        NO  ...       PUBLIC       1580   \n",
       "3      1400     2.0         NO        NO  ...       PUBLIC       1090   \n",
       "4       758     2.0         NO        NO  ...       PUBLIC       1120   \n",
       "\n",
       "  sqft_basement sqft_garage sqft_patio yr_built  yr_renovated  \\\n",
       "0             0           0         40     1969             0   \n",
       "1          1570           0        240     1950             0   \n",
       "2          1580           0          0     1956             0   \n",
       "3          1070         200        270     2010             0   \n",
       "4           550         550         30     2012             0   \n",
       "\n",
       "                                             address        lat       long  \n",
       "0  2102 Southeast 21st Court, Renton, Washington ...  47.461975 -122.19052  \n",
       "1  11231 Greenwood Avenue North, Seattle, Washing...  47.711525 -122.35591  \n",
       "2  8504 South 113th Street, Seattle, Washington 9...  47.502045 -122.22520  \n",
       "3  4079 Letitia Avenue South, Seattle, Washington...  47.566110 -122.29020  \n",
       "4  2193 Northwest Talus Drive, Issaquah, Washingt...  47.532470 -122.07188  \n",
       "\n",
       "[5 rows x 25 columns]"
      ]
     },
     "execution_count": 7,
     "metadata": {},
     "output_type": "execute_result"
    }
   ],
   "source": [
    "# Inspecting the dataset \n",
    "kc_house_df.head()"
   ]
  },
  {
   "cell_type": "markdown",
   "id": "c4523bce",
   "metadata": {},
   "source": [
    "### 4. b- Removing unnecessary columns"
   ]
  },
  {
   "cell_type": "markdown",
   "id": "eb42132e",
   "metadata": {},
   "source": [
    "\n",
    "\n",
    "The columns below are removed because they do not provide any value to the analysis to understand what renovations add value to a house.\n",
    "\\\n",
    "Anything pertaining to the house location can be removed: will not have impact on renovations.\n",
    "- lat \n",
    "- long\n",
    "- address \n",
    "- greenbelt\n",
    "- waterfront\n",
    "- view\n",
    "\n",
    "---------------------\n",
    "\n",
    "Anything pertaining to dataset admin can be removed \n",
    "- id \n",
    "- date (date house was sold) \n",
    "- yr_renovated"
   ]
  },
  {
   "cell_type": "code",
   "execution_count": 8,
   "id": "101bb789",
   "metadata": {},
   "outputs": [],
   "source": [
    "unnecessary_columns = [\"lat\", \"long\", \"address\", \"greenbelt\", \"waterfront\", \"view\", \"id\", \"date\", \"yr_renovated\"]"
   ]
  },
  {
   "cell_type": "code",
   "execution_count": 9,
   "id": "731e68ed",
   "metadata": {},
   "outputs": [],
   "source": [
    "kc_house_df = kc_house_df.drop(columns=kc_house_df[unnecessary_columns])"
   ]
  },
  {
   "cell_type": "code",
   "execution_count": 10,
   "id": "dccbf7ba",
   "metadata": {},
   "outputs": [
    {
     "data": {
      "text/plain": [
       "Index(['price', 'bedrooms', 'bathrooms', 'sqft_living', 'sqft_lot', 'floors',\n",
       "       'nuisance', 'condition', 'grade', 'heat_source', 'sewer_system',\n",
       "       'sqft_above', 'sqft_basement', 'sqft_garage', 'sqft_patio', 'yr_built'],\n",
       "      dtype='object')"
      ]
     },
     "execution_count": 10,
     "metadata": {},
     "output_type": "execute_result"
    }
   ],
   "source": [
    "# Verifying new columns\n",
    "kc_house_df.columns"
   ]
  },
  {
   "cell_type": "code",
   "execution_count": 11,
   "id": "0b3ff211",
   "metadata": {},
   "outputs": [
    {
     "data": {
      "text/plain": [
       "16"
      ]
     },
     "execution_count": 11,
     "metadata": {},
     "output_type": "execute_result"
    }
   ],
   "source": [
    "len(kc_house_df.columns)"
   ]
  },
  {
   "cell_type": "markdown",
   "id": "6f39bbaf",
   "metadata": {},
   "source": [
    "The dataset now has 16 columns"
   ]
  },
  {
   "cell_type": "markdown",
   "id": "1dec7409",
   "metadata": {},
   "source": [
    "## 5. Simple Linear Regression Model: Initial Baseline "
   ]
  },
  {
   "cell_type": "markdown",
   "id": "02ec8f71",
   "metadata": {},
   "source": [
    "A simple linear regression model is a statistical method used to model the relationship between two variables: a dependent variable (the target - here, a house’s sale price) and an independent variable (the predictor). The goal of simple linear regression is to find the best-fitting linear equation that describes the relationship between these variables.\n",
    "\n",
    "\n",
    "1. **Purpose**: Simple linear regression is used to understand and quantify the relationship between two variables. It helps predict the value of the dependent variable based on the value of the independent variable.\n",
    "\n",
    "2. **Assumptions**: The model assumes a linear relationship between the variables, constant variance of errors (homoscedasticity), and normally distributed residuals.\n"
   ]
  },
  {
   "cell_type": "markdown",
   "id": "a2e98295",
   "metadata": {},
   "source": [
    "### 5. a- Identifying a highly correlated predictor"
   ]
  },
  {
   "cell_type": "markdown",
   "id": "eb74ebb8",
   "metadata": {},
   "source": [
    "The target variable is price. Looking at correlation coefficients for all predictor variables to find the one with the highest correlation with price."
   ]
  },
  {
   "cell_type": "code",
   "execution_count": 12,
   "id": "75af143a",
   "metadata": {},
   "outputs": [
    {
     "data": {
      "text/plain": [
       "price            1.000000\n",
       "sqft_living      0.608616\n",
       "sqft_above       0.538631\n",
       "bathrooms        0.480337\n",
       "sqft_patio       0.313789\n",
       "bedrooms         0.288954\n",
       "sqft_garage      0.263674\n",
       "sqft_basement    0.245005\n",
       "floors           0.180589\n",
       "yr_built         0.095796\n",
       "sqft_lot         0.086550\n",
       "Name: price, dtype: float64"
      ]
     },
     "execution_count": 12,
     "metadata": {},
     "output_type": "execute_result"
    }
   ],
   "source": [
    "kc_house_df.corr()[\"price\"].sort_values(ascending=False)"
   ]
  },
  {
   "cell_type": "markdown",
   "id": "9782e971",
   "metadata": {},
   "source": [
    "Looking at correlation coefficients for all predictor variables to find the one with the highest correlation with price."
   ]
  },
  {
   "cell_type": "code",
   "execution_count": 13,
   "id": "1f85ee90",
   "metadata": {},
   "outputs": [],
   "source": [
    "most_correlated = \"sqft_living\""
   ]
  },
  {
   "cell_type": "markdown",
   "id": "80ed9c46",
   "metadata": {},
   "source": [
    "### 5. b- Visualizing the predictor vs price"
   ]
  },
  {
   "cell_type": "markdown",
   "id": "0b8f65d0",
   "metadata": {},
   "source": [
    "Since the price data points have a high concentration around the short range of square footage, a regression line is calculated to include into the scatter plot and make the graph more easy to read."
   ]
  },
  {
   "cell_type": "code",
   "execution_count": 14,
   "id": "4fb1afc1",
   "metadata": {},
   "outputs": [],
   "source": [
    "# Calculating regression line\n",
    "\n",
    "x = kc_house_df[\"sqft_living\"].array\n",
    "y= kc_house_df[\"price\"].array\n",
    "\n",
    "m, b = np.polyfit(x, y, 1) "
   ]
  },
  {
   "cell_type": "code",
   "execution_count": 15,
   "id": "4670e1c3",
   "metadata": {
    "scrolled": false
   },
   "outputs": [
    {
     "data": {
      "image/png": "[encoded data removed]",
      "text/plain": [
       "<Figure size 640x480 with 1 Axes>"
      ]
     },
     "metadata": {},
     "output_type": "display_data"
    }
   ],
   "source": [
    "# Plotting scatter plot\n",
    "# Plotting a sample of 1000 data points, most_correlated vs. price\n",
    "kc_house_df.sample(1000, random_state=1).plot.scatter(x=most_correlated, y=\"price\")\n",
    "\n",
    "# Plotting regression line\n",
    "plt.plot(x, m*x+b, color='black')\n",
    "\n",
    "# Defining titles and legend\n",
    "plt.title('Price vs Square Footage')\n",
    "plt.xlabel('Square Footage of Living Space in the Home')\n",
    "plt.ylabel('Sale Price')\n",
    "plt.show();"
   ]
  },
  {
   "cell_type": "markdown",
   "id": "2b0e56c9",
   "metadata": {},
   "source": [
    "While outliers can be identified on the sale price, the variables of a house's price and square footage of living space seem to have a linear relationship with one another, confirming a simple linear regression model can be calculated. "
   ]
  },
  {
   "cell_type": "markdown",
   "id": "57603c99",
   "metadata": {},
   "source": [
    "### 5. c- Setting up variables for regression"
   ]
  },
  {
   "cell_type": "markdown",
   "id": "8d1d53eb",
   "metadata": {},
   "source": [
    "Declaring y and X_baseline variables, where y is a Series containing price data and X_baseline is a DataFrame containing the column with the strongest correlation. As defined before, the latter is sqft_living."
   ]
  },
  {
   "cell_type": "code",
   "execution_count": 16,
   "id": "a544c998",
   "metadata": {},
   "outputs": [],
   "source": [
    "y = kc_house_df[\"price\"]\n",
    "\n",
    "X_baseline = kc_house_df[[most_correlated]]"
   ]
  },
  {
   "cell_type": "markdown",
   "id": "c6a6fcba",
   "metadata": {},
   "source": [
    "### 5. d- Creating and fitting simple linear regression"
   ]
  },
  {
   "cell_type": "code",
   "execution_count": 17,
   "id": "d11ffe44",
   "metadata": {},
   "outputs": [],
   "source": [
    "baseline_model = sm.OLS(y, sm.add_constant(X_baseline))\n",
    "baseline_results = baseline_model.fit()"
   ]
  },
  {
   "cell_type": "markdown",
   "id": "636a85ba",
   "metadata": {},
   "source": [
    "### 5. e- Evaluating and interpreting baseline regression results"
   ]
  },
  {
   "cell_type": "code",
   "execution_count": 18,
   "id": "bae8d3aa",
   "metadata": {
    "scrolled": false
   },
   "outputs": [
    {
     "data": {
      "text/html": [
       "<table class=\"simpletable\">\n",
       "<caption>OLS Regression Results</caption>\n",
       "<tr>\n",
       "  <th>Dep. Variable:</th>          <td>price</td>      <th>  R-squared:         </th>  <td>   0.370</td>  \n",
       "</tr>\n",
       "<tr>\n",
       "  <th>Model:</th>                   <td>OLS</td>       <th>  Adj. R-squared:    </th>  <td>   0.370</td>  \n",
       "</tr>\n",
       "<tr>\n",
       "  <th>Method:</th>             <td>Least Squares</td>  <th>  F-statistic:       </th>  <td>1.771e+04</td> \n",
       "</tr>\n",
       "<tr>\n",
       "  <th>Date:</th>             <td>Wed, 30 Aug 2023</td> <th>  Prob (F-statistic):</th>   <td>  0.00</td>   \n",
       "</tr>\n",
       "<tr>\n",
       "  <th>Time:</th>                 <td>12:39:22</td>     <th>  Log-Likelihood:    </th> <td>-4.4847e+05</td>\n",
       "</tr>\n",
       "<tr>\n",
       "  <th>No. Observations:</th>      <td> 30111</td>      <th>  AIC:               </th>  <td>8.969e+05</td> \n",
       "</tr>\n",
       "<tr>\n",
       "  <th>Df Residuals:</th>          <td> 30109</td>      <th>  BIC:               </th>  <td>8.970e+05</td> \n",
       "</tr>\n",
       "<tr>\n",
       "  <th>Df Model:</th>              <td>     1</td>      <th>                     </th>      <td> </td>     \n",
       "</tr>\n",
       "<tr>\n",
       "  <th>Covariance Type:</th>      <td>nonrobust</td>    <th>                     </th>      <td> </td>     \n",
       "</tr>\n",
       "</table>\n",
       "<table class=\"simpletable\">\n",
       "<tr>\n",
       "       <td></td>          <th>coef</th>     <th>std err</th>      <th>t</th>      <th>P>|t|</th>  <th>[0.025</th>    <th>0.975]</th>  \n",
       "</tr>\n",
       "<tr>\n",
       "  <th>const</th>       <td>-7.559e+04</td> <td> 9798.815</td> <td>   -7.714</td> <td> 0.000</td> <td>-9.48e+04</td> <td>-5.64e+04</td>\n",
       "</tr>\n",
       "<tr>\n",
       "  <th>sqft_living</th> <td>  560.5134</td> <td>    4.211</td> <td>  133.096</td> <td> 0.000</td> <td>  552.259</td> <td>  568.768</td>\n",
       "</tr>\n",
       "</table>\n",
       "<table class=\"simpletable\">\n",
       "<tr>\n",
       "  <th>Omnibus:</th>       <td>43384.874</td> <th>  Durbin-Watson:     </th>   <td>   1.862</td>  \n",
       "</tr>\n",
       "<tr>\n",
       "  <th>Prob(Omnibus):</th>  <td> 0.000</td>   <th>  Jarque-Bera (JB):  </th> <td>47187801.072</td>\n",
       "</tr>\n",
       "<tr>\n",
       "  <th>Skew:</th>           <td> 8.195</td>   <th>  Prob(JB):          </th>   <td>    0.00</td>  \n",
       "</tr>\n",
       "<tr>\n",
       "  <th>Kurtosis:</th>       <td>196.242</td>  <th>  Cond. No.          </th>   <td>5.56e+03</td>  \n",
       "</tr>\n",
       "</table><br/><br/>Notes:<br/>[1] Standard Errors assume that the covariance matrix of the errors is correctly specified.<br/>[2] The condition number is large, 5.56e+03. This might indicate that there are<br/>strong multicollinearity or other numerical problems."
      ],
      "text/plain": [
       "<class 'statsmodels.iolib.summary.Summary'>\n",
       "\"\"\"\n",
       "                            OLS Regression Results                            \n",
       "==============================================================================\n",
       "Dep. Variable:                  price   R-squared:                       0.370\n",
       "Model:                            OLS   Adj. R-squared:                  0.370\n",
       "Method:                 Least Squares   F-statistic:                 1.771e+04\n",
       "Date:                Wed, 30 Aug 2023   Prob (F-statistic):               0.00\n",
       "Time:                        12:39:22   Log-Likelihood:            -4.4847e+05\n",
       "No. Observations:               30111   AIC:                         8.969e+05\n",
       "Df Residuals:                   30109   BIC:                         8.970e+05\n",
       "Df Model:                           1                                         \n",
       "Covariance Type:            nonrobust                                         \n",
       "===============================================================================\n",
       "                  coef    std err          t      P>|t|      [0.025      0.975]\n",
       "-------------------------------------------------------------------------------\n",
       "const       -7.559e+04   9798.815     -7.714      0.000   -9.48e+04   -5.64e+04\n",
       "sqft_living   560.5134      4.211    133.096      0.000     552.259     568.768\n",
       "==============================================================================\n",
       "Omnibus:                    43384.874   Durbin-Watson:                   1.862\n",
       "Prob(Omnibus):                  0.000   Jarque-Bera (JB):         47187801.072\n",
       "Skew:                           8.195   Prob(JB):                         0.00\n",
       "Kurtosis:                     196.242   Cond. No.                     5.56e+03\n",
       "==============================================================================\n",
       "\n",
       "Notes:\n",
       "[1] Standard Errors assume that the covariance matrix of the errors is correctly specified.\n",
       "[2] The condition number is large, 5.56e+03. This might indicate that there are\n",
       "strong multicollinearity or other numerical problems.\n",
       "\"\"\""
      ]
     },
     "execution_count": 18,
     "metadata": {},
     "output_type": "execute_result"
    }
   ],
   "source": [
    "baseline_results.summary()"
   ]
  },
  {
   "cell_type": "markdown",
   "id": "a43f1c49",
   "metadata": {},
   "source": [
    "sqft_living was the attribute the most strongly correlated with price. Consequently, the model is describing the relationship between both variables. \n",
    "\n",
    "\n",
    "1. **Adj. R-squared**: Overall, the model is not very significant and explains only 37% of the price's variance. \n",
    " \n",
    "2. **Coef and p-values (P>|t|)**: The coefficient for sqft_living is about \\\\$560.5134. This means that for each additional square foot of living space in the home, the price would increase by a little over \\\\$560. The p-value associated for the coefficient is equal to 0, indicating that the variable has a statistically significant impact on price. \n",
    "\n",
    "3. **Constant coef**: The intercept is \\-$75,590, meaning that a zero square foot living house would sell for \\\\$-75,590 - which is not representative as a house would not sell for a negative value, and would not have 0 square foot.\n",
    "\n",
    "In conclusion, this model suggests that the square footage of living space in a house is a statistically significant predictor of the price. For each additional square footage added to a house, the predicted price increases by around \\\\$560.51. \n",
    "Nevertheless, the low adjusted r-squared value indicates that the model is not significant and would benefit from being improved. \n",
    "\n",
    "In addition, other statistics avaiable question the assumption of linear regression. These will be more detailed among the future models."
   ]
  },
  {
   "cell_type": "markdown",
   "id": "ce47fbe2",
   "metadata": {},
   "source": [
    "### 5. f- Calculating and interpreting the model's mean absolute error"
   ]
  },
  {
   "cell_type": "code",
   "execution_count": 19,
   "id": "9b9a1309",
   "metadata": {},
   "outputs": [
    {
     "data": {
      "text/plain": [
       "396271.4457372302"
      ]
     },
     "execution_count": 19,
     "metadata": {},
     "output_type": "execute_result"
    }
   ],
   "source": [
    "baseline_mae = mean_absolute_error(y, baseline_results.predict(sm.add_constant(X_baseline)))\n",
    "baseline_mae"
   ]
  },
  {
   "cell_type": "markdown",
   "id": "04f2fa80",
   "metadata": {},
   "source": [
    "The mean absolute error is a common metric used to evaluate the performance of a regression model. It quantifies the average absolute difference between the predicted values and the actual (true) values.\n",
    "\n",
    "A lower mean absolute error indicates that the model's predictions are closer to the actual values. In the opposite, the MAE of around 396271.445 implies that, on average, the baseline model's predictions have an absolute difference of approximately $396,271.445 from the actual target values. This confirms the poor performance of the initial baseline regression model's results. "
   ]
  },
  {
   "cell_type": "markdown",
   "id": "bede7b82",
   "metadata": {},
   "source": [
    "## 6. Data Transformation"
   ]
  },
  {
   "cell_type": "markdown",
   "id": "05dfb771",
   "metadata": {},
   "source": [
    "### 6. a- Visualizing the distribution of target variable price"
   ]
  },
  {
   "cell_type": "code",
   "execution_count": 20,
   "id": "d9658a70",
   "metadata": {
    "scrolled": false
   },
   "outputs": [
    {
     "name": "stderr",
     "output_type": "stream",
     "text": [
      "C:\\Users\\albane.colmenares\\AppData\\Local\\Temp\\ipykernel_14012\\2844595654.py:29: UserWarning: FixedFormatter should only be used together with FixedLocator\n",
      "  axes[0].set_xticklabels(new_xticklabels)\n"
     ]
    },
    {
     "data": {
      "image/png": "[encoded data removed]",
      "text/plain": [
       "<Figure size 2600x1300 with 2 Axes>"
      ]
     },
     "metadata": {},
     "output_type": "display_data"
    }
   ],
   "source": [
    "# Creating a figure with two subplots in one row and two columns\n",
    "\n",
    "fig, axes = plt.subplots(1, 2, sharex=True, figsize=(26,13))\n",
    "\n",
    "# Setting style\n",
    "sns.set(style=\"white\")\n",
    "\n",
    "\n",
    "# First subplot: histplot and the mean price\n",
    "sns.histplot(ax=axes[0], data=kc_house_df, x=\"price\", bins=50)\n",
    "mean_price = kc_house_df[\"price\"].mean()\n",
    "axes[0].axvline(x=mean_price, color='black', linestyle='--', label='Mean Price')\n",
    "\n",
    "# First subplot formatting\n",
    "title_font = {'size': 24}\n",
    "axes[0].set_title(\"Distribution of Price with Mean\", fontdict=title_font)\n",
    "axes[0].set_xlabel(\"Price\")\n",
    "axes[0].set_ylabel(\"Frequency\", fontsize=20)\n",
    "axes[0].legend()\n",
    "\n",
    "# Getting the current axes\n",
    "\n",
    "# Setting the tick positions and labels\n",
    "new_xticklabels = [\"--\", \"$0\", \"$500,000\", \"$1M\", \"$1.5M\", \"$2M\", \"$2.5M\", \"$3M\", \"$3.5M\"]\n",
    "# axes[0].set_xticks(range(len(new_xticklabels)))\n",
    "# font = {'family': 'serif', 'color':  'darkred', 'weight': 'normal', 'size': 24}\n",
    "\n",
    "axes[0].tick_params(labelsize=20)\n",
    "axes[0].set_xticklabels(new_xticklabels)\n",
    "\n",
    "\n",
    "\n",
    "# Second subplot: boxplot\n",
    "sns.boxplot(ax=axes[1], data=kc_house_df, x=\"price\")\n",
    "\n",
    "# Second subplot formatting \n",
    "axes[1].set_title(\"Boxplot of prices\", fontdict=title_font)\n",
    "axes[1].set_xlabel(\"Price\")\n",
    "axes[1].tick_params(labelsize=20)\n",
    "\n",
    "\n",
    "# Adjusting layout\n",
    "plt.tight_layout()\n",
    "\n",
    "plt.show()\n"
   ]
  },
  {
   "cell_type": "code",
   "execution_count": 21,
   "id": "d91dbc38",
   "metadata": {},
   "outputs": [],
   "source": [
    "median_price = kc_house_df[\"price\"].median()\n",
    "median_price = \"${:,.0f}\".format(median_price)"
   ]
  },
  {
   "cell_type": "code",
   "execution_count": 22,
   "id": "65af3b72",
   "metadata": {
    "scrolled": true
   },
   "outputs": [],
   "source": [
    "mean_price = \"${:,.0f}\".format(mean_price)"
   ]
  },
  {
   "cell_type": "code",
   "execution_count": 23,
   "id": "2e906766",
   "metadata": {},
   "outputs": [
    {
     "name": "stdout",
     "output_type": "stream",
     "text": [
      "The highest number of houses are sold below the mean price of $1,108,971. The mean is higher than the median ($860,000) which indicates the distribution of the dataset is skewed to the right. There are less prices sold a higher prices, but the prices are so high compared to the most common sales prices that the mean overestimates the most common values.\n"
     ]
    }
   ],
   "source": [
    "print(f\"The highest number of houses are sold below the mean price of {mean_price}. The mean is higher than the median ({median_price}) which indicates the distribution of the dataset is skewed to the right. There are less prices sold a higher prices, but the prices are so high compared to the most common sales prices that the mean overestimates the most common values.\")"
   ]
  },
  {
   "cell_type": "markdown",
   "id": "7235aae6",
   "metadata": {},
   "source": [
    "The prices outliers will be identified and excluded to improve the model.  "
   ]
  },
  {
   "cell_type": "markdown",
   "id": "8e293748",
   "metadata": {},
   "source": [
    "### 6. b- Identifying and excluding outliers "
   ]
  },
  {
   "cell_type": "markdown",
   "id": "5bc5b24b",
   "metadata": {},
   "source": [
    "#### Sales prices were considered outliers when outside of the 5th percentile\n",
    "The 5th percentile value was chosen as a standard percentile value to define outliers. The below cells display how they were calculated. "
   ]
  },
  {
   "cell_type": "code",
   "execution_count": 24,
   "id": "bbc38c6f",
   "metadata": {},
   "outputs": [],
   "source": [
    "min_price = kc_house_df[\"price\"].min()\n",
    "max_price = kc_house_df[\"price\"].max()"
   ]
  },
  {
   "cell_type": "code",
   "execution_count": 25,
   "id": "924f6827",
   "metadata": {},
   "outputs": [],
   "source": [
    "lower_limit = np.percentile(kc_house_df[\"price\"], 0.5)\n",
    "upper_limit = np.percentile(kc_house_df[\"price\"], 99.5)"
   ]
  },
  {
   "cell_type": "code",
   "execution_count": 26,
   "id": "36b75ce3",
   "metadata": {},
   "outputs": [],
   "source": [
    "# Ensuring that the lower limit defined is not lower than the minimum price in the dataset\n",
    "assert min_price < lower_limit\n",
    "\n",
    "# Ensuring that the upper limit defined is not higher than the maximum price in the dataset\n",
    "assert max_price > upper_limit"
   ]
  },
  {
   "cell_type": "code",
   "execution_count": 27,
   "id": "d6606938",
   "metadata": {},
   "outputs": [],
   "source": [
    "# Now modifying the dataset excluding prices'outliers \n",
    "kc_house_df = kc_house_df[(kc_house_df[\"price\"] > lower_limit) & (kc_house_df[\"price\"] < upper_limit)]"
   ]
  },
  {
   "cell_type": "code",
   "execution_count": 28,
   "id": "8b6d9290",
   "metadata": {
    "scrolled": false
   },
   "outputs": [
    {
     "name": "stdout",
     "output_type": "stream",
     "text": [
      "131106.0\n",
      "5650000.0\n"
     ]
    }
   ],
   "source": [
    "# Verifying the new minimum and maximum prices \n",
    "print(kc_house_df[\"price\"].min())\n",
    "print(kc_house_df[\"price\"].max())"
   ]
  },
  {
   "cell_type": "markdown",
   "id": "df5475fb",
   "metadata": {},
   "source": [
    "### 6. c- Verifying the new distribution of target variable price"
   ]
  },
  {
   "cell_type": "code",
   "execution_count": 29,
   "id": "c1d3011b",
   "metadata": {},
   "outputs": [
    {
     "name": "stderr",
     "output_type": "stream",
     "text": [
      "C:\\Users\\albane.colmenares\\AppData\\Local\\Temp\\ipykernel_14012\\2187523200.py:29: UserWarning: FixedFormatter should only be used together with FixedLocator\n",
      "  axes[0].set_xticklabels(new_xticklabels)\n"
     ]
    },
    {
     "data": {
      "image/png": "[encoded data removed]",
      "text/plain": [
       "<Figure size 2600x1300 with 2 Axes>"
      ]
     },
     "metadata": {},
     "output_type": "display_data"
    }
   ],
   "source": [
    "# Creating a figure with two subplots in one row and two columns\n",
    "\n",
    "fig, axes = plt.subplots(1, 2, sharex=True, figsize=(26,13))\n",
    "\n",
    "# Setting style\n",
    "sns.set(style=\"white\")\n",
    "\n",
    "\n",
    "# First subplot: histplot andthe mean price\n",
    "sns.histplot(ax=axes[0], data=kc_house_df, x=\"price\", bins=50)\n",
    "mean_price = kc_house_df[\"price\"].mean()\n",
    "axes[0].axvline(x=mean_price, color='black', linestyle='--', label='Mean Price')\n",
    "\n",
    "# First subplot formatting\n",
    "title_font = {'size': 24}\n",
    "axes[0].set_title(\"Distribution of Price with Mean\", fontdict=title_font)\n",
    "axes[0].set_xlabel(\"Price\")\n",
    "axes[0].set_ylabel(\"Frequency\", fontsize=20)\n",
    "axes[0].legend()\n",
    "\n",
    "# Getting the current axes\n",
    "\n",
    "# Setting the tick positions and labels\n",
    "new_xticklabels = [\"--\", \"$0\", \"$500,000\", \"$1M\", \"$1.5M\", \"$2M\", \"$2.5M\", \"$3M\", \"$3.5M\"]\n",
    "# axes[0].set_xticks(range(len(new_xticklabels)))\n",
    "# font = {'family': 'serif', 'color':  'darkred', 'weight': 'normal', 'size': 24}\n",
    "\n",
    "axes[0].tick_params(labelsize=20)\n",
    "axes[0].set_xticklabels(new_xticklabels)\n",
    "\n",
    "\n",
    "\n",
    "# Second subplot: boxplot\n",
    "sns.boxplot(ax=axes[1], data=kc_house_df, x=\"price\")\n",
    "\n",
    "# Second subplot formatting \n",
    "axes[1].set_title(\"Boxplot of prices\", fontdict=title_font)\n",
    "axes[1].set_xlabel(\"Price\")\n",
    "axes[1].tick_params(labelsize=20)\n",
    "\n",
    "\n",
    "# Adjust layout\n",
    "plt.tight_layout()\n",
    "\n",
    "# Show the subplo"
   ]
  },
  {
   "cell_type": "markdown",
   "id": "1890f86e",
   "metadata": {},
   "source": [
    "The distribution of the dataset seems now more equally distributed in the sense that outliers account for a lower portion of the data. Nevertheless, it still seems skewed and not to represent a normal distribution. "
   ]
  },
  {
   "cell_type": "markdown",
   "id": "dca741d4",
   "metadata": {},
   "source": [
    "## 7. Second Simple Linear Regression: Without Outliers"
   ]
  },
  {
   "cell_type": "markdown",
   "id": "e4c1c01c",
   "metadata": {},
   "source": [
    "### 7. a- Setting up variables for regression"
   ]
  },
  {
   "cell_type": "markdown",
   "id": "3cd95cd9",
   "metadata": {},
   "source": [
    "The dependent and independent variables are the same: y is the house's sale price and X_baseline, sqft_living."
   ]
  },
  {
   "cell_type": "code",
   "execution_count": 30,
   "id": "935b7748",
   "metadata": {},
   "outputs": [],
   "source": [
    "# Declaring the variables once again for clarity\n",
    "y = kc_house_df[\"price\"]\n",
    "\n",
    "new_X_baseline = kc_house_df[[most_correlated]]"
   ]
  },
  {
   "cell_type": "markdown",
   "id": "6b48006c",
   "metadata": {},
   "source": [
    "### 7. b- Creating and fitting simple linear regression"
   ]
  },
  {
   "cell_type": "code",
   "execution_count": 31,
   "id": "d9a69660",
   "metadata": {},
   "outputs": [],
   "source": [
    "new_baseline_model = sm.OLS(y, sm.add_constant(new_X_baseline))\n",
    "new_baseline_results = new_baseline_model.fit()"
   ]
  },
  {
   "cell_type": "markdown",
   "id": "951dc218",
   "metadata": {},
   "source": [
    "### 7. c- Evaluating and interpreting baseline regression results"
   ]
  },
  {
   "cell_type": "code",
   "execution_count": 32,
   "id": "350cb0a6",
   "metadata": {
    "scrolled": false
   },
   "outputs": [
    {
     "data": {
      "text/html": [
       "<table class=\"simpletable\">\n",
       "<caption>OLS Regression Results</caption>\n",
       "<tr>\n",
       "  <th>Dep. Variable:</th>          <td>price</td>      <th>  R-squared:         </th>  <td>   0.428</td>  \n",
       "</tr>\n",
       "<tr>\n",
       "  <th>Model:</th>                   <td>OLS</td>       <th>  Adj. R-squared:    </th>  <td>   0.428</td>  \n",
       "</tr>\n",
       "<tr>\n",
       "  <th>Method:</th>             <td>Least Squares</td>  <th>  F-statistic:       </th>  <td>2.226e+04</td> \n",
       "</tr>\n",
       "<tr>\n",
       "  <th>Date:</th>             <td>Wed, 30 Aug 2023</td> <th>  Prob (F-statistic):</th>   <td>  0.00</td>   \n",
       "</tr>\n",
       "<tr>\n",
       "  <th>Time:</th>                 <td>12:39:23</td>     <th>  Log-Likelihood:    </th> <td>-4.3442e+05</td>\n",
       "</tr>\n",
       "<tr>\n",
       "  <th>No. Observations:</th>      <td> 29807</td>      <th>  AIC:               </th>  <td>8.689e+05</td> \n",
       "</tr>\n",
       "<tr>\n",
       "  <th>Df Residuals:</th>          <td> 29805</td>      <th>  BIC:               </th>  <td>8.689e+05</td> \n",
       "</tr>\n",
       "<tr>\n",
       "  <th>Df Model:</th>              <td>     1</td>      <th>                     </th>      <td> </td>     \n",
       "</tr>\n",
       "<tr>\n",
       "  <th>Covariance Type:</th>      <td>nonrobust</td>    <th>                     </th>      <td> </td>     \n",
       "</tr>\n",
       "</table>\n",
       "<table class=\"simpletable\">\n",
       "<tr>\n",
       "       <td></td>          <th>coef</th>     <th>std err</th>      <th>t</th>      <th>P>|t|</th>  <th>[0.025</th>    <th>0.975]</th>  \n",
       "</tr>\n",
       "<tr>\n",
       "  <th>const</th>       <td> 7.733e+04</td> <td> 7337.847</td> <td>   10.539</td> <td> 0.000</td> <td> 6.29e+04</td> <td> 9.17e+04</td>\n",
       "</tr>\n",
       "<tr>\n",
       "  <th>sqft_living</th> <td>  475.9234</td> <td>    3.190</td> <td>  149.204</td> <td> 0.000</td> <td>  469.671</td> <td>  482.175</td>\n",
       "</tr>\n",
       "</table>\n",
       "<table class=\"simpletable\">\n",
       "<tr>\n",
       "  <th>Omnibus:</th>       <td>12050.548</td> <th>  Durbin-Watson:     </th> <td>   1.937</td> \n",
       "</tr>\n",
       "<tr>\n",
       "  <th>Prob(Omnibus):</th>  <td> 0.000</td>   <th>  Jarque-Bera (JB):  </th> <td>98988.100</td>\n",
       "</tr>\n",
       "<tr>\n",
       "  <th>Skew:</th>           <td> 1.734</td>   <th>  Prob(JB):          </th> <td>    0.00</td> \n",
       "</tr>\n",
       "<tr>\n",
       "  <th>Kurtosis:</th>       <td>11.227</td>   <th>  Cond. No.          </th> <td>5.64e+03</td> \n",
       "</tr>\n",
       "</table><br/><br/>Notes:<br/>[1] Standard Errors assume that the covariance matrix of the errors is correctly specified.<br/>[2] The condition number is large, 5.64e+03. This might indicate that there are<br/>strong multicollinearity or other numerical problems."
      ],
      "text/plain": [
       "<class 'statsmodels.iolib.summary.Summary'>\n",
       "\"\"\"\n",
       "                            OLS Regression Results                            \n",
       "==============================================================================\n",
       "Dep. Variable:                  price   R-squared:                       0.428\n",
       "Model:                            OLS   Adj. R-squared:                  0.428\n",
       "Method:                 Least Squares   F-statistic:                 2.226e+04\n",
       "Date:                Wed, 30 Aug 2023   Prob (F-statistic):               0.00\n",
       "Time:                        12:39:23   Log-Likelihood:            -4.3442e+05\n",
       "No. Observations:               29807   AIC:                         8.689e+05\n",
       "Df Residuals:                   29805   BIC:                         8.689e+05\n",
       "Df Model:                           1                                         \n",
       "Covariance Type:            nonrobust                                         \n",
       "===============================================================================\n",
       "                  coef    std err          t      P>|t|      [0.025      0.975]\n",
       "-------------------------------------------------------------------------------\n",
       "const        7.733e+04   7337.847     10.539      0.000    6.29e+04    9.17e+04\n",
       "sqft_living   475.9234      3.190    149.204      0.000     469.671     482.175\n",
       "==============================================================================\n",
       "Omnibus:                    12050.548   Durbin-Watson:                   1.937\n",
       "Prob(Omnibus):                  0.000   Jarque-Bera (JB):            98988.100\n",
       "Skew:                           1.734   Prob(JB):                         0.00\n",
       "Kurtosis:                      11.227   Cond. No.                     5.64e+03\n",
       "==============================================================================\n",
       "\n",
       "Notes:\n",
       "[1] Standard Errors assume that the covariance matrix of the errors is correctly specified.\n",
       "[2] The condition number is large, 5.64e+03. This might indicate that there are\n",
       "strong multicollinearity or other numerical problems.\n",
       "\"\"\""
      ]
     },
     "execution_count": 32,
     "metadata": {},
     "output_type": "execute_result"
    }
   ],
   "source": [
    "new_baseline_results.summary()"
   ]
  },
  {
   "cell_type": "markdown",
   "id": "8a1154ab",
   "metadata": {},
   "source": [
    "# Re-format and re-read\n",
    "1. R-squared (0.428): This represents the proportion of the variance in the dependent variable (price) that can be explained by the independent variable (sqft_living). An R-squared of 0.428 indicates that around 42.8% of the variability in price is explained by changes in sqft_living.\n",
    "\n",
    "2. F-statistic (2.226e+04) and Prob (F-statistic) (0.00): The F-statistic tests the overall significance of the model. In this case, the very low p-value (0.00) suggests that the model's overall fit is statistically significant.\n",
    "\n",
    "3. Coefficients:\n",
    "   - Constant (Intercept): The intercept value is 7.733e+04. This is the estimated price when sqft_living is 0 (which doesn't have a practical interpretation in this context).\n",
    "   - sqft_living: The coefficient for sqft_living is 475.9234. This suggests that, on average, for each additional square foot of living area, the price is estimated to increase by approximately $475.92.\n",
    "\n",
    "4. P>|t| for Coefficients: Both coefficients have very low p-values (0.000), indicating that both the constant and sqft_living are statistically significant predictors of the price.\n",
    "\n",
    "5. Omnibus (12050.548), Jarque-Bera (JB) (98988.100), and Kurtosis (11.227): These tests assess the normality and distribution of residuals. A significant Omnibus and JB test, along with higher kurtosis, may suggest that the residuals do not follow a normal distribution.\n",
    "\n",
    "6. Durbin-Watson (1.937): This statistic helps to detect the presence of autocorrelation in the residuals. A value around 2 suggests minimal positive autocorrelation.\n",
    "\n",
    "7. Skew (1.734): Skewness measures the asymmetry of the residuals' distribution. A positive skewness indicates a longer tail on the right side\n"
   ]
  },
  {
   "cell_type": "code",
   "execution_count": null,
   "id": "b575ee63",
   "metadata": {},
   "outputs": [],
   "source": []
  },
  {
   "cell_type": "markdown",
   "id": "fa82c283",
   "metadata": {},
   "source": [
    "### 7. d- Calculating and interpreting model's mean absolute error"
   ]
  },
  {
   "cell_type": "code",
   "execution_count": null,
   "id": "5b4502b7",
   "metadata": {},
   "outputs": [],
   "source": []
  },
  {
   "cell_type": "code",
   "execution_count": 33,
   "id": "1b669c44",
   "metadata": {},
   "outputs": [
    {
     "data": {
      "text/plain": [
       "355912.7383624806"
      ]
     },
     "execution_count": 33,
     "metadata": {},
     "output_type": "execute_result"
    }
   ],
   "source": [
    "new_baseline_mae = mean_absolute_error(y, new_baseline_results.predict(sm.add_constant(new_X_baseline)))\n",
    "new_baseline_mae"
   ]
  },
  {
   "cell_type": "markdown",
   "id": "cbfcb171",
   "metadata": {},
   "source": [
    "# Re-format and re-read\n",
    "\n",
    "The new mean absolute error is 355,912.74 - compared to 396,271.45 from the first model. This means that the average absolute difference between the true target values of sales prices and the predicted values is 10% lower than the one from the initial model. \n",
    "\n",
    "This indicates an improvement from this model, for which the predicitions are closer to the actual values.\n",
    "\n",
    "The range of sales prices is extremely large: it goes from \\\\$131,106 to \\\\$5,650,000. This would make this MAE acceptable in a real-world context. Nevertheless, scaling could help improve prediction accuracy."
   ]
  },
  {
   "cell_type": "markdown",
   "id": "84f0780f",
   "metadata": {},
   "source": [
    "## 8. Multiple Linear Regression - Categorical Features"
   ]
  },
  {
   "cell_type": "markdown",
   "id": "517a8447",
   "metadata": {},
   "source": [
    "### 8. a- Inspecting categorical features"
   ]
  },
  {
   "cell_type": "code",
   "execution_count": 34,
   "id": "1e3de733",
   "metadata": {
    "scrolled": false
   },
   "outputs": [
    {
     "name": "stdout",
     "output_type": "stream",
     "text": [
      "NO     24646\n",
      "YES     5161\n",
      "Name: nuisance, dtype: int64 \n",
      "\n",
      "Average      18301\n",
      "Good          7988\n",
      "Very Good     3237\n",
      "Fair           224\n",
      "Poor            57\n",
      "Name: condition, dtype: int64 \n",
      "\n",
      "7 Average        11615\n",
      "8 Good            9352\n",
      "9 Better          3791\n",
      "6 Low Average     2807\n",
      "10 Very Good      1344\n",
      "5 Fair             381\n",
      "11 Excellent       362\n",
      "12 Luxury           92\n",
      "4 Low               45\n",
      "13 Mansion           9\n",
      "3 Poor               8\n",
      "2 Substandard        1\n",
      "Name: grade, dtype: int64 \n",
      "\n",
      "Gas                  20382\n",
      "Electricity           6389\n",
      "Oil                   2865\n",
      "Gas/Solar               90\n",
      "Electricity/Solar       58\n",
      "Other                   19\n",
      "Oil/Solar                4\n",
      "Name: heat_source, dtype: int64 \n",
      "\n",
      "PUBLIC                25501\n",
      "PRIVATE                4299\n",
      "PRIVATE RESTRICTED        4\n",
      "PUBLIC RESTRICTED         3\n",
      "Name: sewer_system, dtype: int64 \n",
      "\n"
     ]
    }
   ],
   "source": [
    "# Inspecting each categorical feature to understand their attributes\n",
    "categoricals = kc_house_df.select_dtypes(include=[object])\n",
    "\n",
    "for col in categoricals:\n",
    "    print(kc_house_df[col].value_counts(), \"\\n\")"
   ]
  },
  {
   "cell_type": "markdown",
   "id": "5d641478",
   "metadata": {},
   "source": [
    "There are 5 columns with categorical data:\n",
    "* nuisance\n",
    "* condition \n",
    "* grade\n",
    "* heat_source \n",
    "* sewer_system\n",
    "\n",
    "Nuisance's response is binary: yes or no. Condition and grade provide a rating system from poor to luxury. Rating includes some specific to the house type, i.e. mansion. \n",
    "\n",
    "Heat source and sewer system's responses refer to options specific to each category, i.e. gas, electricity as heat sources in the house."
   ]
  },
  {
   "cell_type": "markdown",
   "id": "e2c74384",
   "metadata": {},
   "source": [
    "### 8. b- Identifying a promising predictor"
   ]
  },
  {
   "cell_type": "code",
   "execution_count": 35,
   "id": "047402ee",
   "metadata": {},
   "outputs": [],
   "source": [
    "categorical_features = categoricals.columns"
   ]
  },
  {
   "cell_type": "code",
   "execution_count": 36,
   "id": "8d26e704",
   "metadata": {
    "scrolled": true
   },
   "outputs": [
    {
     "data": {
      "text/plain": [
       "Index(['nuisance', 'condition', 'grade', 'heat_source', 'sewer_system'], dtype='object')"
      ]
     },
     "execution_count": 36,
     "metadata": {},
     "output_type": "execute_result"
    }
   ],
   "source": [
    "categorical_features"
   ]
  },
  {
   "cell_type": "code",
   "execution_count": 37,
   "id": "b317c5d8",
   "metadata": {},
   "outputs": [
    {
     "data": {
      "image/png": "[encoded data removed]",
      "text/plain": [
       "<Figure size 1200x600 with 5 Axes>"
      ]
     },
     "metadata": {},
     "output_type": "display_data"
    }
   ],
   "source": [
    "fig, axes = plt.subplots(ncols=len(categorical_features), figsize=(12, 6))\n",
    "for index, feature in enumerate(categoricals):\n",
    "    kc_house_df.groupby(feature).mean().sort_values(\"price\").plot.bar(y=\"price\", ax=axes[index])"
   ]
  },
  {
   "cell_type": "markdown",
   "id": "21e16d21",
   "metadata": {},
   "source": [
    "Most categorical features seem to correlate with price except for nuisance.\n",
    "\n",
    "We will start with the overall representation: condition, as even though grade gives an idea, reaching a mansion by renovation is less likely. "
   ]
  },
  {
   "cell_type": "code",
   "execution_count": 38,
   "id": "26d5ce93",
   "metadata": {},
   "outputs": [],
   "source": [
    "cat_feature = \"condition\""
   ]
  },
  {
   "cell_type": "markdown",
   "id": "b4e38360",
   "metadata": {},
   "source": [
    "###  8. c- Setting up variables for regression"
   ]
  },
  {
   "cell_type": "markdown",
   "id": "a39c1622",
   "metadata": {},
   "source": [
    "Creating a variable X_iterated : a DataFrame containing the column with the strongest\n",
    "correlation and your selected categorical feature."
   ]
  },
  {
   "cell_type": "code",
   "execution_count": 39,
   "id": "7aca7e55",
   "metadata": {},
   "outputs": [
    {
     "data": {
      "text/html": [
       "<div>\n",
       "<style scoped>\n",
       "    .dataframe tbody tr th:only-of-type {\n",
       "        vertical-align: middle;\n",
       "    }\n",
       "\n",
       "    .dataframe tbody tr th {\n",
       "        vertical-align: top;\n",
       "    }\n",
       "\n",
       "    .dataframe thead th {\n",
       "        text-align: right;\n",
       "    }\n",
       "</style>\n",
       "<table border=\"1\" class=\"dataframe\">\n",
       "  <thead>\n",
       "    <tr style=\"text-align: right;\">\n",
       "      <th></th>\n",
       "      <th>sqft_living</th>\n",
       "      <th>condition</th>\n",
       "    </tr>\n",
       "  </thead>\n",
       "  <tbody>\n",
       "    <tr>\n",
       "      <th>0</th>\n",
       "      <td>1180</td>\n",
       "      <td>Good</td>\n",
       "    </tr>\n",
       "    <tr>\n",
       "      <th>1</th>\n",
       "      <td>2770</td>\n",
       "      <td>Average</td>\n",
       "    </tr>\n",
       "    <tr>\n",
       "      <th>2</th>\n",
       "      <td>2880</td>\n",
       "      <td>Average</td>\n",
       "    </tr>\n",
       "    <tr>\n",
       "      <th>3</th>\n",
       "      <td>2160</td>\n",
       "      <td>Average</td>\n",
       "    </tr>\n",
       "    <tr>\n",
       "      <th>4</th>\n",
       "      <td>1120</td>\n",
       "      <td>Average</td>\n",
       "    </tr>\n",
       "    <tr>\n",
       "      <th>...</th>\n",
       "      <td>...</td>\n",
       "      <td>...</td>\n",
       "    </tr>\n",
       "    <tr>\n",
       "      <th>30150</th>\n",
       "      <td>1910</td>\n",
       "      <td>Good</td>\n",
       "    </tr>\n",
       "    <tr>\n",
       "      <th>30151</th>\n",
       "      <td>2020</td>\n",
       "      <td>Average</td>\n",
       "    </tr>\n",
       "    <tr>\n",
       "      <th>30152</th>\n",
       "      <td>1620</td>\n",
       "      <td>Average</td>\n",
       "    </tr>\n",
       "    <tr>\n",
       "      <th>30153</th>\n",
       "      <td>2570</td>\n",
       "      <td>Average</td>\n",
       "    </tr>\n",
       "    <tr>\n",
       "      <th>30154</th>\n",
       "      <td>1200</td>\n",
       "      <td>Average</td>\n",
       "    </tr>\n",
       "  </tbody>\n",
       "</table>\n",
       "<p>29807 rows × 2 columns</p>\n",
       "</div>"
      ],
      "text/plain": [
       "       sqft_living condition\n",
       "0             1180      Good\n",
       "1             2770   Average\n",
       "2             2880   Average\n",
       "3             2160   Average\n",
       "4             1120   Average\n",
       "...            ...       ...\n",
       "30150         1910      Good\n",
       "30151         2020   Average\n",
       "30152         1620   Average\n",
       "30153         2570   Average\n",
       "30154         1200   Average\n",
       "\n",
       "[29807 rows x 2 columns]"
      ]
     },
     "execution_count": 39,
     "metadata": {},
     "output_type": "execute_result"
    }
   ],
   "source": [
    "X_iterated = kc_house_df[[most_correlated, cat_feature]]\n",
    "X_iterated"
   ]
  },
  {
   "cell_type": "code",
   "execution_count": null,
   "id": "f7cbbd05",
   "metadata": {},
   "outputs": [],
   "source": []
  },
  {
   "cell_type": "markdown",
   "id": "5f68393c",
   "metadata": {},
   "source": [
    "### 8. d- Preprocessing categorical variable with one-hot encoding"
   ]
  },
  {
   "cell_type": "code",
   "execution_count": 40,
   "id": "1f7b7680",
   "metadata": {},
   "outputs": [
    {
     "data": {
      "text/html": [
       "<div>\n",
       "<style scoped>\n",
       "    .dataframe tbody tr th:only-of-type {\n",
       "        vertical-align: middle;\n",
       "    }\n",
       "\n",
       "    .dataframe tbody tr th {\n",
       "        vertical-align: top;\n",
       "    }\n",
       "\n",
       "    .dataframe thead th {\n",
       "        text-align: right;\n",
       "    }\n",
       "</style>\n",
       "<table border=\"1\" class=\"dataframe\">\n",
       "  <thead>\n",
       "    <tr style=\"text-align: right;\">\n",
       "      <th></th>\n",
       "      <th>sqft_living</th>\n",
       "      <th>condition_Average</th>\n",
       "      <th>condition_Fair</th>\n",
       "      <th>condition_Good</th>\n",
       "      <th>condition_Poor</th>\n",
       "      <th>condition_Very Good</th>\n",
       "    </tr>\n",
       "  </thead>\n",
       "  <tbody>\n",
       "    <tr>\n",
       "      <th>0</th>\n",
       "      <td>1180</td>\n",
       "      <td>0</td>\n",
       "      <td>0</td>\n",
       "      <td>1</td>\n",
       "      <td>0</td>\n",
       "      <td>0</td>\n",
       "    </tr>\n",
       "    <tr>\n",
       "      <th>1</th>\n",
       "      <td>2770</td>\n",
       "      <td>1</td>\n",
       "      <td>0</td>\n",
       "      <td>0</td>\n",
       "      <td>0</td>\n",
       "      <td>0</td>\n",
       "    </tr>\n",
       "    <tr>\n",
       "      <th>2</th>\n",
       "      <td>2880</td>\n",
       "      <td>1</td>\n",
       "      <td>0</td>\n",
       "      <td>0</td>\n",
       "      <td>0</td>\n",
       "      <td>0</td>\n",
       "    </tr>\n",
       "    <tr>\n",
       "      <th>3</th>\n",
       "      <td>2160</td>\n",
       "      <td>1</td>\n",
       "      <td>0</td>\n",
       "      <td>0</td>\n",
       "      <td>0</td>\n",
       "      <td>0</td>\n",
       "    </tr>\n",
       "    <tr>\n",
       "      <th>4</th>\n",
       "      <td>1120</td>\n",
       "      <td>1</td>\n",
       "      <td>0</td>\n",
       "      <td>0</td>\n",
       "      <td>0</td>\n",
       "      <td>0</td>\n",
       "    </tr>\n",
       "    <tr>\n",
       "      <th>...</th>\n",
       "      <td>...</td>\n",
       "      <td>...</td>\n",
       "      <td>...</td>\n",
       "      <td>...</td>\n",
       "      <td>...</td>\n",
       "      <td>...</td>\n",
       "    </tr>\n",
       "    <tr>\n",
       "      <th>30150</th>\n",
       "      <td>1910</td>\n",
       "      <td>0</td>\n",
       "      <td>0</td>\n",
       "      <td>1</td>\n",
       "      <td>0</td>\n",
       "      <td>0</td>\n",
       "    </tr>\n",
       "    <tr>\n",
       "      <th>30151</th>\n",
       "      <td>2020</td>\n",
       "      <td>1</td>\n",
       "      <td>0</td>\n",
       "      <td>0</td>\n",
       "      <td>0</td>\n",
       "      <td>0</td>\n",
       "    </tr>\n",
       "    <tr>\n",
       "      <th>30152</th>\n",
       "      <td>1620</td>\n",
       "      <td>1</td>\n",
       "      <td>0</td>\n",
       "      <td>0</td>\n",
       "      <td>0</td>\n",
       "      <td>0</td>\n",
       "    </tr>\n",
       "    <tr>\n",
       "      <th>30153</th>\n",
       "      <td>2570</td>\n",
       "      <td>1</td>\n",
       "      <td>0</td>\n",
       "      <td>0</td>\n",
       "      <td>0</td>\n",
       "      <td>0</td>\n",
       "    </tr>\n",
       "    <tr>\n",
       "      <th>30154</th>\n",
       "      <td>1200</td>\n",
       "      <td>1</td>\n",
       "      <td>0</td>\n",
       "      <td>0</td>\n",
       "      <td>0</td>\n",
       "      <td>0</td>\n",
       "    </tr>\n",
       "  </tbody>\n",
       "</table>\n",
       "<p>29807 rows × 6 columns</p>\n",
       "</div>"
      ],
      "text/plain": [
       "       sqft_living  condition_Average  condition_Fair  condition_Good  \\\n",
       "0             1180                  0               0               1   \n",
       "1             2770                  1               0               0   \n",
       "2             2880                  1               0               0   \n",
       "3             2160                  1               0               0   \n",
       "4             1120                  1               0               0   \n",
       "...            ...                ...             ...             ...   \n",
       "30150         1910                  0               0               1   \n",
       "30151         2020                  1               0               0   \n",
       "30152         1620                  1               0               0   \n",
       "30153         2570                  1               0               0   \n",
       "30154         1200                  1               0               0   \n",
       "\n",
       "       condition_Poor  condition_Very Good  \n",
       "0                   0                    0  \n",
       "1                   0                    0  \n",
       "2                   0                    0  \n",
       "3                   0                    0  \n",
       "4                   0                    0  \n",
       "...               ...                  ...  \n",
       "30150               0                    0  \n",
       "30151               0                    0  \n",
       "30152               0                    0  \n",
       "30153               0                    0  \n",
       "30154               0                    0  \n",
       "\n",
       "[29807 rows x 6 columns]"
      ]
     },
     "execution_count": 40,
     "metadata": {},
     "output_type": "execute_result"
    }
   ],
   "source": [
    "X_iterated = pd.get_dummies(X_iterated, columns=[cat_feature])\n",
    "X_iterated"
   ]
  },
  {
   "cell_type": "code",
   "execution_count": 41,
   "id": "07efd50d",
   "metadata": {},
   "outputs": [],
   "source": [
    "# Dropping \"condition_Poor\" as a baseline, because is the worst ranking given for a condition "
   ]
  },
  {
   "cell_type": "code",
   "execution_count": 42,
   "id": "1aa4358c",
   "metadata": {},
   "outputs": [
    {
     "data": {
      "text/html": [
       "<div>\n",
       "<style scoped>\n",
       "    .dataframe tbody tr th:only-of-type {\n",
       "        vertical-align: middle;\n",
       "    }\n",
       "\n",
       "    .dataframe tbody tr th {\n",
       "        vertical-align: top;\n",
       "    }\n",
       "\n",
       "    .dataframe thead th {\n",
       "        text-align: right;\n",
       "    }\n",
       "</style>\n",
       "<table border=\"1\" class=\"dataframe\">\n",
       "  <thead>\n",
       "    <tr style=\"text-align: right;\">\n",
       "      <th></th>\n",
       "      <th>sqft_living</th>\n",
       "      <th>condition_Average</th>\n",
       "      <th>condition_Fair</th>\n",
       "      <th>condition_Good</th>\n",
       "      <th>condition_Very Good</th>\n",
       "    </tr>\n",
       "  </thead>\n",
       "  <tbody>\n",
       "    <tr>\n",
       "      <th>0</th>\n",
       "      <td>1180</td>\n",
       "      <td>0</td>\n",
       "      <td>0</td>\n",
       "      <td>1</td>\n",
       "      <td>0</td>\n",
       "    </tr>\n",
       "    <tr>\n",
       "      <th>1</th>\n",
       "      <td>2770</td>\n",
       "      <td>1</td>\n",
       "      <td>0</td>\n",
       "      <td>0</td>\n",
       "      <td>0</td>\n",
       "    </tr>\n",
       "    <tr>\n",
       "      <th>2</th>\n",
       "      <td>2880</td>\n",
       "      <td>1</td>\n",
       "      <td>0</td>\n",
       "      <td>0</td>\n",
       "      <td>0</td>\n",
       "    </tr>\n",
       "    <tr>\n",
       "      <th>3</th>\n",
       "      <td>2160</td>\n",
       "      <td>1</td>\n",
       "      <td>0</td>\n",
       "      <td>0</td>\n",
       "      <td>0</td>\n",
       "    </tr>\n",
       "    <tr>\n",
       "      <th>4</th>\n",
       "      <td>1120</td>\n",
       "      <td>1</td>\n",
       "      <td>0</td>\n",
       "      <td>0</td>\n",
       "      <td>0</td>\n",
       "    </tr>\n",
       "    <tr>\n",
       "      <th>...</th>\n",
       "      <td>...</td>\n",
       "      <td>...</td>\n",
       "      <td>...</td>\n",
       "      <td>...</td>\n",
       "      <td>...</td>\n",
       "    </tr>\n",
       "    <tr>\n",
       "      <th>30150</th>\n",
       "      <td>1910</td>\n",
       "      <td>0</td>\n",
       "      <td>0</td>\n",
       "      <td>1</td>\n",
       "      <td>0</td>\n",
       "    </tr>\n",
       "    <tr>\n",
       "      <th>30151</th>\n",
       "      <td>2020</td>\n",
       "      <td>1</td>\n",
       "      <td>0</td>\n",
       "      <td>0</td>\n",
       "      <td>0</td>\n",
       "    </tr>\n",
       "    <tr>\n",
       "      <th>30152</th>\n",
       "      <td>1620</td>\n",
       "      <td>1</td>\n",
       "      <td>0</td>\n",
       "      <td>0</td>\n",
       "      <td>0</td>\n",
       "    </tr>\n",
       "    <tr>\n",
       "      <th>30153</th>\n",
       "      <td>2570</td>\n",
       "      <td>1</td>\n",
       "      <td>0</td>\n",
       "      <td>0</td>\n",
       "      <td>0</td>\n",
       "    </tr>\n",
       "    <tr>\n",
       "      <th>30154</th>\n",
       "      <td>1200</td>\n",
       "      <td>1</td>\n",
       "      <td>0</td>\n",
       "      <td>0</td>\n",
       "      <td>0</td>\n",
       "    </tr>\n",
       "  </tbody>\n",
       "</table>\n",
       "<p>29807 rows × 5 columns</p>\n",
       "</div>"
      ],
      "text/plain": [
       "       sqft_living  condition_Average  condition_Fair  condition_Good  \\\n",
       "0             1180                  0               0               1   \n",
       "1             2770                  1               0               0   \n",
       "2             2880                  1               0               0   \n",
       "3             2160                  1               0               0   \n",
       "4             1120                  1               0               0   \n",
       "...            ...                ...             ...             ...   \n",
       "30150         1910                  0               0               1   \n",
       "30151         2020                  1               0               0   \n",
       "30152         1620                  1               0               0   \n",
       "30153         2570                  1               0               0   \n",
       "30154         1200                  1               0               0   \n",
       "\n",
       "       condition_Very Good  \n",
       "0                        0  \n",
       "1                        0  \n",
       "2                        0  \n",
       "3                        0  \n",
       "4                        0  \n",
       "...                    ...  \n",
       "30150                    0  \n",
       "30151                    0  \n",
       "30152                    0  \n",
       "30153                    0  \n",
       "30154                    0  \n",
       "\n",
       "[29807 rows x 5 columns]"
      ]
     },
     "execution_count": 42,
     "metadata": {},
     "output_type": "execute_result"
    }
   ],
   "source": [
    "X_iterated.drop(\"condition_Poor\", axis=1, inplace=True)\n",
    "X_iterated"
   ]
  },
  {
   "cell_type": "code",
   "execution_count": null,
   "id": "c39018c5",
   "metadata": {},
   "outputs": [],
   "source": []
  },
  {
   "cell_type": "markdown",
   "id": "3609429f",
   "metadata": {},
   "source": [
    "### 8. e- Building a multiple linear regression model"
   ]
  },
  {
   "cell_type": "markdown",
   "id": "a634b1a9",
   "metadata": {},
   "source": [
    "Using the y variable from our previous model and X_iterated , building a model called iterated_model\n",
    "and a regression results object called iterated_results ."
   ]
  },
  {
   "cell_type": "code",
   "execution_count": 43,
   "id": "877650a1",
   "metadata": {},
   "outputs": [],
   "source": [
    "iterated_model = sm.OLS(y, sm.add_constant(X_iterated))\n",
    "iterated_results = iterated_model.fit()"
   ]
  },
  {
   "cell_type": "code",
   "execution_count": 44,
   "id": "bcf5f7a4",
   "metadata": {},
   "outputs": [
    {
     "name": "stdout",
     "output_type": "stream",
     "text": [
      "sqft_living               477.250792\n",
      "condition_Average       51872.299370\n",
      "condition_Fair          62919.975143\n",
      "condition_Good          69085.793874\n",
      "condition_Very Good    135739.940053\n",
      "dtype: float64\n",
      "8967.235833342129\n"
     ]
    }
   ],
   "source": [
    "coefficients = iterated_results.params[1:]\n",
    "intercept = iterated_results.params[0]\n",
    "print(coefficients)\n",
    "print(intercept)"
   ]
  },
  {
   "cell_type": "markdown",
   "id": "10abb5cb",
   "metadata": {},
   "source": [
    "### 8. f- Evaluating and interpreting regression results"
   ]
  },
  {
   "cell_type": "code",
   "execution_count": 45,
   "id": "45496492",
   "metadata": {},
   "outputs": [
    {
     "data": {
      "text/html": [
       "<table class=\"simpletable\">\n",
       "<caption>OLS Regression Results</caption>\n",
       "<tr>\n",
       "  <th>Dep. Variable:</th>          <td>price</td>      <th>  R-squared:         </th>  <td>   0.429</td>  \n",
       "</tr>\n",
       "<tr>\n",
       "  <th>Model:</th>                   <td>OLS</td>       <th>  Adj. R-squared:    </th>  <td>   0.429</td>  \n",
       "</tr>\n",
       "<tr>\n",
       "  <th>Method:</th>             <td>Least Squares</td>  <th>  F-statistic:       </th>  <td>   4478.</td>  \n",
       "</tr>\n",
       "<tr>\n",
       "  <th>Date:</th>             <td>Wed, 30 Aug 2023</td> <th>  Prob (F-statistic):</th>   <td>  0.00</td>   \n",
       "</tr>\n",
       "<tr>\n",
       "  <th>Time:</th>                 <td>12:39:24</td>     <th>  Log-Likelihood:    </th> <td>-4.3439e+05</td>\n",
       "</tr>\n",
       "<tr>\n",
       "  <th>No. Observations:</th>      <td> 29807</td>      <th>  AIC:               </th>  <td>8.688e+05</td> \n",
       "</tr>\n",
       "<tr>\n",
       "  <th>Df Residuals:</th>          <td> 29801</td>      <th>  BIC:               </th>  <td>8.688e+05</td> \n",
       "</tr>\n",
       "<tr>\n",
       "  <th>Df Model:</th>              <td>     5</td>      <th>                     </th>      <td> </td>     \n",
       "</tr>\n",
       "<tr>\n",
       "  <th>Covariance Type:</th>      <td>nonrobust</td>    <th>                     </th>      <td> </td>     \n",
       "</tr>\n",
       "</table>\n",
       "<table class=\"simpletable\">\n",
       "<tr>\n",
       "           <td></td>              <th>coef</th>     <th>std err</th>      <th>t</th>      <th>P>|t|</th>  <th>[0.025</th>    <th>0.975]</th>  \n",
       "</tr>\n",
       "<tr>\n",
       "  <th>const</th>               <td> 8967.2358</td> <td> 6.85e+04</td> <td>    0.131</td> <td> 0.896</td> <td>-1.25e+05</td> <td> 1.43e+05</td>\n",
       "</tr>\n",
       "<tr>\n",
       "  <th>sqft_living</th>         <td>  477.2508</td> <td>    3.204</td> <td>  148.959</td> <td> 0.000</td> <td>  470.971</td> <td>  483.531</td>\n",
       "</tr>\n",
       "<tr>\n",
       "  <th>condition_Average</th>   <td> 5.187e+04</td> <td> 6.86e+04</td> <td>    0.757</td> <td> 0.449</td> <td>-8.25e+04</td> <td> 1.86e+05</td>\n",
       "</tr>\n",
       "<tr>\n",
       "  <th>condition_Fair</th>      <td> 6.292e+04</td> <td> 7.66e+04</td> <td>    0.821</td> <td> 0.411</td> <td>-8.72e+04</td> <td> 2.13e+05</td>\n",
       "</tr>\n",
       "<tr>\n",
       "  <th>condition_Good</th>      <td> 6.909e+04</td> <td> 6.87e+04</td> <td>    1.006</td> <td> 0.314</td> <td>-6.55e+04</td> <td> 2.04e+05</td>\n",
       "</tr>\n",
       "<tr>\n",
       "  <th>condition_Very Good</th> <td> 1.357e+05</td> <td>  6.9e+04</td> <td>    1.966</td> <td> 0.049</td> <td>  440.895</td> <td> 2.71e+05</td>\n",
       "</tr>\n",
       "</table>\n",
       "<table class=\"simpletable\">\n",
       "<tr>\n",
       "  <th>Omnibus:</th>       <td>12119.347</td> <th>  Durbin-Watson:     </th>  <td>   1.935</td> \n",
       "</tr>\n",
       "<tr>\n",
       "  <th>Prob(Omnibus):</th>  <td> 0.000</td>   <th>  Jarque-Bera (JB):  </th> <td>100578.330</td>\n",
       "</tr>\n",
       "<tr>\n",
       "  <th>Skew:</th>           <td> 1.743</td>   <th>  Prob(JB):          </th>  <td>    0.00</td> \n",
       "</tr>\n",
       "<tr>\n",
       "  <th>Kurtosis:</th>       <td>11.297</td>   <th>  Cond. No.          </th>  <td>1.18e+05</td> \n",
       "</tr>\n",
       "</table><br/><br/>Notes:<br/>[1] Standard Errors assume that the covariance matrix of the errors is correctly specified.<br/>[2] The condition number is large, 1.18e+05. This might indicate that there are<br/>strong multicollinearity or other numerical problems."
      ],
      "text/plain": [
       "<class 'statsmodels.iolib.summary.Summary'>\n",
       "\"\"\"\n",
       "                            OLS Regression Results                            \n",
       "==============================================================================\n",
       "Dep. Variable:                  price   R-squared:                       0.429\n",
       "Model:                            OLS   Adj. R-squared:                  0.429\n",
       "Method:                 Least Squares   F-statistic:                     4478.\n",
       "Date:                Wed, 30 Aug 2023   Prob (F-statistic):               0.00\n",
       "Time:                        12:39:24   Log-Likelihood:            -4.3439e+05\n",
       "No. Observations:               29807   AIC:                         8.688e+05\n",
       "Df Residuals:                   29801   BIC:                         8.688e+05\n",
       "Df Model:                           5                                         \n",
       "Covariance Type:            nonrobust                                         \n",
       "=======================================================================================\n",
       "                          coef    std err          t      P>|t|      [0.025      0.975]\n",
       "---------------------------------------------------------------------------------------\n",
       "const                8967.2358   6.85e+04      0.131      0.896   -1.25e+05    1.43e+05\n",
       "sqft_living           477.2508      3.204    148.959      0.000     470.971     483.531\n",
       "condition_Average    5.187e+04   6.86e+04      0.757      0.449   -8.25e+04    1.86e+05\n",
       "condition_Fair       6.292e+04   7.66e+04      0.821      0.411   -8.72e+04    2.13e+05\n",
       "condition_Good       6.909e+04   6.87e+04      1.006      0.314   -6.55e+04    2.04e+05\n",
       "condition_Very Good  1.357e+05    6.9e+04      1.966      0.049     440.895    2.71e+05\n",
       "==============================================================================\n",
       "Omnibus:                    12119.347   Durbin-Watson:                   1.935\n",
       "Prob(Omnibus):                  0.000   Jarque-Bera (JB):           100578.330\n",
       "Skew:                           1.743   Prob(JB):                         0.00\n",
       "Kurtosis:                      11.297   Cond. No.                     1.18e+05\n",
       "==============================================================================\n",
       "\n",
       "Notes:\n",
       "[1] Standard Errors assume that the covariance matrix of the errors is correctly specified.\n",
       "[2] The condition number is large, 1.18e+05. This might indicate that there are\n",
       "strong multicollinearity or other numerical problems.\n",
       "\"\"\""
      ]
     },
     "execution_count": 45,
     "metadata": {},
     "output_type": "execute_result"
    }
   ],
   "source": [
    "iterated_results.summary()"
   ]
  },
  {
   "cell_type": "markdown",
   "id": "9f8a6f06",
   "metadata": {},
   "source": [
    "This OLS regression analysis is aimed at predicting the \"price\" variable based on a set of independent variables. Let's interpret the key results:\n",
    "\n",
    "1. **R-squared and Adjusted R-squared**: The R-squared value of 0.429 indicates that approximately 42.9% of the variance in the dependent variable (\"price\") is explained by the independent variables in the model. The adjusted R-squared is also 0.429, suggesting that the model's explanatory power remains consistent when accounting for the number of variables.\n",
    "\n",
    "2. **F-statistic and Prob (F-statistic)**: The F-statistic of 4478.0 with a very low probability (Prob (F-statistic) = 0.00) indicates that at least one independent variable in the model has a significant relationship with the dependent variable.\n",
    "\n",
    "3. **Coefficients (coef) and P-values (P>|t|)**: Each coefficient represents the change in the dependent variable for a one-unit change in the corresponding independent variable, while holding other variables constant. For example:\n",
    "   - \"sqft_living\" coefficient: An increase of 1 square foot in living area is associated with an increase of \\$477.25 in price.\n",
    "   - \"condition_Average\" coefficient: Properties with an \"Average\" condition are associated with an increase of \\$51,870 in price, but the p-value is not significant (p > 0.05).\n",
    "   - \"condition_Fair\" coefficient: Properties with a \"Fair\" condition are associated with an increase of \\$62,920 in price, but the p-value is not significant.\n",
    "   - \"condition_Good\" coefficient: Properties with a \"Good\" condition are associated with an increase of \\$69,090 in price, but the p-value is not significant.\n",
    "   - \"condition_Very Good\" coefficient: Properties with a \"Very Good\" condition are associated with an increase of \\$135,700 in price, and the p-value (0.049) indicates that this increase is statistically significant at a 5% significance level.\n",
    "\n",
    "\n",
    "<u>Limits</u>\n",
    "\n",
    "1. **Omnibus, Jarque-Bera, Skew, Kurtosis**: These statistics provide insights into the distribution of residuals and the model's fit. A low p-value (0.00) for Omnibus and Jarque-Bera indicates that the residuals are not normally distributed, and there might be issues with the model assumptions. The skewness value (1.743) suggests that the residuals are positively skewed, and the kurtosis value (11.297) indicates heavy tails in the distribution.\n",
    "\n",
    "2. **Durbin-Watson**: The Durbin-Watson statistic of approximately 1.935 suggests that there may be some positive autocorrelation among the residuals.\n",
    "\n",
    "3. **Cond. No.**: The condition number provides information about multicollinearity. A high value suggests that there might be multicollinearity among the independent variables.\n",
    "\n",
    "In summary, this regression analysis indicates that the model has some explanatory power, but there may be issues with distribution assumptions, multicollinearity, and significance levels of certain independent variables. Further investigation and diagnostics may be needed to improve the model's reliability and interpretability."
   ]
  },
  {
   "cell_type": "markdown",
   "id": "846d475d",
   "metadata": {},
   "source": [
    "### 8. g- Calculating and interpreting model's mean absolute error"
   ]
  },
  {
   "cell_type": "code",
   "execution_count": 46,
   "id": "8c3b6fe4",
   "metadata": {},
   "outputs": [
    {
     "data": {
      "text/plain": [
       "(396271.4457372302, 355653.4317614562)"
      ]
     },
     "execution_count": 46,
     "metadata": {},
     "output_type": "execute_result"
    }
   ],
   "source": [
    "iterated_mae = mean_absolute_error(y, iterated_results.predict(sm.add_constant(X_iterated)))\n",
    "baseline_mae, iterated_mae"
   ]
  },
  {
   "cell_type": "code",
   "execution_count": 47,
   "id": "bace21e0",
   "metadata": {},
   "outputs": [
    {
     "data": {
      "text/plain": [
       "(0.37039218894923187, 0.4288815982113814)"
      ]
     },
     "execution_count": 47,
     "metadata": {},
     "output_type": "execute_result"
    }
   ],
   "source": [
    "baseline_results.rsquared_adj, iterated_results.rsquared_adj"
   ]
  },
  {
   "cell_type": "code",
   "execution_count": null,
   "id": "5e89ca3a",
   "metadata": {},
   "outputs": [],
   "source": []
  },
  {
   "cell_type": "markdown",
   "id": "1814fc51",
   "metadata": {},
   "source": [
    "## 9. Multiple Linear Regression - Numeric Features"
   ]
  },
  {
   "cell_type": "markdown",
   "id": "3ff09465",
   "metadata": {},
   "source": [
    "### 9. a- Setting up variables for regression"
   ]
  },
  {
   "cell_type": "code",
   "execution_count": 48,
   "id": "f92a96a3",
   "metadata": {},
   "outputs": [],
   "source": [
    "# Setting categorical column names as the variable categorical_features  \n",
    "categorical_features = categoricals.columns"
   ]
  },
  {
   "cell_type": "code",
   "execution_count": 49,
   "id": "12b158e6",
   "metadata": {},
   "outputs": [
    {
     "data": {
      "text/html": [
       "<div>\n",
       "<style scoped>\n",
       "    .dataframe tbody tr th:only-of-type {\n",
       "        vertical-align: middle;\n",
       "    }\n",
       "\n",
       "    .dataframe tbody tr th {\n",
       "        vertical-align: top;\n",
       "    }\n",
       "\n",
       "    .dataframe thead th {\n",
       "        text-align: right;\n",
       "    }\n",
       "</style>\n",
       "<table border=\"1\" class=\"dataframe\">\n",
       "  <thead>\n",
       "    <tr style=\"text-align: right;\">\n",
       "      <th></th>\n",
       "      <th>bedrooms</th>\n",
       "      <th>bathrooms</th>\n",
       "      <th>sqft_living</th>\n",
       "      <th>sqft_lot</th>\n",
       "      <th>floors</th>\n",
       "      <th>sqft_above</th>\n",
       "      <th>sqft_basement</th>\n",
       "      <th>sqft_garage</th>\n",
       "      <th>sqft_patio</th>\n",
       "      <th>yr_built</th>\n",
       "    </tr>\n",
       "  </thead>\n",
       "  <tbody>\n",
       "    <tr>\n",
       "      <th>0</th>\n",
       "      <td>4</td>\n",
       "      <td>1.0</td>\n",
       "      <td>1180</td>\n",
       "      <td>7140</td>\n",
       "      <td>1.0</td>\n",
       "      <td>1180</td>\n",
       "      <td>0</td>\n",
       "      <td>0</td>\n",
       "      <td>40</td>\n",
       "      <td>1969</td>\n",
       "    </tr>\n",
       "    <tr>\n",
       "      <th>1</th>\n",
       "      <td>5</td>\n",
       "      <td>2.5</td>\n",
       "      <td>2770</td>\n",
       "      <td>6703</td>\n",
       "      <td>1.0</td>\n",
       "      <td>1570</td>\n",
       "      <td>1570</td>\n",
       "      <td>0</td>\n",
       "      <td>240</td>\n",
       "      <td>1950</td>\n",
       "    </tr>\n",
       "    <tr>\n",
       "      <th>2</th>\n",
       "      <td>6</td>\n",
       "      <td>2.0</td>\n",
       "      <td>2880</td>\n",
       "      <td>6156</td>\n",
       "      <td>1.0</td>\n",
       "      <td>1580</td>\n",
       "      <td>1580</td>\n",
       "      <td>0</td>\n",
       "      <td>0</td>\n",
       "      <td>1956</td>\n",
       "    </tr>\n",
       "    <tr>\n",
       "      <th>3</th>\n",
       "      <td>3</td>\n",
       "      <td>3.0</td>\n",
       "      <td>2160</td>\n",
       "      <td>1400</td>\n",
       "      <td>2.0</td>\n",
       "      <td>1090</td>\n",
       "      <td>1070</td>\n",
       "      <td>200</td>\n",
       "      <td>270</td>\n",
       "      <td>2010</td>\n",
       "    </tr>\n",
       "    <tr>\n",
       "      <th>4</th>\n",
       "      <td>2</td>\n",
       "      <td>2.0</td>\n",
       "      <td>1120</td>\n",
       "      <td>758</td>\n",
       "      <td>2.0</td>\n",
       "      <td>1120</td>\n",
       "      <td>550</td>\n",
       "      <td>550</td>\n",
       "      <td>30</td>\n",
       "      <td>2012</td>\n",
       "    </tr>\n",
       "  </tbody>\n",
       "</table>\n",
       "</div>"
      ],
      "text/plain": [
       "   bedrooms  bathrooms  sqft_living  sqft_lot  floors  sqft_above  \\\n",
       "0         4        1.0         1180      7140     1.0        1180   \n",
       "1         5        2.5         2770      6703     1.0        1570   \n",
       "2         6        2.0         2880      6156     1.0        1580   \n",
       "3         3        3.0         2160      1400     2.0        1090   \n",
       "4         2        2.0         1120       758     2.0        1120   \n",
       "\n",
       "   sqft_basement  sqft_garage  sqft_patio  yr_built  \n",
       "0              0            0          40      1969  \n",
       "1           1570            0         240      1950  \n",
       "2           1580            0           0      1956  \n",
       "3           1070          200         270      2010  \n",
       "4            550          550          30      2012  "
      ]
     },
     "execution_count": 49,
     "metadata": {},
     "output_type": "execute_result"
    }
   ],
   "source": [
    "# Dropping the dependent variable - the column price, from the dataset  \n",
    "house_preds = kc_house_df.drop(\"price\", axis=1)\n",
    "\n",
    "# Defining the independent variables: removing categorical columns from house_preds \n",
    "house_preds = house_preds.drop(categorical_features, axis=1)\n",
    "\n",
    "# Defining the target variable: price \n",
    "house_target = kc_house_df[\"price\"]\n",
    "\n",
    "# Inspecting the new data\n",
    "house_preds.head()"
   ]
  },
  {
   "cell_type": "markdown",
   "id": "04980881",
   "metadata": {},
   "source": [
    "We are adding another predictor call const. The value of const is alwyays 1. It is the intercept term for our regression equation. By multiplying beta to 1, the constant, we will get the raw beta. "
   ]
  },
  {
   "cell_type": "markdown",
   "id": "4821e80e",
   "metadata": {},
   "source": [
    "Now building our model. "
   ]
  },
  {
   "cell_type": "markdown",
   "id": "c6092b11",
   "metadata": {},
   "source": [
    "### 9. b- Building a multiple linear regression model"
   ]
  },
  {
   "cell_type": "code",
   "execution_count": 50,
   "id": "895ea78d",
   "metadata": {},
   "outputs": [],
   "source": [
    "# Adding the constant predictor \n",
    "predictors = sm.add_constant(house_preds)"
   ]
  },
  {
   "cell_type": "code",
   "execution_count": 51,
   "id": "52c7d084",
   "metadata": {},
   "outputs": [],
   "source": [
    "numeric_results = sm.OLS(house_target, predictors).fit()"
   ]
  },
  {
   "cell_type": "markdown",
   "id": "e5cdb8f4",
   "metadata": {},
   "source": [
    "### 9. c- Evaluating and interpreting regression results"
   ]
  },
  {
   "cell_type": "code",
   "execution_count": 52,
   "id": "b89efc13",
   "metadata": {},
   "outputs": [
    {
     "data": {
      "text/html": [
       "<table class=\"simpletable\">\n",
       "<caption>OLS Regression Results</caption>\n",
       "<tr>\n",
       "  <th>Dep. Variable:</th>          <td>price</td>      <th>  R-squared:         </th>  <td>   0.464</td>  \n",
       "</tr>\n",
       "<tr>\n",
       "  <th>Model:</th>                   <td>OLS</td>       <th>  Adj. R-squared:    </th>  <td>   0.464</td>  \n",
       "</tr>\n",
       "<tr>\n",
       "  <th>Method:</th>             <td>Least Squares</td>  <th>  F-statistic:       </th>  <td>   2579.</td>  \n",
       "</tr>\n",
       "<tr>\n",
       "  <th>Date:</th>             <td>Wed, 30 Aug 2023</td> <th>  Prob (F-statistic):</th>   <td>  0.00</td>   \n",
       "</tr>\n",
       "<tr>\n",
       "  <th>Time:</th>                 <td>12:39:24</td>     <th>  Log-Likelihood:    </th> <td>-4.3344e+05</td>\n",
       "</tr>\n",
       "<tr>\n",
       "  <th>No. Observations:</th>      <td> 29807</td>      <th>  AIC:               </th>  <td>8.669e+05</td> \n",
       "</tr>\n",
       "<tr>\n",
       "  <th>Df Residuals:</th>          <td> 29796</td>      <th>  BIC:               </th>  <td>8.670e+05</td> \n",
       "</tr>\n",
       "<tr>\n",
       "  <th>Df Model:</th>              <td>    10</td>      <th>                     </th>      <td> </td>     \n",
       "</tr>\n",
       "<tr>\n",
       "  <th>Covariance Type:</th>      <td>nonrobust</td>    <th>                     </th>      <td> </td>     \n",
       "</tr>\n",
       "</table>\n",
       "<table class=\"simpletable\">\n",
       "<tr>\n",
       "        <td></td>           <th>coef</th>     <th>std err</th>      <th>t</th>      <th>P>|t|</th>  <th>[0.025</th>    <th>0.975]</th>  \n",
       "</tr>\n",
       "<tr>\n",
       "  <th>const</th>         <td> 6.655e+06</td> <td> 2.51e+05</td> <td>   26.515</td> <td> 0.000</td> <td> 6.16e+06</td> <td> 7.15e+06</td>\n",
       "</tr>\n",
       "<tr>\n",
       "  <th>bedrooms</th>      <td>-1.091e+05</td> <td> 4041.609</td> <td>  -26.986</td> <td> 0.000</td> <td>-1.17e+05</td> <td>-1.01e+05</td>\n",
       "</tr>\n",
       "<tr>\n",
       "  <th>bathrooms</th>     <td> 1.162e+05</td> <td> 5885.899</td> <td>   19.734</td> <td> 0.000</td> <td> 1.05e+05</td> <td> 1.28e+05</td>\n",
       "</tr>\n",
       "<tr>\n",
       "  <th>sqft_living</th>   <td>  303.2609</td> <td>   13.609</td> <td>   22.283</td> <td> 0.000</td> <td>  276.586</td> <td>  329.936</td>\n",
       "</tr>\n",
       "<tr>\n",
       "  <th>sqft_lot</th>      <td>    0.0019</td> <td>    0.051</td> <td>    0.037</td> <td> 0.970</td> <td>   -0.098</td> <td>    0.101</td>\n",
       "</tr>\n",
       "<tr>\n",
       "  <th>floors</th>        <td>   3.9e+04</td> <td> 7124.309</td> <td>    5.474</td> <td> 0.000</td> <td>  2.5e+04</td> <td>  5.3e+04</td>\n",
       "</tr>\n",
       "<tr>\n",
       "  <th>sqft_above</th>    <td>  202.6998</td> <td>   13.896</td> <td>   14.587</td> <td> 0.000</td> <td>  175.463</td> <td>  229.936</td>\n",
       "</tr>\n",
       "<tr>\n",
       "  <th>sqft_basement</th> <td>  101.1899</td> <td>   10.177</td> <td>    9.943</td> <td> 0.000</td> <td>   81.243</td> <td>  121.137</td>\n",
       "</tr>\n",
       "<tr>\n",
       "  <th>sqft_garage</th>   <td>  -51.8612</td> <td>   14.017</td> <td>   -3.700</td> <td> 0.000</td> <td>  -79.335</td> <td>  -24.387</td>\n",
       "</tr>\n",
       "<tr>\n",
       "  <th>sqft_patio</th>    <td>  159.9047</td> <td>   13.283</td> <td>   12.039</td> <td> 0.000</td> <td>  133.870</td> <td>  185.939</td>\n",
       "</tr>\n",
       "<tr>\n",
       "  <th>yr_built</th>      <td>-3343.4651</td> <td>  130.121</td> <td>  -25.695</td> <td> 0.000</td> <td>-3598.507</td> <td>-3088.423</td>\n",
       "</tr>\n",
       "</table>\n",
       "<table class=\"simpletable\">\n",
       "<tr>\n",
       "  <th>Omnibus:</th>       <td>11889.713</td> <th>  Durbin-Watson:     </th>  <td>   1.931</td> \n",
       "</tr>\n",
       "<tr>\n",
       "  <th>Prob(Omnibus):</th>  <td> 0.000</td>   <th>  Jarque-Bera (JB):  </th> <td>105797.339</td>\n",
       "</tr>\n",
       "<tr>\n",
       "  <th>Skew:</th>           <td> 1.679</td>   <th>  Prob(JB):          </th>  <td>    0.00</td> \n",
       "</tr>\n",
       "<tr>\n",
       "  <th>Kurtosis:</th>       <td>11.597</td>   <th>  Cond. No.          </th>  <td>5.28e+06</td> \n",
       "</tr>\n",
       "</table><br/><br/>Notes:<br/>[1] Standard Errors assume that the covariance matrix of the errors is correctly specified.<br/>[2] The condition number is large, 5.28e+06. This might indicate that there are<br/>strong multicollinearity or other numerical problems."
      ],
      "text/plain": [
       "<class 'statsmodels.iolib.summary.Summary'>\n",
       "\"\"\"\n",
       "                            OLS Regression Results                            \n",
       "==============================================================================\n",
       "Dep. Variable:                  price   R-squared:                       0.464\n",
       "Model:                            OLS   Adj. R-squared:                  0.464\n",
       "Method:                 Least Squares   F-statistic:                     2579.\n",
       "Date:                Wed, 30 Aug 2023   Prob (F-statistic):               0.00\n",
       "Time:                        12:39:24   Log-Likelihood:            -4.3344e+05\n",
       "No. Observations:               29807   AIC:                         8.669e+05\n",
       "Df Residuals:                   29796   BIC:                         8.670e+05\n",
       "Df Model:                          10                                         \n",
       "Covariance Type:            nonrobust                                         \n",
       "=================================================================================\n",
       "                    coef    std err          t      P>|t|      [0.025      0.975]\n",
       "---------------------------------------------------------------------------------\n",
       "const          6.655e+06   2.51e+05     26.515      0.000    6.16e+06    7.15e+06\n",
       "bedrooms      -1.091e+05   4041.609    -26.986      0.000   -1.17e+05   -1.01e+05\n",
       "bathrooms      1.162e+05   5885.899     19.734      0.000    1.05e+05    1.28e+05\n",
       "sqft_living     303.2609     13.609     22.283      0.000     276.586     329.936\n",
       "sqft_lot          0.0019      0.051      0.037      0.970      -0.098       0.101\n",
       "floors           3.9e+04   7124.309      5.474      0.000     2.5e+04     5.3e+04\n",
       "sqft_above      202.6998     13.896     14.587      0.000     175.463     229.936\n",
       "sqft_basement   101.1899     10.177      9.943      0.000      81.243     121.137\n",
       "sqft_garage     -51.8612     14.017     -3.700      0.000     -79.335     -24.387\n",
       "sqft_patio      159.9047     13.283     12.039      0.000     133.870     185.939\n",
       "yr_built      -3343.4651    130.121    -25.695      0.000   -3598.507   -3088.423\n",
       "==============================================================================\n",
       "Omnibus:                    11889.713   Durbin-Watson:                   1.931\n",
       "Prob(Omnibus):                  0.000   Jarque-Bera (JB):           105797.339\n",
       "Skew:                           1.679   Prob(JB):                         0.00\n",
       "Kurtosis:                      11.597   Cond. No.                     5.28e+06\n",
       "==============================================================================\n",
       "\n",
       "Notes:\n",
       "[1] Standard Errors assume that the covariance matrix of the errors is correctly specified.\n",
       "[2] The condition number is large, 5.28e+06. This might indicate that there are\n",
       "strong multicollinearity or other numerical problems.\n",
       "\"\"\""
      ]
     },
     "execution_count": 52,
     "metadata": {},
     "output_type": "execute_result"
    }
   ],
   "source": [
    "numeric_results.summary()"
   ]
  },
  {
   "cell_type": "markdown",
   "id": "3ec3d7ab",
   "metadata": {},
   "source": [
    "This OLS regression analysis is aimed at predicting the \"price\" variable based on the numeric features: the independent variables. \n",
    "\n",
    "1. **R-squared and Adjusted R-squared**: The R-squared value of 0.464 indicates that approximately 46.4% of the variance in the dependent variable (\"price\") is explained by the independent variables in the model. The adjusted R-squared is also 0.464, suggesting that the model's explanatory power remains consistent when accounting for the number of variables. It is the highest adjusted R-squared reached from all regression models. \n",
    "\n",
    "2. **F-statistic and Prob (F-statistic)**: The F-statistic of 2578 with a very low probability (Prob (F-statistic) = 0) indicates that at least one of the numeric features has a significant relationship with the sales price.\n",
    "\n",
    "3. **Coefficients (coef) and P-values (P>|t|)**: Each coefficient represents the change in the dependent variable for a one-unit change in the corresponding independent variable, while holding other variables constant. And the p-values associated with them test the null hypothesis that the varibale has a statistically significant impact on the dependent variable. Unless specified, all p-values confirmed the statistically significant impact of each feature on price. \n",
    "\n",
    "   - \"bathrooms\": adding one bathroom to the house is associated with an increase of \\$116,200 on the sale price \n",
    "   - \"sqft_living\": an increase of one square foot in living area is associated with an increase of \\$303.26 on the sale price \n",
    "   - \"sqft_lot\":an increase of one square foot in lot area is associated with an increase of \\$0.0019 on the sale price. Not only this value is very low, but the p-value is greater than 0.05 which indicates this feature does not have a significant impact on the price. For better results, this feature should be dropped.    \n",
    "   - \"floors\": adding one floor to a house is associated with an increase of \\$33,9000 on the sale price \n",
    "   - \"sqft_above\": an increase of one square foot in the above area is associated with an increase of \\$202.70 on the sale price \n",
    "   - \"sqft_basement\": an increase of one square foot in the basement area is associated with an increase of \\$101.19 on the sale price \n",
    "   - \"sqft_patio\": an increase of one square foot in the patio is associated with an increase of \\$159.91 on the sale price \n",
    "\n",
    "\n",
    "- \"bedrooms\", sqft_garage and \"yr_built\" return negative coefficients which would indicate that increase the number of bedrooms, square feet for a garage and the higher the year built would negatively impact the sales price. \n",
    "\n",
    "\n",
    "<u> Limits </u>\n",
    "\n",
    "1. **Jarque-Bera, Skew, Kurtosis**: These statistics provide insights into the distribution of residuals and the model's fit. A high Jarque-Bera value (105797.34) associated with a low p-value (0) indicates that the residuals are not normally distributed. The skewness value (1.68) confirms the distribution is highly skewed and a high Kurtosis (11.58) validates there are heavy tails. This questions the model assumptions that the distribution is not normally distributed. \n",
    "\n",
    "2. **Durbin-Watson**: The Durbin-Watson statistic of 1.93, being close to 2, indicates a low risk of positive autocorrelation among the residuals, but suggests there might be some.\n",
    "\n",
    "3. **Cond. No.**: The high condition number (5,280,000) suggests that there may be multicollinearity among the independent variables.\n",
    "\n",
    "In summary, this regression analysis indicates that the model has some explanatory power. The features having the most impact on sales price are bathrooms, sqft_living, floors, sqft_above, sqft_garage and sqft_patio. \n",
    "On the other hand, an increase in bedrooms sqft_garage and yr_built seem to lower the sale price. A deeper analysis by house type should be conducted for further understanding. \n",
    "\n",
    "On the other hand, sqft_lot does not have a statistically significant impact on price. This feature will be dropped on the next model evaluation to improve it.  \n",
    "\n",
    "In addition, there may be issues with the main assumptions of a multilinear regression regarding its distribution and multicollinearity of certain independent variables."
   ]
  },
  {
   "cell_type": "markdown",
   "id": "912ad480",
   "metadata": {},
   "source": [
    "### 9. d- Calculating and interpreting model's mean absolute error"
   ]
  },
  {
   "cell_type": "code",
   "execution_count": 53,
   "id": "35aef64a",
   "metadata": {},
   "outputs": [
    {
     "data": {
      "text/plain": [
       "(396271.4457372302, 355653.4317614562, 340763.44152917946)"
      ]
     },
     "execution_count": 53,
     "metadata": {},
     "output_type": "execute_result"
    }
   ],
   "source": [
    "numeric_mae = mean_absolute_error(house_target, numeric_results.predict(predictors))\n",
    "baseline_mae, iterated_mae, numeric_mae"
   ]
  },
  {
   "cell_type": "code",
   "execution_count": 54,
   "id": "1e10b3f6",
   "metadata": {},
   "outputs": [
    {
     "data": {
      "text/plain": [
       "(0.37039218894923187, 0.4288815982113814, 0.46381145072171526)"
      ]
     },
     "execution_count": 54,
     "metadata": {},
     "output_type": "execute_result"
    }
   ],
   "source": [
    "baseline_results.rsquared_adj, iterated_results.rsquared_adj, numeric_results.rsquared_adj"
   ]
  },
  {
   "cell_type": "markdown",
   "id": "8c883520",
   "metadata": {},
   "source": [
    "## 10. Multiple Linear Regression - New Model - Numeric Features"
   ]
  },
  {
   "cell_type": "markdown",
   "id": "e6805d07",
   "metadata": {},
   "source": [
    "### 10. a- Setting up variables for regression"
   ]
  },
  {
   "cell_type": "markdown",
   "id": "b5ef8b1e",
   "metadata": {},
   "source": [
    "\"sqft_lot\" returned a low coefficient with a high p-value, suggesting this feature does not have a significant impact on the house's sales price. \n",
    "It is being dropped to improve the model.\n",
    "\n",
    "The target remains price, so does not need to be defined again. "
   ]
  },
  {
   "cell_type": "code",
   "execution_count": 55,
   "id": "59e24bd2",
   "metadata": {},
   "outputs": [],
   "source": [
    "# Storing feature to drop in the variable \"to_drop\" \n",
    "to_drop = [\"sqft_lot\"]\n",
    "\n",
    "# Dropping them from the predictors\n",
    "new_house_preds = house_preds.drop(to_drop, axis=1)"
   ]
  },
  {
   "cell_type": "code",
   "execution_count": 56,
   "id": "3b072b0d",
   "metadata": {},
   "outputs": [
    {
     "data": {
      "text/html": [
       "<div>\n",
       "<style scoped>\n",
       "    .dataframe tbody tr th:only-of-type {\n",
       "        vertical-align: middle;\n",
       "    }\n",
       "\n",
       "    .dataframe tbody tr th {\n",
       "        vertical-align: top;\n",
       "    }\n",
       "\n",
       "    .dataframe thead th {\n",
       "        text-align: right;\n",
       "    }\n",
       "</style>\n",
       "<table border=\"1\" class=\"dataframe\">\n",
       "  <thead>\n",
       "    <tr style=\"text-align: right;\">\n",
       "      <th></th>\n",
       "      <th>bedrooms</th>\n",
       "      <th>bathrooms</th>\n",
       "      <th>sqft_living</th>\n",
       "      <th>floors</th>\n",
       "      <th>sqft_above</th>\n",
       "      <th>sqft_basement</th>\n",
       "      <th>sqft_garage</th>\n",
       "      <th>sqft_patio</th>\n",
       "      <th>yr_built</th>\n",
       "    </tr>\n",
       "  </thead>\n",
       "  <tbody>\n",
       "    <tr>\n",
       "      <th>0</th>\n",
       "      <td>4</td>\n",
       "      <td>1.0</td>\n",
       "      <td>1180</td>\n",
       "      <td>1.0</td>\n",
       "      <td>1180</td>\n",
       "      <td>0</td>\n",
       "      <td>0</td>\n",
       "      <td>40</td>\n",
       "      <td>1969</td>\n",
       "    </tr>\n",
       "    <tr>\n",
       "      <th>1</th>\n",
       "      <td>5</td>\n",
       "      <td>2.5</td>\n",
       "      <td>2770</td>\n",
       "      <td>1.0</td>\n",
       "      <td>1570</td>\n",
       "      <td>1570</td>\n",
       "      <td>0</td>\n",
       "      <td>240</td>\n",
       "      <td>1950</td>\n",
       "    </tr>\n",
       "    <tr>\n",
       "      <th>2</th>\n",
       "      <td>6</td>\n",
       "      <td>2.0</td>\n",
       "      <td>2880</td>\n",
       "      <td>1.0</td>\n",
       "      <td>1580</td>\n",
       "      <td>1580</td>\n",
       "      <td>0</td>\n",
       "      <td>0</td>\n",
       "      <td>1956</td>\n",
       "    </tr>\n",
       "    <tr>\n",
       "      <th>3</th>\n",
       "      <td>3</td>\n",
       "      <td>3.0</td>\n",
       "      <td>2160</td>\n",
       "      <td>2.0</td>\n",
       "      <td>1090</td>\n",
       "      <td>1070</td>\n",
       "      <td>200</td>\n",
       "      <td>270</td>\n",
       "      <td>2010</td>\n",
       "    </tr>\n",
       "    <tr>\n",
       "      <th>4</th>\n",
       "      <td>2</td>\n",
       "      <td>2.0</td>\n",
       "      <td>1120</td>\n",
       "      <td>2.0</td>\n",
       "      <td>1120</td>\n",
       "      <td>550</td>\n",
       "      <td>550</td>\n",
       "      <td>30</td>\n",
       "      <td>2012</td>\n",
       "    </tr>\n",
       "  </tbody>\n",
       "</table>\n",
       "</div>"
      ],
      "text/plain": [
       "   bedrooms  bathrooms  sqft_living  floors  sqft_above  sqft_basement  \\\n",
       "0         4        1.0         1180     1.0        1180              0   \n",
       "1         5        2.5         2770     1.0        1570           1570   \n",
       "2         6        2.0         2880     1.0        1580           1580   \n",
       "3         3        3.0         2160     2.0        1090           1070   \n",
       "4         2        2.0         1120     2.0        1120            550   \n",
       "\n",
       "   sqft_garage  sqft_patio  yr_built  \n",
       "0            0          40      1969  \n",
       "1            0         240      1950  \n",
       "2            0           0      1956  \n",
       "3          200         270      2010  \n",
       "4          550          30      2012  "
      ]
     },
     "execution_count": 56,
     "metadata": {},
     "output_type": "execute_result"
    }
   ],
   "source": [
    "# Inspecting the new data\n",
    "new_house_preds.head()"
   ]
  },
  {
   "cell_type": "markdown",
   "id": "2828b2a9",
   "metadata": {},
   "source": [
    "Now building our model. "
   ]
  },
  {
   "cell_type": "markdown",
   "id": "2bb34217",
   "metadata": {},
   "source": [
    "### 10. b- Building the new multiple linear regression model"
   ]
  },
  {
   "cell_type": "code",
   "execution_count": 57,
   "id": "7b3ac589",
   "metadata": {},
   "outputs": [],
   "source": [
    "# Adding the constant predictor \n",
    "new_predictors = sm.add_constant(new_house_preds)"
   ]
  },
  {
   "cell_type": "code",
   "execution_count": 58,
   "id": "a9a82d7e",
   "metadata": {},
   "outputs": [],
   "source": [
    "new_numeric_results = sm.OLS(house_target, new_predictors).fit()"
   ]
  },
  {
   "cell_type": "markdown",
   "id": "4630a3a7",
   "metadata": {},
   "source": [
    "### 10. c- Evaluating and interpreting multiple linear regression model results"
   ]
  },
  {
   "cell_type": "code",
   "execution_count": 59,
   "id": "3194e5a6",
   "metadata": {},
   "outputs": [
    {
     "data": {
      "text/html": [
       "<table class=\"simpletable\">\n",
       "<caption>OLS Regression Results</caption>\n",
       "<tr>\n",
       "  <th>Dep. Variable:</th>          <td>price</td>      <th>  R-squared:         </th>  <td>   0.464</td>  \n",
       "</tr>\n",
       "<tr>\n",
       "  <th>Model:</th>                   <td>OLS</td>       <th>  Adj. R-squared:    </th>  <td>   0.464</td>  \n",
       "</tr>\n",
       "<tr>\n",
       "  <th>Method:</th>             <td>Least Squares</td>  <th>  F-statistic:       </th>  <td>   2866.</td>  \n",
       "</tr>\n",
       "<tr>\n",
       "  <th>Date:</th>             <td>Wed, 30 Aug 2023</td> <th>  Prob (F-statistic):</th>   <td>  0.00</td>   \n",
       "</tr>\n",
       "<tr>\n",
       "  <th>Time:</th>                 <td>12:39:24</td>     <th>  Log-Likelihood:    </th> <td>-4.3344e+05</td>\n",
       "</tr>\n",
       "<tr>\n",
       "  <th>No. Observations:</th>      <td> 29807</td>      <th>  AIC:               </th>  <td>8.669e+05</td> \n",
       "</tr>\n",
       "<tr>\n",
       "  <th>Df Residuals:</th>          <td> 29797</td>      <th>  BIC:               </th>  <td>8.670e+05</td> \n",
       "</tr>\n",
       "<tr>\n",
       "  <th>Df Model:</th>              <td>     9</td>      <th>                     </th>      <td> </td>     \n",
       "</tr>\n",
       "<tr>\n",
       "  <th>Covariance Type:</th>      <td>nonrobust</td>    <th>                     </th>      <td> </td>     \n",
       "</tr>\n",
       "</table>\n",
       "<table class=\"simpletable\">\n",
       "<tr>\n",
       "        <td></td>           <th>coef</th>     <th>std err</th>      <th>t</th>      <th>P>|t|</th>  <th>[0.025</th>    <th>0.975]</th>  \n",
       "</tr>\n",
       "<tr>\n",
       "  <th>const</th>         <td> 6.655e+06</td> <td> 2.51e+05</td> <td>   26.518</td> <td> 0.000</td> <td> 6.16e+06</td> <td> 7.15e+06</td>\n",
       "</tr>\n",
       "<tr>\n",
       "  <th>bedrooms</th>      <td>-1.091e+05</td> <td> 4029.747</td> <td>  -27.069</td> <td> 0.000</td> <td>-1.17e+05</td> <td>-1.01e+05</td>\n",
       "</tr>\n",
       "<tr>\n",
       "  <th>bathrooms</th>     <td> 1.161e+05</td> <td> 5880.475</td> <td>   19.750</td> <td> 0.000</td> <td> 1.05e+05</td> <td> 1.28e+05</td>\n",
       "</tr>\n",
       "<tr>\n",
       "  <th>sqft_living</th>   <td>  303.2714</td> <td>   13.606</td> <td>   22.289</td> <td> 0.000</td> <td>  276.602</td> <td>  329.940</td>\n",
       "</tr>\n",
       "<tr>\n",
       "  <th>floors</th>        <td> 3.898e+04</td> <td> 7101.652</td> <td>    5.489</td> <td> 0.000</td> <td> 2.51e+04</td> <td> 5.29e+04</td>\n",
       "</tr>\n",
       "<tr>\n",
       "  <th>sqft_above</th>    <td>  202.7210</td> <td>   13.884</td> <td>   14.601</td> <td> 0.000</td> <td>  175.508</td> <td>  229.934</td>\n",
       "</tr>\n",
       "<tr>\n",
       "  <th>sqft_basement</th> <td>  101.1858</td> <td>   10.176</td> <td>    9.944</td> <td> 0.000</td> <td>   81.240</td> <td>  121.131</td>\n",
       "</tr>\n",
       "<tr>\n",
       "  <th>sqft_garage</th>   <td>  -51.8570</td> <td>   14.016</td> <td>   -3.700</td> <td> 0.000</td> <td>  -79.330</td> <td>  -24.384</td>\n",
       "</tr>\n",
       "<tr>\n",
       "  <th>sqft_patio</th>    <td>  159.9648</td> <td>   13.184</td> <td>   12.134</td> <td> 0.000</td> <td>  134.124</td> <td>  185.805</td>\n",
       "</tr>\n",
       "<tr>\n",
       "  <th>yr_built</th>      <td>-3343.4899</td> <td>  130.117</td> <td>  -25.696</td> <td> 0.000</td> <td>-3598.524</td> <td>-3088.456</td>\n",
       "</tr>\n",
       "</table>\n",
       "<table class=\"simpletable\">\n",
       "<tr>\n",
       "  <th>Omnibus:</th>       <td>11890.126</td> <th>  Durbin-Watson:     </th>  <td>   1.931</td> \n",
       "</tr>\n",
       "<tr>\n",
       "  <th>Prob(Omnibus):</th>  <td> 0.000</td>   <th>  Jarque-Bera (JB):  </th> <td>105806.429</td>\n",
       "</tr>\n",
       "<tr>\n",
       "  <th>Skew:</th>           <td> 1.679</td>   <th>  Prob(JB):          </th>  <td>    0.00</td> \n",
       "</tr>\n",
       "<tr>\n",
       "  <th>Kurtosis:</th>       <td>11.598</td>   <th>  Cond. No.          </th>  <td>3.13e+05</td> \n",
       "</tr>\n",
       "</table><br/><br/>Notes:<br/>[1] Standard Errors assume that the covariance matrix of the errors is correctly specified.<br/>[2] The condition number is large, 3.13e+05. This might indicate that there are<br/>strong multicollinearity or other numerical problems."
      ],
      "text/plain": [
       "<class 'statsmodels.iolib.summary.Summary'>\n",
       "\"\"\"\n",
       "                            OLS Regression Results                            \n",
       "==============================================================================\n",
       "Dep. Variable:                  price   R-squared:                       0.464\n",
       "Model:                            OLS   Adj. R-squared:                  0.464\n",
       "Method:                 Least Squares   F-statistic:                     2866.\n",
       "Date:                Wed, 30 Aug 2023   Prob (F-statistic):               0.00\n",
       "Time:                        12:39:24   Log-Likelihood:            -4.3344e+05\n",
       "No. Observations:               29807   AIC:                         8.669e+05\n",
       "Df Residuals:                   29797   BIC:                         8.670e+05\n",
       "Df Model:                           9                                         \n",
       "Covariance Type:            nonrobust                                         \n",
       "=================================================================================\n",
       "                    coef    std err          t      P>|t|      [0.025      0.975]\n",
       "---------------------------------------------------------------------------------\n",
       "const          6.655e+06   2.51e+05     26.518      0.000    6.16e+06    7.15e+06\n",
       "bedrooms      -1.091e+05   4029.747    -27.069      0.000   -1.17e+05   -1.01e+05\n",
       "bathrooms      1.161e+05   5880.475     19.750      0.000    1.05e+05    1.28e+05\n",
       "sqft_living     303.2714     13.606     22.289      0.000     276.602     329.940\n",
       "floors         3.898e+04   7101.652      5.489      0.000    2.51e+04    5.29e+04\n",
       "sqft_above      202.7210     13.884     14.601      0.000     175.508     229.934\n",
       "sqft_basement   101.1858     10.176      9.944      0.000      81.240     121.131\n",
       "sqft_garage     -51.8570     14.016     -3.700      0.000     -79.330     -24.384\n",
       "sqft_patio      159.9648     13.184     12.134      0.000     134.124     185.805\n",
       "yr_built      -3343.4899    130.117    -25.696      0.000   -3598.524   -3088.456\n",
       "==============================================================================\n",
       "Omnibus:                    11890.126   Durbin-Watson:                   1.931\n",
       "Prob(Omnibus):                  0.000   Jarque-Bera (JB):           105806.429\n",
       "Skew:                           1.679   Prob(JB):                         0.00\n",
       "Kurtosis:                      11.598   Cond. No.                     3.13e+05\n",
       "==============================================================================\n",
       "\n",
       "Notes:\n",
       "[1] Standard Errors assume that the covariance matrix of the errors is correctly specified.\n",
       "[2] The condition number is large, 3.13e+05. This might indicate that there are\n",
       "strong multicollinearity or other numerical problems.\n",
       "\"\"\""
      ]
     },
     "execution_count": 59,
     "metadata": {},
     "output_type": "execute_result"
    }
   ],
   "source": [
    "new_numeric_results.summary()"
   ]
  },
  {
   "cell_type": "code",
   "execution_count": 60,
   "id": "60a03db9",
   "metadata": {},
   "outputs": [
    {
     "data": {
      "text/plain": [
       "(0.37039218894923187,\n",
       " 0.4275443480727944,\n",
       " 0.4288815982113814,\n",
       " 0.46381145072171526,\n",
       " 0.46382942067496613)"
      ]
     },
     "execution_count": 60,
     "metadata": {},
     "output_type": "execute_result"
    }
   ],
   "source": [
    "# Reading all adjusted r-squared\n",
    "baseline_results.rsquared_adj, new_baseline_results.rsquared_adj, iterated_results.rsquared_adj, numeric_results.rsquared_adj, new_numeric_results.rsquared_adj"
   ]
  },
  {
   "cell_type": "markdown",
   "id": "76aee126",
   "metadata": {},
   "source": [
    "The model's results are very similar to the initial multilinear regression model. A few statistics show improvement of the model: \n",
    "\n",
    "1. **F-statistic and Prob (F-statistic)**: the F-statistic value increased to 2866 from 2579 with a p-value remaining at 0. This indicates that at least one independent variable in the model has an even stronger impact on the price than the previous model. \n",
    "\n",
    "2. **Adjusted R-squared**: the new adjusted r-squared shows a small improvement with a value of 0.46382942067496613 as opposed to 0.46381145072171526. 46.4% of the model's explanatory power is a little stronger than the previous one. \n",
    "    \n",
    "3. **Mean Absolute Error**: the average absolute difference between predicted and actual values decreased on this model as well: \n",
    "\n",
    "4. **Condition no.**: although still high (313,000), this is a considerable improvement compared to the 5,280,000 recorded on the previous model. The risk of multicollinearity among the independent variables is now lower, improving the model's validity.\n",
    "\n",
    "<u>Limits</u> \n",
    "1. **Jarque-Bera, and Kurtosis**: both statistics slightly increased on this new model, suggesting that removing \"sqft_lot\" worsened the distribution of the dataset, which was already not normal. The higher Kurtosis (11.597 vs 11.597) indicates slightly heavier tails. "
   ]
  },
  {
   "cell_type": "markdown",
   "id": "2d28d657",
   "metadata": {},
   "source": [
    "### 10. d- Calculating and interpreting model's mean absolute error"
   ]
  },
  {
   "cell_type": "code",
   "execution_count": 61,
   "id": "d2aa4292",
   "metadata": {},
   "outputs": [
    {
     "data": {
      "text/plain": [
       "1.7969953250873694e-05"
      ]
     },
     "execution_count": 61,
     "metadata": {},
     "output_type": "execute_result"
    }
   ],
   "source": [
    "new_numeric_results.rsquared_adj - numeric_results.rsquared_adj"
   ]
  },
  {
   "cell_type": "code",
   "execution_count": 62,
   "id": "e5309b7b",
   "metadata": {
    "scrolled": false
   },
   "outputs": [
    {
     "data": {
      "text/plain": [
       "(396271.4457372302,\n",
       " 355912.7383624806,\n",
       " 355653.4317614562,\n",
       " 340763.44152917946,\n",
       " 340762.8513420028)"
      ]
     },
     "execution_count": 62,
     "metadata": {},
     "output_type": "execute_result"
    }
   ],
   "source": [
    "new_numeric_mae = mean_absolute_error(house_target, new_numeric_results.predict(new_predictors))\n",
    "baseline_mae, new_baseline_mae, iterated_mae, numeric_mae, new_numeric_mae"
   ]
  },
  {
   "cell_type": "code",
   "execution_count": 63,
   "id": "e4214f15",
   "metadata": {},
   "outputs": [],
   "source": [
    "# Storing adjusted r-squared values from each model into variables\n",
    "baseline_rsq_adj = baseline_results.rsquared_adj\n",
    "new_baseline_rsq_adj = new_baseline_results.rsquared_adj\n",
    "iterated_rsq_adj = iterated_results.rsquared_adj\n",
    "numeric_rsq_adj = numeric_results.rsquared_adj\n",
    "new_numeric_rsq_adj = new_numeric_results.rsquared_adj"
   ]
  },
  {
   "cell_type": "code",
   "execution_count": null,
   "id": "105a9669",
   "metadata": {},
   "outputs": [],
   "source": []
  },
  {
   "cell_type": "markdown",
   "id": "2665b343",
   "metadata": {},
   "source": [
    "## 11. Summary: Visualizing Regression Models Results "
   ]
  },
  {
   "cell_type": "code",
   "execution_count": 64,
   "id": "42cc03d9",
   "metadata": {},
   "outputs": [
    {
     "name": "stdout",
     "output_type": "stream",
     "text": [
      "[37.03921889 42.75443481 42.88815982 46.38114507 46.38294207]\n"
     ]
    }
   ],
   "source": [
    "# transforming list to array to multiply adjusted r-squared values by 100. \n",
    "for_bar_data = [baseline_rsq_adj, new_baseline_rsq_adj, iterated_rsq_adj, numeric_rsq_adj, new_numeric_rsq_adj]\n",
    "bar_data = np.array(for_bar_data)\n",
    "bar_data = bar_data * 100\n",
    "print(bar_data)\n",
    "    "
   ]
  },
  {
   "cell_type": "code",
   "execution_count": 65,
   "id": "fc543996",
   "metadata": {},
   "outputs": [],
   "source": [
    "\n",
    "line_data = [baseline_mae, new_baseline_mae, iterated_mae, numeric_mae, new_numeric_mae]\n",
    "x_values = ['Model 1', 'Model 2', 'Model 3', 'Model 4', 'Model 5']"
   ]
  },
  {
   "cell_type": "code",
   "execution_count": 66,
   "id": "5ceb6f93",
   "metadata": {
    "scrolled": false
   },
   "outputs": [
    {
     "data": {
      "image/png": "[encoded data removed]",
      "text/plain": [
       "<Figure size 1000x600 with 2 Axes>"
      ]
     },
     "metadata": {},
     "output_type": "display_data"
    }
   ],
   "source": [
    "# Create a figure and primary axis\n",
    "sns.set(style=\"white\")\n",
    "fig, ax1 = plt.subplots(figsize=(10, 6))\n",
    "\n",
    "# Bar plot on the primary axis\n",
    "sns.barplot(x=x_values, y=bar_data, ax=ax1, color='b')\n",
    "# Set y-axis label for the bar plot\n",
    "ax1.set_ylabel('Adjusted R-squared', color='b')  \n",
    "# Set y-axis limits for the primary axis\n",
    "ax1.set_ylim(30, max(bar_data) + 2)\n",
    "\n",
    "# Add data labels for each bar\n",
    "for i, value in enumerate(bar_data):\n",
    "    ax1.text(i, value + 0.5, f'{value:.4f}', ha='center', va='bottom', color='b')\n",
    "\n",
    "    \n",
    "ax2 = ax1.twinx()\n",
    "\n",
    "# Line plot on the secondary axis\n",
    "sns.lineplot(x=x_values, y=line_data, ax=ax2, color='black')\n",
    "ax2.set_ylabel('Mean Absolute Error', color='black')\n",
    "\n",
    "# Format y-axis of the secondary axis with thousand separators\n",
    "ax2.yaxis.set_major_formatter(ticker.FuncFormatter(lambda x, pos: '{:,.0f}'.format(x))) \n",
    "\n",
    "# Add data labels for each bar\n",
    "for i, value in enumerate(line_data):\n",
    "    ax2.text(i, value + 0.1, f'{value:,.1f}', ha='center', va='bottom', color='black', backgroundcolor='white')\n",
    "\n",
    "\n",
    "plt.xlabel('Models')\n",
    "plt.title(\"Models' Results Evolution\" )\n",
    "\n",
    "\n",
    "plt.show()"
   ]
  },
  {
   "cell_type": "markdown",
   "id": "dd63d762",
   "metadata": {},
   "source": [
    "## 12. Recommendations "
   ]
  },
  {
   "cell_type": "markdown",
   "id": "a1435463",
   "metadata": {},
   "source": [
    "The last model returned the best results to draw the below conclusions. \n",
    "As a real-estate, to improve your house's sale price:\n",
    "1. Aim for a very good condition<br>\n",
    "    Properties with a \"Very Good\" condition are associated with an increase of \\$135,700 in price\n",
    "<br><br>\n",
    "2. Add one bathroom\n",
    "    If costs and water inlet permit it.<br>\n",
    "    Adding one bathroom to the house is associated with an increase of \\$116,200 on the sale price\n",
    "<br><br>\n",
    "3. Add one floor \n",
    "    If your house has high ceilings. Consider a mezzanine if height is limited <br>\n",
    "    Adding one floor to a house is associated with an increase of \\$33,9000 on the sale price\n",
    "<br><br>\n",
    "4. Focus on the living area\n",
    "    If the above changes are not doable in your house, focus on increasing the living area, by maybe reducing the space of your garage, basement, or patio. <br>\n",
    "    An increase of one square foot in living area is associated with an increase of $303.26 on the sale price"
   ]
  },
  {
   "cell_type": "markdown",
   "id": "924526a6",
   "metadata": {},
   "source": [
    "## 13. Limits and Next Steps\n",
    "\n",
    "<u>Limits</u>\n",
    "* Multicollinearity among the independent variables \n",
    "* Dataset does not have a normal distribution\n",
    "\n",
    "<u>Future Steps</u>\n",
    "* Transform the non-normal distribution to a normal one \n",
    "* Scale the data "
   ]
  },
  {
   "cell_type": "markdown",
   "id": "2b6d9cbd",
   "metadata": {},
   "source": [
    "## ** Appendix ** \n",
    "#### Second simple linear regression after removing outliers using Interquartile Range method"
   ]
  },
  {
   "cell_type": "markdown",
   "id": "7b7371f3",
   "metadata": {},
   "source": [
    "<u>The Interquartile Range method to exclude outliers is used for normal distributions </u>\n",
    "    \n",
    "In order to reach a similar Adjusted R-squared than by removing the 5th percentile, values outside of 8 times the IQR needed to be excluded as opposed to the usual values outside 1.5 times the IQR. This is because the dataset is not normally distributed. As a consequence, this method was not kept. \n"
   ]
  },
  {
   "cell_type": "markdown",
   "id": "f1c72539",
   "metadata": {},
   "source": [
    "#### A. a- Identifying and excluding outliers"
   ]
  },
  {
   "cell_type": "code",
   "execution_count": 67,
   "id": "3434c5a6",
   "metadata": {},
   "outputs": [],
   "source": [
    "# Interquartile range method: 1. Calculating the Interquartile range\n",
    "q1 = kc_house_df[\"price\"].quantile(0.25)\n",
    "q3 = kc_house_df[\"price\"].quantile(0.75)\n",
    "IQR = q3 - q1 "
   ]
  },
  {
   "cell_type": "code",
   "execution_count": 68,
   "id": "2f781908",
   "metadata": {},
   "outputs": [],
   "source": [
    "# 2. Define outlier thresholds. Typically, values outside of 1.5 times the IQR are considered potential outliers \n",
    "lower_bound = q1 - 8 * IQR \n",
    "upper_bound = q3 + 8 * IQR"
   ]
  },
  {
   "cell_type": "code",
   "execution_count": 69,
   "id": "31757afc",
   "metadata": {},
   "outputs": [],
   "source": [
    "# 3. Creating a mask to identify rows with prices that fall outside the defined thresholds \n",
    "outliers_mask = (kc_house_df[\"price\"] < lower_bound) | (kc_house_df[\"price\"] > upper_bound)"
   ]
  },
  {
   "cell_type": "code",
   "execution_count": 70,
   "id": "d85e550d",
   "metadata": {},
   "outputs": [],
   "source": [
    "# 4. Extracting outliers\n",
    "not_outliers = kc_house_df[~outliers_mask]"
   ]
  },
  {
   "cell_type": "markdown",
   "id": "990357e4",
   "metadata": {},
   "source": [
    "####  A. b- Setting Up Variables for Regression (IQR method)"
   ]
  },
  {
   "cell_type": "code",
   "execution_count": 71,
   "id": "7b22549f",
   "metadata": {},
   "outputs": [],
   "source": [
    "y = not_outliers[\"price\"]\n",
    "\n",
    "X_baseline_IQR = not_outliers[[\"sqft_living\"]]"
   ]
  },
  {
   "cell_type": "markdown",
   "id": "95f512d2",
   "metadata": {},
   "source": [
    "####  A. c- Creating and Fitting Simple Linear Regression (IQR method)"
   ]
  },
  {
   "cell_type": "code",
   "execution_count": 72,
   "id": "d4fd019d",
   "metadata": {},
   "outputs": [],
   "source": [
    "baseline_model_IQR = sm.OLS(y, sm.add_constant(X_baseline_IQR))\n",
    "baseline_results_IQR = baseline_model_IQR.fit()"
   ]
  },
  {
   "cell_type": "markdown",
   "id": "eab861e6",
   "metadata": {},
   "source": [
    "####  A. d- Baseline Model Results (IQR method)"
   ]
  },
  {
   "cell_type": "code",
   "execution_count": 73,
   "id": "0095d36e",
   "metadata": {
    "scrolled": false
   },
   "outputs": [
    {
     "data": {
      "text/html": [
       "<table class=\"simpletable\">\n",
       "<caption>OLS Regression Results</caption>\n",
       "<tr>\n",
       "  <th>Dep. Variable:</th>          <td>price</td>      <th>  R-squared:         </th>  <td>   0.428</td>  \n",
       "</tr>\n",
       "<tr>\n",
       "  <th>Model:</th>                   <td>OLS</td>       <th>  Adj. R-squared:    </th>  <td>   0.428</td>  \n",
       "</tr>\n",
       "<tr>\n",
       "  <th>Method:</th>             <td>Least Squares</td>  <th>  F-statistic:       </th>  <td>2.226e+04</td> \n",
       "</tr>\n",
       "<tr>\n",
       "  <th>Date:</th>             <td>Wed, 30 Aug 2023</td> <th>  Prob (F-statistic):</th>   <td>  0.00</td>   \n",
       "</tr>\n",
       "<tr>\n",
       "  <th>Time:</th>                 <td>12:39:25</td>     <th>  Log-Likelihood:    </th> <td>-4.3442e+05</td>\n",
       "</tr>\n",
       "<tr>\n",
       "  <th>No. Observations:</th>      <td> 29807</td>      <th>  AIC:               </th>  <td>8.689e+05</td> \n",
       "</tr>\n",
       "<tr>\n",
       "  <th>Df Residuals:</th>          <td> 29805</td>      <th>  BIC:               </th>  <td>8.689e+05</td> \n",
       "</tr>\n",
       "<tr>\n",
       "  <th>Df Model:</th>              <td>     1</td>      <th>                     </th>      <td> </td>     \n",
       "</tr>\n",
       "<tr>\n",
       "  <th>Covariance Type:</th>      <td>nonrobust</td>    <th>                     </th>      <td> </td>     \n",
       "</tr>\n",
       "</table>\n",
       "<table class=\"simpletable\">\n",
       "<tr>\n",
       "       <td></td>          <th>coef</th>     <th>std err</th>      <th>t</th>      <th>P>|t|</th>  <th>[0.025</th>    <th>0.975]</th>  \n",
       "</tr>\n",
       "<tr>\n",
       "  <th>const</th>       <td> 7.733e+04</td> <td> 7337.847</td> <td>   10.539</td> <td> 0.000</td> <td> 6.29e+04</td> <td> 9.17e+04</td>\n",
       "</tr>\n",
       "<tr>\n",
       "  <th>sqft_living</th> <td>  475.9234</td> <td>    3.190</td> <td>  149.204</td> <td> 0.000</td> <td>  469.671</td> <td>  482.175</td>\n",
       "</tr>\n",
       "</table>\n",
       "<table class=\"simpletable\">\n",
       "<tr>\n",
       "  <th>Omnibus:</th>       <td>12050.548</td> <th>  Durbin-Watson:     </th> <td>   1.937</td> \n",
       "</tr>\n",
       "<tr>\n",
       "  <th>Prob(Omnibus):</th>  <td> 0.000</td>   <th>  Jarque-Bera (JB):  </th> <td>98988.100</td>\n",
       "</tr>\n",
       "<tr>\n",
       "  <th>Skew:</th>           <td> 1.734</td>   <th>  Prob(JB):          </th> <td>    0.00</td> \n",
       "</tr>\n",
       "<tr>\n",
       "  <th>Kurtosis:</th>       <td>11.227</td>   <th>  Cond. No.          </th> <td>5.64e+03</td> \n",
       "</tr>\n",
       "</table><br/><br/>Notes:<br/>[1] Standard Errors assume that the covariance matrix of the errors is correctly specified.<br/>[2] The condition number is large, 5.64e+03. This might indicate that there are<br/>strong multicollinearity or other numerical problems."
      ],
      "text/plain": [
       "<class 'statsmodels.iolib.summary.Summary'>\n",
       "\"\"\"\n",
       "                            OLS Regression Results                            \n",
       "==============================================================================\n",
       "Dep. Variable:                  price   R-squared:                       0.428\n",
       "Model:                            OLS   Adj. R-squared:                  0.428\n",
       "Method:                 Least Squares   F-statistic:                 2.226e+04\n",
       "Date:                Wed, 30 Aug 2023   Prob (F-statistic):               0.00\n",
       "Time:                        12:39:25   Log-Likelihood:            -4.3442e+05\n",
       "No. Observations:               29807   AIC:                         8.689e+05\n",
       "Df Residuals:                   29805   BIC:                         8.689e+05\n",
       "Df Model:                           1                                         \n",
       "Covariance Type:            nonrobust                                         \n",
       "===============================================================================\n",
       "                  coef    std err          t      P>|t|      [0.025      0.975]\n",
       "-------------------------------------------------------------------------------\n",
       "const        7.733e+04   7337.847     10.539      0.000    6.29e+04    9.17e+04\n",
       "sqft_living   475.9234      3.190    149.204      0.000     469.671     482.175\n",
       "==============================================================================\n",
       "Omnibus:                    12050.548   Durbin-Watson:                   1.937\n",
       "Prob(Omnibus):                  0.000   Jarque-Bera (JB):            98988.100\n",
       "Skew:                           1.734   Prob(JB):                         0.00\n",
       "Kurtosis:                      11.227   Cond. No.                     5.64e+03\n",
       "==============================================================================\n",
       "\n",
       "Notes:\n",
       "[1] Standard Errors assume that the covariance matrix of the errors is correctly specified.\n",
       "[2] The condition number is large, 5.64e+03. This might indicate that there are\n",
       "strong multicollinearity or other numerical problems.\n",
       "\"\"\""
      ]
     },
     "execution_count": 73,
     "metadata": {},
     "output_type": "execute_result"
    }
   ],
   "source": [
    "baseline_results_IQR.summary()"
   ]
  }
 ],
 "metadata": {
  "kernelspec": {
   "display_name": "Python 3 (ipykernel)",
   "language": "python",
   "name": "python3"
  },
  "language_info": {
   "codemirror_mode": {
    "name": "ipython",
    "version": 3
   },
   "file_extension": ".py",
   "mimetype": "text/x-python",
   "name": "python",
   "nbconvert_exporter": "python",
   "pygments_lexer": "ipython3",
   "version": "3.9.13"
  }
 },
 "nbformat": 4,
 "nbformat_minor": 5
}
