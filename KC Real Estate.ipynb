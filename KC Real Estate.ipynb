{
 "cells": [
  {
   "cell_type": "markdown",
   "id": "cb592fa1",
   "metadata": {},
   "source": [
    "# King County Real Estate"
   ]
  },
  {
   "cell_type": "markdown",
   "id": "249ad9e0",
   "metadata": {},
   "source": [
    "## Overview"
   ]
  },
  {
   "cell_type": "markdown",
   "id": "9f3572d0",
   "metadata": {},
   "source": [
    "This notebook examines King County, WA dataset of houses and reviews how and what renovations add value to a house. "
   ]
  },
  {
   "cell_type": "markdown",
   "id": "8dfc069d",
   "metadata": {},
   "source": [
    "## Business Problem"
   ]
  },
  {
   "cell_type": "markdown",
   "id": "e31b931b",
   "metadata": {},
   "source": [
    "The goal is to provide advice to homeowners about how home renovations might increase the estimated value of their homes, and by what amount"
   ]
  },
  {
   "cell_type": "markdown",
   "id": "2b55e375",
   "metadata": {},
   "source": [
    "## Data Understanding"
   ]
  },
  {
   "cell_type": "code",
   "execution_count": null,
   "id": "85ae8385",
   "metadata": {},
   "outputs": [],
   "source": []
  },
  {
   "cell_type": "markdown",
   "id": "2d7f2799",
   "metadata": {},
   "source": [
    "### 1. Load the data using pandas"
   ]
  },
  {
   "cell_type": "code",
   "execution_count": 1,
   "id": "44431935",
   "metadata": {},
   "outputs": [],
   "source": [
    "import pandas as pd\n",
    "import numpy as np\n",
    "import matplotlib.pyplot as plt \n",
    "import seaborn as sns\n",
    "import sqlite3\n",
    "import warnings\n",
    "import statsmodels.api as sm\n",
    "from sklearn.metrics import mean_absolute_error\n",
    "\n",
    "%matplotlib inline"
   ]
  },
  {
   "cell_type": "code",
   "execution_count": 2,
   "id": "3753894b",
   "metadata": {},
   "outputs": [],
   "source": [
    "kc_house_df = pd.read_csv(\"data/kc_house_data.csv\")"
   ]
  },
  {
   "cell_type": "markdown",
   "id": "05569287",
   "metadata": {},
   "source": [
    "### 2. Data Cleaning"
   ]
  },
  {
   "cell_type": "code",
   "execution_count": 4,
   "id": "43c28bb5",
   "metadata": {},
   "outputs": [],
   "source": [
    "# Dropping null values\n",
    "kc_house_df.dropna(inplace=True)"
   ]
  },
  {
   "cell_type": "code",
   "execution_count": 5,
   "id": "43c79af8",
   "metadata": {},
   "outputs": [
    {
     "name": "stdout",
     "output_type": "stream",
     "text": [
      "<class 'pandas.core.frame.DataFrame'>\n",
      "Int64Index: 30111 entries, 0 to 30154\n",
      "Data columns (total 25 columns):\n",
      " #   Column         Non-Null Count  Dtype  \n",
      "---  ------         --------------  -----  \n",
      " 0   id             30111 non-null  int64  \n",
      " 1   date           30111 non-null  object \n",
      " 2   price          30111 non-null  float64\n",
      " 3   bedrooms       30111 non-null  int64  \n",
      " 4   bathrooms      30111 non-null  float64\n",
      " 5   sqft_living    30111 non-null  int64  \n",
      " 6   sqft_lot       30111 non-null  int64  \n",
      " 7   floors         30111 non-null  float64\n",
      " 8   waterfront     30111 non-null  object \n",
      " 9   greenbelt      30111 non-null  object \n",
      " 10  nuisance       30111 non-null  object \n",
      " 11  view           30111 non-null  object \n",
      " 12  condition      30111 non-null  object \n",
      " 13  grade          30111 non-null  object \n",
      " 14  heat_source    30111 non-null  object \n",
      " 15  sewer_system   30111 non-null  object \n",
      " 16  sqft_above     30111 non-null  int64  \n",
      " 17  sqft_basement  30111 non-null  int64  \n",
      " 18  sqft_garage    30111 non-null  int64  \n",
      " 19  sqft_patio     30111 non-null  int64  \n",
      " 20  yr_built       30111 non-null  int64  \n",
      " 21  yr_renovated   30111 non-null  int64  \n",
      " 22  address        30111 non-null  object \n",
      " 23  lat            30111 non-null  float64\n",
      " 24  long           30111 non-null  float64\n",
      "dtypes: float64(5), int64(10), object(10)\n",
      "memory usage: 6.0+ MB\n"
     ]
    }
   ],
   "source": [
    "kc_house_df.info()"
   ]
  },
  {
   "cell_type": "code",
   "execution_count": 6,
   "id": "9988a5c6",
   "metadata": {},
   "outputs": [
    {
     "data": {
      "text/html": [
       "<div>\n",
       "<style scoped>\n",
       "    .dataframe tbody tr th:only-of-type {\n",
       "        vertical-align: middle;\n",
       "    }\n",
       "\n",
       "    .dataframe tbody tr th {\n",
       "        vertical-align: top;\n",
       "    }\n",
       "\n",
       "    .dataframe thead th {\n",
       "        text-align: right;\n",
       "    }\n",
       "</style>\n",
       "<table border=\"1\" class=\"dataframe\">\n",
       "  <thead>\n",
       "    <tr style=\"text-align: right;\">\n",
       "      <th></th>\n",
       "      <th>id</th>\n",
       "      <th>price</th>\n",
       "      <th>bedrooms</th>\n",
       "      <th>bathrooms</th>\n",
       "      <th>sqft_living</th>\n",
       "      <th>sqft_lot</th>\n",
       "      <th>floors</th>\n",
       "      <th>sqft_above</th>\n",
       "      <th>sqft_basement</th>\n",
       "      <th>sqft_garage</th>\n",
       "      <th>sqft_patio</th>\n",
       "      <th>yr_built</th>\n",
       "      <th>yr_renovated</th>\n",
       "      <th>lat</th>\n",
       "      <th>long</th>\n",
       "    </tr>\n",
       "  </thead>\n",
       "  <tbody>\n",
       "    <tr>\n",
       "      <th>count</th>\n",
       "      <td>3.011100e+04</td>\n",
       "      <td>3.011100e+04</td>\n",
       "      <td>30111.000000</td>\n",
       "      <td>30111.000000</td>\n",
       "      <td>30111.000000</td>\n",
       "      <td>3.011100e+04</td>\n",
       "      <td>30111.000000</td>\n",
       "      <td>30111.000000</td>\n",
       "      <td>30111.000000</td>\n",
       "      <td>30111.000000</td>\n",
       "      <td>30111.000000</td>\n",
       "      <td>30111.000000</td>\n",
       "      <td>30111.000000</td>\n",
       "      <td>30111.000000</td>\n",
       "      <td>30111.000000</td>\n",
       "    </tr>\n",
       "    <tr>\n",
       "      <th>mean</th>\n",
       "      <td>4.539171e+09</td>\n",
       "      <td>1.108971e+06</td>\n",
       "      <td>3.415197</td>\n",
       "      <td>2.335708</td>\n",
       "      <td>2113.342798</td>\n",
       "      <td>1.664880e+04</td>\n",
       "      <td>1.543506</td>\n",
       "      <td>1810.389658</td>\n",
       "      <td>476.617117</td>\n",
       "      <td>330.475308</td>\n",
       "      <td>217.451264</td>\n",
       "      <td>1975.162299</td>\n",
       "      <td>90.792767</td>\n",
       "      <td>47.328482</td>\n",
       "      <td>-121.318872</td>\n",
       "    </tr>\n",
       "    <tr>\n",
       "      <th>std</th>\n",
       "      <td>2.882236e+09</td>\n",
       "      <td>8.965158e+05</td>\n",
       "      <td>0.979755</td>\n",
       "      <td>0.888293</td>\n",
       "      <td>973.453260</td>\n",
       "      <td>5.993303e+04</td>\n",
       "      <td>0.567789</td>\n",
       "      <td>877.726339</td>\n",
       "      <td>579.805355</td>\n",
       "      <td>285.725020</td>\n",
       "      <td>245.301991</td>\n",
       "      <td>32.052930</td>\n",
       "      <td>416.197627</td>\n",
       "      <td>1.433309</td>\n",
       "      <td>5.724073</td>\n",
       "    </tr>\n",
       "    <tr>\n",
       "      <th>min</th>\n",
       "      <td>1.000055e+06</td>\n",
       "      <td>2.736000e+04</td>\n",
       "      <td>0.000000</td>\n",
       "      <td>0.000000</td>\n",
       "      <td>3.000000</td>\n",
       "      <td>4.020000e+02</td>\n",
       "      <td>1.000000</td>\n",
       "      <td>2.000000</td>\n",
       "      <td>0.000000</td>\n",
       "      <td>0.000000</td>\n",
       "      <td>0.000000</td>\n",
       "      <td>1900.000000</td>\n",
       "      <td>0.000000</td>\n",
       "      <td>21.274240</td>\n",
       "      <td>-157.791480</td>\n",
       "    </tr>\n",
       "    <tr>\n",
       "      <th>25%</th>\n",
       "      <td>2.070850e+09</td>\n",
       "      <td>6.492360e+05</td>\n",
       "      <td>3.000000</td>\n",
       "      <td>2.000000</td>\n",
       "      <td>1420.000000</td>\n",
       "      <td>4.850000e+03</td>\n",
       "      <td>1.000000</td>\n",
       "      <td>1180.000000</td>\n",
       "      <td>0.000000</td>\n",
       "      <td>0.000000</td>\n",
       "      <td>40.000000</td>\n",
       "      <td>1953.000000</td>\n",
       "      <td>0.000000</td>\n",
       "      <td>47.405348</td>\n",
       "      <td>-122.326075</td>\n",
       "    </tr>\n",
       "    <tr>\n",
       "      <th>50%</th>\n",
       "      <td>3.876000e+09</td>\n",
       "      <td>8.600000e+05</td>\n",
       "      <td>3.000000</td>\n",
       "      <td>2.500000</td>\n",
       "      <td>1920.000000</td>\n",
       "      <td>7.477000e+03</td>\n",
       "      <td>1.500000</td>\n",
       "      <td>1560.000000</td>\n",
       "      <td>0.000000</td>\n",
       "      <td>400.000000</td>\n",
       "      <td>150.000000</td>\n",
       "      <td>1977.000000</td>\n",
       "      <td>0.000000</td>\n",
       "      <td>47.551440</td>\n",
       "      <td>-122.225790</td>\n",
       "    </tr>\n",
       "    <tr>\n",
       "      <th>75%</th>\n",
       "      <td>7.287100e+09</td>\n",
       "      <td>1.300000e+06</td>\n",
       "      <td>4.000000</td>\n",
       "      <td>3.000000</td>\n",
       "      <td>2620.000000</td>\n",
       "      <td>1.056800e+04</td>\n",
       "      <td>2.000000</td>\n",
       "      <td>2270.000000</td>\n",
       "      <td>940.000000</td>\n",
       "      <td>510.000000</td>\n",
       "      <td>320.000000</td>\n",
       "      <td>2003.000000</td>\n",
       "      <td>0.000000</td>\n",
       "      <td>47.669917</td>\n",
       "      <td>-122.116394</td>\n",
       "    </tr>\n",
       "    <tr>\n",
       "      <th>max</th>\n",
       "      <td>9.904000e+09</td>\n",
       "      <td>3.075000e+07</td>\n",
       "      <td>13.000000</td>\n",
       "      <td>10.500000</td>\n",
       "      <td>15360.000000</td>\n",
       "      <td>3.253932e+06</td>\n",
       "      <td>4.000000</td>\n",
       "      <td>12660.000000</td>\n",
       "      <td>8020.000000</td>\n",
       "      <td>3580.000000</td>\n",
       "      <td>4370.000000</td>\n",
       "      <td>2022.000000</td>\n",
       "      <td>2022.000000</td>\n",
       "      <td>64.824070</td>\n",
       "      <td>-70.074340</td>\n",
       "    </tr>\n",
       "  </tbody>\n",
       "</table>\n",
       "</div>"
      ],
      "text/plain": [
       "                 id         price      bedrooms     bathrooms   sqft_living  \\\n",
       "count  3.011100e+04  3.011100e+04  30111.000000  30111.000000  30111.000000   \n",
       "mean   4.539171e+09  1.108971e+06      3.415197      2.335708   2113.342798   \n",
       "std    2.882236e+09  8.965158e+05      0.979755      0.888293    973.453260   \n",
       "min    1.000055e+06  2.736000e+04      0.000000      0.000000      3.000000   \n",
       "25%    2.070850e+09  6.492360e+05      3.000000      2.000000   1420.000000   \n",
       "50%    3.876000e+09  8.600000e+05      3.000000      2.500000   1920.000000   \n",
       "75%    7.287100e+09  1.300000e+06      4.000000      3.000000   2620.000000   \n",
       "max    9.904000e+09  3.075000e+07     13.000000     10.500000  15360.000000   \n",
       "\n",
       "           sqft_lot        floors    sqft_above  sqft_basement   sqft_garage  \\\n",
       "count  3.011100e+04  30111.000000  30111.000000   30111.000000  30111.000000   \n",
       "mean   1.664880e+04      1.543506   1810.389658     476.617117    330.475308   \n",
       "std    5.993303e+04      0.567789    877.726339     579.805355    285.725020   \n",
       "min    4.020000e+02      1.000000      2.000000       0.000000      0.000000   \n",
       "25%    4.850000e+03      1.000000   1180.000000       0.000000      0.000000   \n",
       "50%    7.477000e+03      1.500000   1560.000000       0.000000    400.000000   \n",
       "75%    1.056800e+04      2.000000   2270.000000     940.000000    510.000000   \n",
       "max    3.253932e+06      4.000000  12660.000000    8020.000000   3580.000000   \n",
       "\n",
       "         sqft_patio      yr_built  yr_renovated           lat          long  \n",
       "count  30111.000000  30111.000000  30111.000000  30111.000000  30111.000000  \n",
       "mean     217.451264   1975.162299     90.792767     47.328482   -121.318872  \n",
       "std      245.301991     32.052930    416.197627      1.433309      5.724073  \n",
       "min        0.000000   1900.000000      0.000000     21.274240   -157.791480  \n",
       "25%       40.000000   1953.000000      0.000000     47.405348   -122.326075  \n",
       "50%      150.000000   1977.000000      0.000000     47.551440   -122.225790  \n",
       "75%      320.000000   2003.000000      0.000000     47.669917   -122.116394  \n",
       "max     4370.000000   2022.000000   2022.000000     64.824070    -70.074340  "
      ]
     },
     "execution_count": 6,
     "metadata": {},
     "output_type": "execute_result"
    }
   ],
   "source": [
    "kc_house_df.describe()"
   ]
  },
  {
   "cell_type": "markdown",
   "id": "ed663ce2",
   "metadata": {},
   "source": [
    "The dataset has:\n",
    "- 25 columns: 10 integers, 5 float, 10 objects.\n",
    "- 30155 rows. 'heat_source' is the field with the highest amount of null-values: 32. Dropping them allows to keep 99.9% of the data, they were dropped without deteriorating. \n",
    "\n"
   ]
  },
  {
   "cell_type": "code",
   "execution_count": 7,
   "id": "64a2f0d4",
   "metadata": {
    "scrolled": true
   },
   "outputs": [
    {
     "data": {
      "text/html": [
       "<div>\n",
       "<style scoped>\n",
       "    .dataframe tbody tr th:only-of-type {\n",
       "        vertical-align: middle;\n",
       "    }\n",
       "\n",
       "    .dataframe tbody tr th {\n",
       "        vertical-align: top;\n",
       "    }\n",
       "\n",
       "    .dataframe thead th {\n",
       "        text-align: right;\n",
       "    }\n",
       "</style>\n",
       "<table border=\"1\" class=\"dataframe\">\n",
       "  <thead>\n",
       "    <tr style=\"text-align: right;\">\n",
       "      <th></th>\n",
       "      <th>id</th>\n",
       "      <th>date</th>\n",
       "      <th>price</th>\n",
       "      <th>bedrooms</th>\n",
       "      <th>bathrooms</th>\n",
       "      <th>sqft_living</th>\n",
       "      <th>sqft_lot</th>\n",
       "      <th>floors</th>\n",
       "      <th>waterfront</th>\n",
       "      <th>greenbelt</th>\n",
       "      <th>...</th>\n",
       "      <th>sewer_system</th>\n",
       "      <th>sqft_above</th>\n",
       "      <th>sqft_basement</th>\n",
       "      <th>sqft_garage</th>\n",
       "      <th>sqft_patio</th>\n",
       "      <th>yr_built</th>\n",
       "      <th>yr_renovated</th>\n",
       "      <th>address</th>\n",
       "      <th>lat</th>\n",
       "      <th>long</th>\n",
       "    </tr>\n",
       "  </thead>\n",
       "  <tbody>\n",
       "    <tr>\n",
       "      <th>0</th>\n",
       "      <td>7399300360</td>\n",
       "      <td>5/24/2022</td>\n",
       "      <td>675000.0</td>\n",
       "      <td>4</td>\n",
       "      <td>1.0</td>\n",
       "      <td>1180</td>\n",
       "      <td>7140</td>\n",
       "      <td>1.0</td>\n",
       "      <td>NO</td>\n",
       "      <td>NO</td>\n",
       "      <td>...</td>\n",
       "      <td>PUBLIC</td>\n",
       "      <td>1180</td>\n",
       "      <td>0</td>\n",
       "      <td>0</td>\n",
       "      <td>40</td>\n",
       "      <td>1969</td>\n",
       "      <td>0</td>\n",
       "      <td>2102 Southeast 21st Court, Renton, Washington ...</td>\n",
       "      <td>47.461975</td>\n",
       "      <td>-122.19052</td>\n",
       "    </tr>\n",
       "    <tr>\n",
       "      <th>1</th>\n",
       "      <td>8910500230</td>\n",
       "      <td>12/13/2021</td>\n",
       "      <td>920000.0</td>\n",
       "      <td>5</td>\n",
       "      <td>2.5</td>\n",
       "      <td>2770</td>\n",
       "      <td>6703</td>\n",
       "      <td>1.0</td>\n",
       "      <td>NO</td>\n",
       "      <td>NO</td>\n",
       "      <td>...</td>\n",
       "      <td>PUBLIC</td>\n",
       "      <td>1570</td>\n",
       "      <td>1570</td>\n",
       "      <td>0</td>\n",
       "      <td>240</td>\n",
       "      <td>1950</td>\n",
       "      <td>0</td>\n",
       "      <td>11231 Greenwood Avenue North, Seattle, Washing...</td>\n",
       "      <td>47.711525</td>\n",
       "      <td>-122.35591</td>\n",
       "    </tr>\n",
       "    <tr>\n",
       "      <th>2</th>\n",
       "      <td>1180000275</td>\n",
       "      <td>9/29/2021</td>\n",
       "      <td>311000.0</td>\n",
       "      <td>6</td>\n",
       "      <td>2.0</td>\n",
       "      <td>2880</td>\n",
       "      <td>6156</td>\n",
       "      <td>1.0</td>\n",
       "      <td>NO</td>\n",
       "      <td>NO</td>\n",
       "      <td>...</td>\n",
       "      <td>PUBLIC</td>\n",
       "      <td>1580</td>\n",
       "      <td>1580</td>\n",
       "      <td>0</td>\n",
       "      <td>0</td>\n",
       "      <td>1956</td>\n",
       "      <td>0</td>\n",
       "      <td>8504 South 113th Street, Seattle, Washington 9...</td>\n",
       "      <td>47.502045</td>\n",
       "      <td>-122.22520</td>\n",
       "    </tr>\n",
       "    <tr>\n",
       "      <th>3</th>\n",
       "      <td>1604601802</td>\n",
       "      <td>12/14/2021</td>\n",
       "      <td>775000.0</td>\n",
       "      <td>3</td>\n",
       "      <td>3.0</td>\n",
       "      <td>2160</td>\n",
       "      <td>1400</td>\n",
       "      <td>2.0</td>\n",
       "      <td>NO</td>\n",
       "      <td>NO</td>\n",
       "      <td>...</td>\n",
       "      <td>PUBLIC</td>\n",
       "      <td>1090</td>\n",
       "      <td>1070</td>\n",
       "      <td>200</td>\n",
       "      <td>270</td>\n",
       "      <td>2010</td>\n",
       "      <td>0</td>\n",
       "      <td>4079 Letitia Avenue South, Seattle, Washington...</td>\n",
       "      <td>47.566110</td>\n",
       "      <td>-122.29020</td>\n",
       "    </tr>\n",
       "    <tr>\n",
       "      <th>4</th>\n",
       "      <td>8562780790</td>\n",
       "      <td>8/24/2021</td>\n",
       "      <td>592500.0</td>\n",
       "      <td>2</td>\n",
       "      <td>2.0</td>\n",
       "      <td>1120</td>\n",
       "      <td>758</td>\n",
       "      <td>2.0</td>\n",
       "      <td>NO</td>\n",
       "      <td>NO</td>\n",
       "      <td>...</td>\n",
       "      <td>PUBLIC</td>\n",
       "      <td>1120</td>\n",
       "      <td>550</td>\n",
       "      <td>550</td>\n",
       "      <td>30</td>\n",
       "      <td>2012</td>\n",
       "      <td>0</td>\n",
       "      <td>2193 Northwest Talus Drive, Issaquah, Washingt...</td>\n",
       "      <td>47.532470</td>\n",
       "      <td>-122.07188</td>\n",
       "    </tr>\n",
       "  </tbody>\n",
       "</table>\n",
       "<p>5 rows × 25 columns</p>\n",
       "</div>"
      ],
      "text/plain": [
       "           id        date     price  bedrooms  bathrooms  sqft_living  \\\n",
       "0  7399300360   5/24/2022  675000.0         4        1.0         1180   \n",
       "1  8910500230  12/13/2021  920000.0         5        2.5         2770   \n",
       "2  1180000275   9/29/2021  311000.0         6        2.0         2880   \n",
       "3  1604601802  12/14/2021  775000.0         3        3.0         2160   \n",
       "4  8562780790   8/24/2021  592500.0         2        2.0         1120   \n",
       "\n",
       "   sqft_lot  floors waterfront greenbelt  ... sewer_system sqft_above  \\\n",
       "0      7140     1.0         NO        NO  ...       PUBLIC       1180   \n",
       "1      6703     1.0         NO        NO  ...       PUBLIC       1570   \n",
       "2      6156     1.0         NO        NO  ...       PUBLIC       1580   \n",
       "3      1400     2.0         NO        NO  ...       PUBLIC       1090   \n",
       "4       758     2.0         NO        NO  ...       PUBLIC       1120   \n",
       "\n",
       "  sqft_basement sqft_garage sqft_patio yr_built  yr_renovated  \\\n",
       "0             0           0         40     1969             0   \n",
       "1          1570           0        240     1950             0   \n",
       "2          1580           0          0     1956             0   \n",
       "3          1070         200        270     2010             0   \n",
       "4           550         550         30     2012             0   \n",
       "\n",
       "                                             address        lat       long  \n",
       "0  2102 Southeast 21st Court, Renton, Washington ...  47.461975 -122.19052  \n",
       "1  11231 Greenwood Avenue North, Seattle, Washing...  47.711525 -122.35591  \n",
       "2  8504 South 113th Street, Seattle, Washington 9...  47.502045 -122.22520  \n",
       "3  4079 Letitia Avenue South, Seattle, Washington...  47.566110 -122.29020  \n",
       "4  2193 Northwest Talus Drive, Issaquah, Washingt...  47.532470 -122.07188  \n",
       "\n",
       "[5 rows x 25 columns]"
      ]
     },
     "execution_count": 7,
     "metadata": {},
     "output_type": "execute_result"
    }
   ],
   "source": [
    "kc_house_df.head()"
   ]
  },
  {
   "cell_type": "code",
   "execution_count": 8,
   "id": "7ad59763",
   "metadata": {},
   "outputs": [],
   "source": [
    "# kc_house_subset = kc_house_data.drop(columns=[\"date\", \"view\", \"sqft_above\", \"sqft_basement\", \"address\", \"lat\", \"long\"])"
   ]
  },
  {
   "cell_type": "code",
   "execution_count": 9,
   "id": "4ee715f8",
   "metadata": {},
   "outputs": [],
   "source": [
    "# kc_house_subset.info()"
   ]
  },
  {
   "cell_type": "markdown",
   "id": "1c35e5b2",
   "metadata": {},
   "source": [
    "The dataset now has 17 columns"
   ]
  },
  {
   "cell_type": "markdown",
   "id": "c4523bce",
   "metadata": {},
   "source": [
    "### 2.(a). Removing unnecessary columns"
   ]
  },
  {
   "cell_type": "markdown",
   "id": "eb42132e",
   "metadata": {},
   "source": [
    "\n",
    "\n",
    "The columns below are removed because they do not provide any value to the analysis to understand what renovations add value to a house.\n",
    "\\\n",
    "Anything pertaining to the house location can be removed: will not have impact on renovations.\n",
    "- lat \n",
    "- long\n",
    "- address \n",
    "- greenbelt\n",
    "- waterfront\n",
    "\n",
    "---------------------\n",
    "To determine\n",
    "- view???\n",
    "---------------------\n",
    "\n",
    "anything pertaining to dataset admin can be removed \n",
    "- id \n",
    "- date (date house was sold) \n",
    "- yr_renovated\n",
    "\n",
    "\n",
    "---------------------\n",
    "to determine later: as recommended: \n",
    "\n",
    "     - sqft_above\n",
    "     - sqft_basement\n",
    "\n",
    "---------------------"
   ]
  },
  {
   "cell_type": "code",
   "execution_count": 44,
   "id": "101bb789",
   "metadata": {},
   "outputs": [],
   "source": [
    "unnecessary_columns = [\"lat\", \"long\", \"address\", \"greenbelt\", \"waterfront\", \"id\", \"date\", \"yr_renovated\"]\n"
   ]
  },
  {
   "cell_type": "code",
   "execution_count": null,
   "id": "b7b03234",
   "metadata": {},
   "outputs": [],
   "source": []
  },
  {
   "cell_type": "code",
   "execution_count": 48,
   "id": "731e68ed",
   "metadata": {},
   "outputs": [],
   "source": [
    "kc_house_df = kc_house_df.drop(columns=kc_house_df[unnecessary_columns])"
   ]
  },
  {
   "cell_type": "code",
   "execution_count": 49,
   "id": "dccbf7ba",
   "metadata": {},
   "outputs": [
    {
     "data": {
      "text/plain": [
       "Index(['price', 'bedrooms', 'bathrooms', 'sqft_living', 'sqft_lot', 'floors',\n",
       "       'nuisance', 'view', 'condition', 'grade', 'heat_source', 'sewer_system',\n",
       "       'sqft_above', 'sqft_basement', 'sqft_garage', 'sqft_patio', 'yr_built'],\n",
       "      dtype='object')"
      ]
     },
     "execution_count": 49,
     "metadata": {},
     "output_type": "execute_result"
    }
   ],
   "source": [
    "kc_house_df.columns"
   ]
  },
  {
   "cell_type": "markdown",
   "id": "f6988462",
   "metadata": {},
   "source": [
    "### ------------------------------------------------------------------"
   ]
  },
  {
   "cell_type": "markdown",
   "id": "d31fc91e",
   "metadata": {},
   "source": [
    "### 1. First simple linear regression. Setting Up Variables for Regression"
   ]
  },
  {
   "cell_type": "markdown",
   "id": "8a240a92",
   "metadata": {},
   "source": [
    "Declaring y and X_baseline variables, where y is a Series containing price data and X_baseline is a DataFrame containing the column with the strongest correlation."
   ]
  },
  {
   "cell_type": "code",
   "execution_count": 11,
   "id": "9fb557d0",
   "metadata": {},
   "outputs": [],
   "source": [
    "y = kc_house_df[\"price\"]\n",
    "\n",
    "X_baseline = kc_house_df[[\"sqft_living\"]]"
   ]
  },
  {
   "cell_type": "markdown",
   "id": "d232dbe7",
   "metadata": {},
   "source": [
    "### 1. First simple linear regression. Creating and Fitting Simple Linear Regression"
   ]
  },
  {
   "cell_type": "code",
   "execution_count": 12,
   "id": "adf1d5ee",
   "metadata": {},
   "outputs": [],
   "source": [
    "baseline_model = sm.OLS(y, sm.add_constant(X_baseline))\n",
    "baseline_results = baseline_model.fit()"
   ]
  },
  {
   "cell_type": "code",
   "execution_count": null,
   "id": "73941100",
   "metadata": {},
   "outputs": [],
   "source": []
  },
  {
   "cell_type": "markdown",
   "id": "ad2ca75a",
   "metadata": {},
   "source": [
    "### 1. First simple linear regression.  Evaluate and Interpret Baseline Model Results"
   ]
  },
  {
   "cell_type": "code",
   "execution_count": 13,
   "id": "63af8fbe",
   "metadata": {
    "scrolled": true
   },
   "outputs": [
    {
     "name": "stdout",
     "output_type": "stream",
     "text": [
      "                            OLS Regression Results                            \n",
      "==============================================================================\n",
      "Dep. Variable:                  price   R-squared:                       0.370\n",
      "Model:                            OLS   Adj. R-squared:                  0.370\n",
      "Method:                 Least Squares   F-statistic:                 1.771e+04\n",
      "Date:                Sun, 23 Jul 2023   Prob (F-statistic):               0.00\n",
      "Time:                        10:36:11   Log-Likelihood:            -4.4847e+05\n",
      "No. Observations:               30111   AIC:                         8.969e+05\n",
      "Df Residuals:                   30109   BIC:                         8.970e+05\n",
      "Df Model:                           1                                         \n",
      "Covariance Type:            nonrobust                                         \n",
      "===============================================================================\n",
      "                  coef    std err          t      P>|t|      [0.025      0.975]\n",
      "-------------------------------------------------------------------------------\n",
      "const       -7.559e+04   9798.815     -7.714      0.000   -9.48e+04   -5.64e+04\n",
      "sqft_living   560.5134      4.211    133.096      0.000     552.259     568.768\n",
      "==============================================================================\n",
      "Omnibus:                    43384.874   Durbin-Watson:                   1.862\n",
      "Prob(Omnibus):                  0.000   Jarque-Bera (JB):         47187801.072\n",
      "Skew:                           8.195   Prob(JB):                         0.00\n",
      "Kurtosis:                     196.242   Cond. No.                     5.56e+03\n",
      "==============================================================================\n",
      "\n",
      "Notes:\n",
      "[1] Standard Errors assume that the covariance matrix of the errors is correctly specified.\n",
      "[2] The condition number is large, 5.56e+03. This might indicate that there are\n",
      "strong multicollinearity or other numerical problems.\n"
     ]
    }
   ],
   "source": [
    "print(baseline_results.summary())"
   ]
  },
  {
   "cell_type": "markdown",
   "id": "3fb92031",
   "metadata": {},
   "source": [
    "### ------------------------------------------------------------------"
   ]
  },
  {
   "cell_type": "code",
   "execution_count": null,
   "id": "ea748ad4",
   "metadata": {},
   "outputs": [],
   "source": []
  },
  {
   "cell_type": "code",
   "execution_count": null,
   "id": "32171bc3",
   "metadata": {},
   "outputs": [],
   "source": []
  },
  {
   "cell_type": "code",
   "execution_count": null,
   "id": "33453937",
   "metadata": {},
   "outputs": [],
   "source": []
  },
  {
   "cell_type": "code",
   "execution_count": null,
   "id": "f7fa1651",
   "metadata": {},
   "outputs": [],
   "source": []
  },
  {
   "cell_type": "markdown",
   "id": "bc1df706",
   "metadata": {},
   "source": [
    "### Check distribution of target variable to identify outliers"
   ]
  },
  {
   "cell_type": "code",
   "execution_count": 14,
   "id": "cc75e27f",
   "metadata": {},
   "outputs": [
    {
     "name": "stdout",
     "output_type": "stream",
     "text": [
      "27360.0\n",
      "30750000.0\n"
     ]
    }
   ],
   "source": [
    "print(kc_house_df[\"price\"].min())\n",
    "print(kc_house_df[\"price\"].max())"
   ]
  },
  {
   "cell_type": "code",
   "execution_count": 15,
   "id": "484a7036",
   "metadata": {
    "scrolled": false
   },
   "outputs": [
    {
     "data": {
      "image/png": "[encoded data removed]",
      "text/plain": [
       "<Figure size 1500x1000 with 1 Axes>"
      ]
     },
     "metadata": {},
     "output_type": "display_data"
    }
   ],
   "source": [
    "fig = plt.figure(figsize=(15, 10))\n",
    "sns.boxplot(x = kc_house_df[\"price\"])\n",
    "plt.title('Distribution of Sale Price in King County')\n",
    "plt.xlabel('Sale Price')\n",
    "plt.show();"
   ]
  },
  {
   "cell_type": "markdown",
   "id": "9aeebc7a",
   "metadata": {},
   "source": [
    "### Calculating outliers from 3 standard deviations from the mean \n",
    "\n",
    "#### version 1"
   ]
  },
  {
   "cell_type": "markdown",
   "id": "176ca524",
   "metadata": {},
   "source": [
    "In a normal distribution, 99.7% of the values are considered within 3 standard deviations from the mean. Anything above or below is considered outliers.\n"
   ]
  },
  {
   "cell_type": "code",
   "execution_count": 16,
   "id": "69225d3c",
   "metadata": {},
   "outputs": [
    {
     "data": {
      "text/plain": [
       "3798518.1419607764"
      ]
     },
     "execution_count": 16,
     "metadata": {},
     "output_type": "execute_result"
    }
   ],
   "source": [
    "upper_limit = kc_house_df[\"price\"].mean() + 3 * kc_house_df[\"price\"].std()\n",
    "upper_limit"
   ]
  },
  {
   "cell_type": "code",
   "execution_count": 17,
   "id": "372fd01f",
   "metadata": {},
   "outputs": [
    {
     "data": {
      "text/plain": [
       "-1580576.8387161149"
      ]
     },
     "execution_count": 17,
     "metadata": {},
     "output_type": "execute_result"
    }
   ],
   "source": [
    "lower_limit = kc_house_df[\"price\"].mean() - 3 * kc_house_df[\"price\"].std()\n",
    "lower_limit"
   ]
  },
  {
   "cell_type": "code",
   "execution_count": 18,
   "id": "54f47479",
   "metadata": {},
   "outputs": [
    {
     "ename": "AssertionError",
     "evalue": "",
     "output_type": "error",
     "traceback": [
      "\u001b[1;31m---------------------------------------------------------------------------\u001b[0m",
      "\u001b[1;31mAssertionError\u001b[0m                            Traceback (most recent call last)",
      "\u001b[1;32m~\\AppData\\Local\\Temp\\ipykernel_12920\\1411742335.py\u001b[0m in \u001b[0;36m<module>\u001b[1;34m\u001b[0m\n\u001b[1;32m----> 1\u001b[1;33m \u001b[1;32massert\u001b[0m \u001b[0mkc_house_df\u001b[0m\u001b[1;33m[\u001b[0m\u001b[1;34m\"price\"\u001b[0m\u001b[1;33m]\u001b[0m\u001b[1;33m.\u001b[0m\u001b[0mmin\u001b[0m\u001b[1;33m(\u001b[0m\u001b[1;33m)\u001b[0m \u001b[1;33m<\u001b[0m \u001b[0mlower_limit\u001b[0m\u001b[1;33m\u001b[0m\u001b[1;33m\u001b[0m\u001b[0m\n\u001b[0m",
      "\u001b[1;31mAssertionError\u001b[0m: "
     ]
    }
   ],
   "source": [
    "assert kc_house_df[\"price\"].min() < lower_limit"
   ]
  },
  {
   "cell_type": "code",
   "execution_count": 19,
   "id": "bd95e486",
   "metadata": {
    "scrolled": true
   },
   "outputs": [],
   "source": [
    "assert kc_house_df[\"price\"].max() > upper_limit"
   ]
  },
  {
   "cell_type": "markdown",
   "id": "f69f9803",
   "metadata": {},
   "source": [
    "### Calculating outliers from 5th percentile or at 0.3 and 99.7 percentiles?  \n",
    "\n",
    "#### version 2"
   ]
  },
  {
   "cell_type": "markdown",
   "id": "557f806d",
   "metadata": {},
   "source": [
    "# ** should it be >= and <= ?"
   ]
  },
  {
   "cell_type": "code",
   "execution_count": 20,
   "id": "1f830d78",
   "metadata": {},
   "outputs": [
    {
     "ename": "SyntaxError",
     "evalue": "invalid syntax (2468221636.py, line 3)",
     "output_type": "error",
     "traceback": [
      "\u001b[1;36m  File \u001b[1;32m\"C:\\Users\\albane.colmenares\\AppData\\Local\\Temp\\ipykernel_12920\\2468221636.py\"\u001b[1;36m, line \u001b[1;32m3\u001b[0m\n\u001b[1;33m    create a lower limit\u001b[0m\n\u001b[1;37m           ^\u001b[0m\n\u001b[1;31mSyntaxError\u001b[0m\u001b[1;31m:\u001b[0m invalid syntax\n"
     ]
    }
   ],
   "source": [
    "def outliers(data):\n",
    "    for col in data:\n",
    "        create a lower limit\n",
    "        create a upper limit\n",
    "        "
   ]
  },
  {
   "cell_type": "code",
   "execution_count": 21,
   "id": "f3b1b960",
   "metadata": {},
   "outputs": [],
   "source": [
    "lower_limit = np.percentile(kc_house_df[\"price\"], 0.3)"
   ]
  },
  {
   "cell_type": "code",
   "execution_count": 22,
   "id": "bcb7eff1",
   "metadata": {},
   "outputs": [],
   "source": [
    "upper_limit = np.percentile(kc_house_df[\"price\"], 99.7)"
   ]
  },
  {
   "cell_type": "code",
   "execution_count": 23,
   "id": "ae3d1d21",
   "metadata": {},
   "outputs": [],
   "source": [
    "assert kc_house_df[\"price\"].min() < lower_limit"
   ]
  },
  {
   "cell_type": "code",
   "execution_count": 24,
   "id": "1b55b17c",
   "metadata": {},
   "outputs": [],
   "source": [
    "assert kc_house_df[\"price\"].max() > upper_limit"
   ]
  },
  {
   "cell_type": "code",
   "execution_count": 25,
   "id": "62a93dd1",
   "metadata": {},
   "outputs": [],
   "source": [
    "kc_house_df = kc_house_df[(kc_house_df[\"price\"] > lower_limit) & (kc_house_df[\"price\"] < upper_limit)]"
   ]
  },
  {
   "cell_type": "code",
   "execution_count": 26,
   "id": "27b58468",
   "metadata": {},
   "outputs": [
    {
     "name": "stdout",
     "output_type": "stream",
     "text": [
      "104186.0\n",
      "6995000.0\n"
     ]
    }
   ],
   "source": [
    "print(kc_house_df[\"price\"].min())\n",
    "print(kc_house_df[\"price\"].max())"
   ]
  },
  {
   "cell_type": "code",
   "execution_count": null,
   "id": "d8b56643",
   "metadata": {},
   "outputs": [],
   "source": []
  },
  {
   "cell_type": "markdown",
   "id": "93973105",
   "metadata": {},
   "source": [
    "### Check distribution of target variable after excluding outliers"
   ]
  },
  {
   "cell_type": "code",
   "execution_count": 27,
   "id": "36dfc41a",
   "metadata": {
    "scrolled": false
   },
   "outputs": [
    {
     "data": {
      "image/png": "[encoded data removed]",
      "text/plain": [
       "<Figure size 1500x1000 with 1 Axes>"
      ]
     },
     "metadata": {},
     "output_type": "display_data"
    }
   ],
   "source": [
    "fig = plt.figure(figsize=(15, 10))\n",
    "sns.boxplot(x = kc_house_df[\"price\"])\n",
    "plt.title('Distribution of Sale Price in King County')\n",
    "plt.xlabel('Sale Price')\n",
    "plt.show();"
   ]
  },
  {
   "cell_type": "code",
   "execution_count": 53,
   "id": "1e6f4acf",
   "metadata": {},
   "outputs": [
    {
     "name": "stderr",
     "output_type": "stream",
     "text": [
      "C:\\Users\\albane.colmenares\\Anaconda3\\lib\\site-packages\\seaborn\\distributions.py:2619: FutureWarning: `distplot` is a deprecated function and will be removed in a future version. Please adapt your code to use either `displot` (a figure-level function with similar flexibility) or `histplot` (an axes-level function for histograms).\n",
      "  warnings.warn(msg, FutureWarning)\n"
     ]
    },
    {
     "data": {
      "image/png": "[encoded data removed]",
      "text/plain": [
       "<Figure size 640x480 with 1 Axes>"
      ]
     },
     "metadata": {},
     "output_type": "display_data"
    }
   ],
   "source": [
    "sns.distplot(kc_house_df[\"price\"])\n",
    "mean_price = kc_house_df[\"price\"].mean()\n",
    "# ax.axvline(x=mean_price, color=\"black\", lw=2.5);"
   ]
  },
  {
   "cell_type": "code",
   "execution_count": null,
   "id": "1d1fa496",
   "metadata": {},
   "outputs": [],
   "source": []
  },
  {
   "cell_type": "markdown",
   "id": "84f0780f",
   "metadata": {},
   "source": [
    "### 3.(a). Data Exploration"
   ]
  },
  {
   "cell_type": "markdown",
   "id": "517a8447",
   "metadata": {},
   "source": [
    "Inspect the value counts for the categorical features"
   ]
  },
  {
   "cell_type": "code",
   "execution_count": 54,
   "id": "1e3de733",
   "metadata": {},
   "outputs": [
    {
     "name": "stdout",
     "output_type": "stream",
     "text": [
      "NO     24736\n",
      "YES     5191\n",
      "Name: nuisance, dtype: int64 \n",
      "\n",
      "NONE         26452\n",
      "AVERAGE       1891\n",
      "GOOD           864\n",
      "EXCELLENT      505\n",
      "FAIR           215\n",
      "Name: view, dtype: int64 \n",
      "\n",
      "Average      18385\n",
      "Good          8017\n",
      "Very Good     3242\n",
      "Fair           224\n",
      "Poor            59\n",
      "Name: condition, dtype: int64 \n",
      "\n",
      "7 Average        11653\n",
      "8 Good            9360\n",
      "9 Better          3794\n",
      "6 Low Average     2827\n",
      "10 Very Good      1357\n",
      "5 Fair             383\n",
      "11 Excellent       382\n",
      "12 Luxury          104\n",
      "4 Low               46\n",
      "13 Mansion          12\n",
      "3 Poor               8\n",
      "2 Substandard        1\n",
      "Name: grade, dtype: int64 \n",
      "\n",
      "Gas                  20459\n",
      "Electricity           6419\n",
      "Oil                   2877\n",
      "Gas/Solar               90\n",
      "Electricity/Solar       59\n",
      "Other                   19\n",
      "Oil/Solar                4\n",
      "Name: heat_source, dtype: int64 \n",
      "\n",
      "PUBLIC                25605\n",
      "PRIVATE                4315\n",
      "PRIVATE RESTRICTED        4\n",
      "PUBLIC RESTRICTED         3\n",
      "Name: sewer_system, dtype: int64 \n",
      "\n"
     ]
    }
   ],
   "source": [
    "categoricals = kc_house_df.select_dtypes(include=[object])\n",
    "\n",
    "for col in categoricals:\n",
    "    print(kc_house_df[col].value_counts(), \"\\n\")"
   ]
  },
  {
   "cell_type": "markdown",
   "id": "4bb4162d",
   "metadata": {},
   "source": [
    "# Comment here about categorical data"
   ]
  },
  {
   "cell_type": "code",
   "execution_count": null,
   "id": "81740ed2",
   "metadata": {},
   "outputs": [],
   "source": []
  },
  {
   "cell_type": "markdown",
   "id": "5c5de0b8",
   "metadata": {},
   "source": [
    "### 3. Build a baseline simple linear regression model"
   ]
  },
  {
   "cell_type": "markdown",
   "id": "e44c3597",
   "metadata": {},
   "source": [
    "#### Identifying a Highly Correlated Predictor"
   ]
  },
  {
   "cell_type": "markdown",
   "id": "5e6aa1b8",
   "metadata": {},
   "source": [
    "The target variable is price. Looking at correlation coefficients for all predictor variables to find the one with the highest correlation with price."
   ]
  },
  {
   "cell_type": "code",
   "execution_count": 30,
   "id": "691bc339",
   "metadata": {},
   "outputs": [
    {
     "data": {
      "text/plain": [
       "id              -0.035254\n",
       "long            -0.033954\n",
       "lat              0.080874\n",
       "yr_renovated     0.085222\n",
       "sqft_lot         0.096905\n",
       "yr_built         0.106209\n",
       "floors           0.205952\n",
       "sqft_basement    0.238018\n",
       "sqft_garage      0.296795\n",
       "sqft_patio       0.309581\n",
       "bedrooms         0.337179\n",
       "bathrooms        0.517427\n",
       "sqft_above       0.583745\n",
       "sqft_living      0.655892\n",
       "price            1.000000\n",
       "Name: price, dtype: float64"
      ]
     },
     "execution_count": 30,
     "metadata": {},
     "output_type": "execute_result"
    }
   ],
   "source": [
    "kc_house_df.corr()[\"price\"].sort_values()"
   ]
  },
  {
   "cell_type": "code",
   "execution_count": 31,
   "id": "718f91e7",
   "metadata": {},
   "outputs": [],
   "source": [
    "most_correlated = \"sqft_living\""
   ]
  },
  {
   "cell_type": "code",
   "execution_count": null,
   "id": "55204943",
   "metadata": {},
   "outputs": [],
   "source": []
  },
  {
   "cell_type": "markdown",
   "id": "ae6a613c",
   "metadata": {},
   "source": [
    "#### Plotting the predictor vs price"
   ]
  },
  {
   "cell_type": "code",
   "execution_count": 32,
   "id": "cf6cdfa3",
   "metadata": {},
   "outputs": [
    {
     "data": {
      "text/plain": [
       "pandas.core.series.Series"
      ]
     },
     "execution_count": 32,
     "metadata": {},
     "output_type": "execute_result"
    }
   ],
   "source": [
    "type(kc_house_df[\"price\"])"
   ]
  },
  {
   "cell_type": "code",
   "execution_count": 33,
   "id": "7f912da1",
   "metadata": {},
   "outputs": [],
   "source": [
    "# Plotting a sample of 1000 data points, most_correlated vs. price"
   ]
  },
  {
   "cell_type": "code",
   "execution_count": 38,
   "id": "56a9ce5d",
   "metadata": {},
   "outputs": [
    {
     "data": {
      "text/plain": [
       "pandas.core.arrays.numpy_.PandasArray"
      ]
     },
     "execution_count": 38,
     "metadata": {},
     "output_type": "execute_result"
    }
   ],
   "source": [
    "type(kc_house_df[\"price\"].array)"
   ]
  },
  {
   "cell_type": "code",
   "execution_count": 39,
   "id": "ee0bb290",
   "metadata": {},
   "outputs": [],
   "source": [
    "# Calculating regression line\n",
    "\n",
    "x = kc_house_df[\"sqft_living\"].array\n",
    "y= kc_house_df[\"price\"].array\n",
    "\n",
    "m, b = np.polyfit(x, y, 1) "
   ]
  },
  {
   "cell_type": "code",
   "execution_count": 41,
   "id": "98146515",
   "metadata": {},
   "outputs": [
    {
     "data": {
      "image/png": "[encoded data removed]",
      "text/plain": [
       "<Figure size 640x480 with 1 Axes>"
      ]
     },
     "metadata": {},
     "output_type": "display_data"
    },
    {
     "data": {
      "text/plain": [
       "''"
      ]
     },
     "execution_count": 41,
     "metadata": {},
     "output_type": "execute_result"
    }
   ],
   "source": [
    "# Plotting scatter plot\n",
    "kc_house_df.sample(1000, random_state=1).plot.scatter(x=most_correlated, y=\"price\")\n",
    "\n",
    "# Plotting regression line\n",
    "plt.plot(x, m*x+b, color='green')\n",
    "\n",
    "# Defining titles and legend\n",
    "plt.title('Price vs Square Footage')\n",
    "plt.xlabel('Square Footage of Living Space in the Home')\n",
    "plt.ylabel('Sale Price')\n",
    "plt.show();\n",
    ";"
   ]
  },
  {
   "cell_type": "markdown",
   "id": "81482242",
   "metadata": {},
   "source": [
    "### Setting Up Variables for Regression"
   ]
  },
  {
   "cell_type": "markdown",
   "id": "fd81c0cf",
   "metadata": {},
   "source": [
    "Declaring y and X_baseline variables, where y is a Series containing price data and X_baseline is a DataFrame containing the column with the strongest correlation."
   ]
  },
  {
   "cell_type": "code",
   "execution_count": 77,
   "id": "5b3c4fb9",
   "metadata": {},
   "outputs": [],
   "source": [
    "y = kc_house_df[\"price\"]\n",
    "\n",
    "X_baseline = kc_house_df[[most_correlated]]"
   ]
  },
  {
   "cell_type": "markdown",
   "id": "bbb8eb0c",
   "metadata": {},
   "source": [
    "### Creating and Fitting Simple Linear Regression"
   ]
  },
  {
   "cell_type": "code",
   "execution_count": 78,
   "id": "254d1dbb",
   "metadata": {},
   "outputs": [],
   "source": [
    "baseline_model = sm.OLS(y, sm.add_constant(X_baseline))\n",
    "baseline_results = baseline_model.fit()"
   ]
  },
  {
   "cell_type": "code",
   "execution_count": null,
   "id": "37f4de2b",
   "metadata": {},
   "outputs": [],
   "source": []
  },
  {
   "cell_type": "markdown",
   "id": "53b0abfa",
   "metadata": {},
   "source": [
    "### 4. Evaluate and Interpret Baseline Model Results"
   ]
  },
  {
   "cell_type": "code",
   "execution_count": 79,
   "id": "505ec2b8",
   "metadata": {
    "scrolled": false
   },
   "outputs": [
    {
     "name": "stdout",
     "output_type": "stream",
     "text": [
      "                            OLS Regression Results                            \n",
      "==============================================================================\n",
      "Dep. Variable:                  price   R-squared:                       0.430\n",
      "Model:                            OLS   Adj. R-squared:                  0.430\n",
      "Method:                 Least Squares   F-statistic:                 2.259e+04\n",
      "Date:                Sat, 22 Jul 2023   Prob (F-statistic):               0.00\n",
      "Time:                        22:32:02   Log-Likelihood:            -4.3768e+05\n",
      "No. Observations:               29927   AIC:                         8.754e+05\n",
      "Df Residuals:                   29925   BIC:                         8.754e+05\n",
      "Df Model:                           1                                         \n",
      "Covariance Type:            nonrobust                                         \n",
      "===============================================================================\n",
      "                  coef    std err          t      P>|t|      [0.025      0.975]\n",
      "-------------------------------------------------------------------------------\n",
      "const        3.872e+04   7636.645      5.071      0.000    2.38e+04    5.37e+04\n",
      "sqft_living   496.9333      3.306    150.309      0.000     490.453     503.413\n",
      "==============================================================================\n",
      "Omnibus:                    15009.122   Durbin-Watson:                   1.925\n",
      "Prob(Omnibus):                  0.000   Jarque-Bera (JB):           199931.135\n",
      "Skew:                           2.091   Prob(JB):                         0.00\n",
      "Kurtosis:                      14.952   Cond. No.                     5.61e+03\n",
      "==============================================================================\n",
      "\n",
      "Notes:\n",
      "[1] Standard Errors assume that the covariance matrix of the errors is correctly specified.\n",
      "[2] The condition number is large, 5.61e+03. This might indicate that there are\n",
      "strong multicollinearity or other numerical problems.\n"
     ]
    }
   ],
   "source": [
    "print(baseline_results.summary())"
   ]
  },
  {
   "cell_type": "code",
   "execution_count": 83,
   "id": "287550eb",
   "metadata": {},
   "outputs": [
    {
     "data": {
      "text/plain": [
       "364886.1488466341"
      ]
     },
     "execution_count": 83,
     "metadata": {},
     "output_type": "execute_result"
    }
   ],
   "source": [
    "baseline_mae = mean_absolute_error(y, baseline_results.predict(sm.add_constant(X_baseline)))\n",
    "baseline_mae"
   ]
  },
  {
   "cell_type": "markdown",
   "id": "41fd7c9d",
   "metadata": {},
   "source": [
    "#### Model Interpretation"
   ]
  },
  {
   "cell_type": "markdown",
   "id": "a8167366",
   "metadata": {},
   "source": [
    "sqft_living was the attribute the most strongly correlated with price. Consequently, the model is describing this relationship. \n",
    "\n",
    "Overall, the model is not very significant and explains only 43% of the price. In a typical predicion, the model is off by about \\\\$ 364,886.\n",
    "\n",
    "* The intercept is about \\\\$38,720, meaning that a zero square foot living house would sell for \\\\$38,720.\n",
    "* The coefficient for sqft_living is about \\\\$497. This means that for each additional square foot of living space in the home. \n",
    "* ALPHA\n"
   ]
  },
  {
   "cell_type": "code",
   "execution_count": null,
   "id": "789f33d2",
   "metadata": {},
   "outputs": [],
   "source": []
  },
  {
   "cell_type": "markdown",
   "id": "3aec741d",
   "metadata": {},
   "source": [
    "### 5. Prepare a Categorical Feature for Multiple Regression Modeling"
   ]
  },
  {
   "cell_type": "markdown",
   "id": "e2c74384",
   "metadata": {},
   "source": [
    "#### Identifying a Promising Predictor"
   ]
  },
  {
   "cell_type": "code",
   "execution_count": 55,
   "id": "047402ee",
   "metadata": {},
   "outputs": [
    {
     "data": {
      "text/html": [
       "<div>\n",
       "<style scoped>\n",
       "    .dataframe tbody tr th:only-of-type {\n",
       "        vertical-align: middle;\n",
       "    }\n",
       "\n",
       "    .dataframe tbody tr th {\n",
       "        vertical-align: top;\n",
       "    }\n",
       "\n",
       "    .dataframe thead th {\n",
       "        text-align: right;\n",
       "    }\n",
       "</style>\n",
       "<table border=\"1\" class=\"dataframe\">\n",
       "  <thead>\n",
       "    <tr style=\"text-align: right;\">\n",
       "      <th></th>\n",
       "      <th>nuisance</th>\n",
       "      <th>view</th>\n",
       "      <th>condition</th>\n",
       "      <th>grade</th>\n",
       "      <th>heat_source</th>\n",
       "      <th>sewer_system</th>\n",
       "    </tr>\n",
       "  </thead>\n",
       "  <tbody>\n",
       "    <tr>\n",
       "      <th>0</th>\n",
       "      <td>NO</td>\n",
       "      <td>NONE</td>\n",
       "      <td>Good</td>\n",
       "      <td>7 Average</td>\n",
       "      <td>Gas</td>\n",
       "      <td>PUBLIC</td>\n",
       "    </tr>\n",
       "    <tr>\n",
       "      <th>1</th>\n",
       "      <td>YES</td>\n",
       "      <td>AVERAGE</td>\n",
       "      <td>Average</td>\n",
       "      <td>7 Average</td>\n",
       "      <td>Oil</td>\n",
       "      <td>PUBLIC</td>\n",
       "    </tr>\n",
       "    <tr>\n",
       "      <th>2</th>\n",
       "      <td>NO</td>\n",
       "      <td>AVERAGE</td>\n",
       "      <td>Average</td>\n",
       "      <td>7 Average</td>\n",
       "      <td>Gas</td>\n",
       "      <td>PUBLIC</td>\n",
       "    </tr>\n",
       "    <tr>\n",
       "      <th>3</th>\n",
       "      <td>NO</td>\n",
       "      <td>AVERAGE</td>\n",
       "      <td>Average</td>\n",
       "      <td>9 Better</td>\n",
       "      <td>Gas</td>\n",
       "      <td>PUBLIC</td>\n",
       "    </tr>\n",
       "    <tr>\n",
       "      <th>4</th>\n",
       "      <td>YES</td>\n",
       "      <td>NONE</td>\n",
       "      <td>Average</td>\n",
       "      <td>7 Average</td>\n",
       "      <td>Electricity</td>\n",
       "      <td>PUBLIC</td>\n",
       "    </tr>\n",
       "    <tr>\n",
       "      <th>...</th>\n",
       "      <td>...</td>\n",
       "      <td>...</td>\n",
       "      <td>...</td>\n",
       "      <td>...</td>\n",
       "      <td>...</td>\n",
       "      <td>...</td>\n",
       "    </tr>\n",
       "    <tr>\n",
       "      <th>30150</th>\n",
       "      <td>NO</td>\n",
       "      <td>NONE</td>\n",
       "      <td>Good</td>\n",
       "      <td>8 Good</td>\n",
       "      <td>Oil</td>\n",
       "      <td>PUBLIC</td>\n",
       "    </tr>\n",
       "    <tr>\n",
       "      <th>30151</th>\n",
       "      <td>NO</td>\n",
       "      <td>FAIR</td>\n",
       "      <td>Average</td>\n",
       "      <td>7 Average</td>\n",
       "      <td>Gas</td>\n",
       "      <td>PUBLIC</td>\n",
       "    </tr>\n",
       "    <tr>\n",
       "      <th>30152</th>\n",
       "      <td>YES</td>\n",
       "      <td>NONE</td>\n",
       "      <td>Average</td>\n",
       "      <td>7 Average</td>\n",
       "      <td>Gas</td>\n",
       "      <td>PUBLIC</td>\n",
       "    </tr>\n",
       "    <tr>\n",
       "      <th>30153</th>\n",
       "      <td>NO</td>\n",
       "      <td>NONE</td>\n",
       "      <td>Average</td>\n",
       "      <td>8 Good</td>\n",
       "      <td>Gas</td>\n",
       "      <td>PUBLIC</td>\n",
       "    </tr>\n",
       "    <tr>\n",
       "      <th>30154</th>\n",
       "      <td>NO</td>\n",
       "      <td>NONE</td>\n",
       "      <td>Average</td>\n",
       "      <td>7 Average</td>\n",
       "      <td>Oil</td>\n",
       "      <td>PUBLIC</td>\n",
       "    </tr>\n",
       "  </tbody>\n",
       "</table>\n",
       "<p>29927 rows × 6 columns</p>\n",
       "</div>"
      ],
      "text/plain": [
       "      nuisance     view condition      grade  heat_source sewer_system\n",
       "0           NO     NONE      Good  7 Average          Gas       PUBLIC\n",
       "1          YES  AVERAGE   Average  7 Average          Oil       PUBLIC\n",
       "2           NO  AVERAGE   Average  7 Average          Gas       PUBLIC\n",
       "3           NO  AVERAGE   Average   9 Better          Gas       PUBLIC\n",
       "4          YES     NONE   Average  7 Average  Electricity       PUBLIC\n",
       "...        ...      ...       ...        ...          ...          ...\n",
       "30150       NO     NONE      Good     8 Good          Oil       PUBLIC\n",
       "30151       NO     FAIR   Average  7 Average          Gas       PUBLIC\n",
       "30152      YES     NONE   Average  7 Average          Gas       PUBLIC\n",
       "30153       NO     NONE   Average     8 Good          Gas       PUBLIC\n",
       "30154       NO     NONE   Average  7 Average          Oil       PUBLIC\n",
       "\n",
       "[29927 rows x 6 columns]"
      ]
     },
     "execution_count": 55,
     "metadata": {},
     "output_type": "execute_result"
    }
   ],
   "source": [
    "categoricals"
   ]
  },
  {
   "cell_type": "code",
   "execution_count": null,
   "id": "4bf412be",
   "metadata": {},
   "outputs": [],
   "source": [
    "fig, axes = plt.subplots(ncols=len(categoricals), figsize=(12,5))\n",
    "\n",
    "for index, feature in enumerate(categoricals):\n",
    "    kc_house_df.groupby(feature).mean().plot.bar(\n",
    "    y=\"price\", ax=axes[index])"
   ]
  },
  {
   "cell_type": "code",
   "execution_count": null,
   "id": "26d5ce93",
   "metadata": {},
   "outputs": [],
   "source": [
    "cat_feature = \"\""
   ]
  },
  {
   "cell_type": "code",
   "execution_count": null,
   "id": "02b25656",
   "metadata": {},
   "outputs": [],
   "source": []
  },
  {
   "cell_type": "markdown",
   "id": "b4e38360",
   "metadata": {},
   "source": [
    "#### Setting Up Variables for Regression"
   ]
  },
  {
   "cell_type": "code",
   "execution_count": null,
   "id": "7da8f718",
   "metadata": {},
   "outputs": [],
   "source": []
  }
 ],
 "metadata": {
  "kernelspec": {
   "display_name": "Python 3 (ipykernel)",
   "language": "python",
   "name": "python3"
  },
  "language_info": {
   "codemirror_mode": {
    "name": "ipython",
    "version": 3
   },
   "file_extension": ".py",
   "mimetype": "text/x-python",
   "name": "python",
   "nbconvert_exporter": "python",
   "pygments_lexer": "ipython3",
   "version": "3.9.13"
  }
 },
 "nbformat": 4,
 "nbformat_minor": 5
}
